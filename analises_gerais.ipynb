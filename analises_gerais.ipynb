{
 "cells": [
  {
   "cell_type": "markdown",
   "metadata": {},
   "source": [
    "# Algumas análises gerais"
   ]
  },
  {
   "cell_type": "code",
   "execution_count": 18,
   "metadata": {},
   "outputs": [],
   "source": [
    "%pip install pandas\n",
    "import pandas as pd"
   ]
  },
  {
   "cell_type": "code",
   "execution_count": 19,
   "metadata": {},
   "outputs": [
    {
     "data": {
      "text/html": [
       "<div>\n",
       "<style scoped>\n",
       "    .dataframe tbody tr th:only-of-type {\n",
       "        vertical-align: middle;\n",
       "    }\n",
       "\n",
       "    .dataframe tbody tr th {\n",
       "        vertical-align: top;\n",
       "    }\n",
       "\n",
       "    .dataframe thead th {\n",
       "        text-align: right;\n",
       "    }\n",
       "</style>\n",
       "<table border=\"1\" class=\"dataframe\">\n",
       "  <thead>\n",
       "    <tr style=\"text-align: right;\">\n",
       "      <th></th>\n",
       "      <th>id</th>\n",
       "      <th>gender</th>\n",
       "      <th>age</th>\n",
       "      <th>hypertension</th>\n",
       "      <th>heart_disease</th>\n",
       "      <th>ever_married</th>\n",
       "      <th>work_type</th>\n",
       "      <th>residence_type</th>\n",
       "      <th>avg_glucose_level</th>\n",
       "      <th>bmi</th>\n",
       "      <th>smoking_status</th>\n",
       "      <th>stroke</th>\n",
       "    </tr>\n",
       "  </thead>\n",
       "  <tbody>\n",
       "    <tr>\n",
       "      <th>162</th>\n",
       "      <td>69768</td>\n",
       "      <td>Female</td>\n",
       "      <td>1</td>\n",
       "      <td>0</td>\n",
       "      <td>0</td>\n",
       "      <td>No</td>\n",
       "      <td>children</td>\n",
       "      <td>Urban</td>\n",
       "      <td>70.37</td>\n",
       "      <td>NaN</td>\n",
       "      <td>Unknown</td>\n",
       "      <td>1</td>\n",
       "    </tr>\n",
       "    <tr>\n",
       "      <th>245</th>\n",
       "      <td>49669</td>\n",
       "      <td>Female</td>\n",
       "      <td>14</td>\n",
       "      <td>0</td>\n",
       "      <td>0</td>\n",
       "      <td>No</td>\n",
       "      <td>children</td>\n",
       "      <td>Rural</td>\n",
       "      <td>57.93</td>\n",
       "      <td>30.9</td>\n",
       "      <td>Unknown</td>\n",
       "      <td>1</td>\n",
       "    </tr>\n",
       "    <tr>\n",
       "      <th>182</th>\n",
       "      <td>39912</td>\n",
       "      <td>Female</td>\n",
       "      <td>32</td>\n",
       "      <td>0</td>\n",
       "      <td>0</td>\n",
       "      <td>Yes</td>\n",
       "      <td>Private</td>\n",
       "      <td>Rural</td>\n",
       "      <td>76.13</td>\n",
       "      <td>29.9</td>\n",
       "      <td>smokes</td>\n",
       "      <td>1</td>\n",
       "    </tr>\n",
       "    <tr>\n",
       "      <th>118</th>\n",
       "      <td>31720</td>\n",
       "      <td>Female</td>\n",
       "      <td>38</td>\n",
       "      <td>0</td>\n",
       "      <td>0</td>\n",
       "      <td>No</td>\n",
       "      <td>Self-employed</td>\n",
       "      <td>Urban</td>\n",
       "      <td>82.28</td>\n",
       "      <td>24.0</td>\n",
       "      <td>formerly smoked</td>\n",
       "      <td>1</td>\n",
       "    </tr>\n",
       "    <tr>\n",
       "      <th>133</th>\n",
       "      <td>31563</td>\n",
       "      <td>Female</td>\n",
       "      <td>38</td>\n",
       "      <td>0</td>\n",
       "      <td>0</td>\n",
       "      <td>Yes</td>\n",
       "      <td>Private</td>\n",
       "      <td>Rural</td>\n",
       "      <td>101.45</td>\n",
       "      <td>NaN</td>\n",
       "      <td>formerly smoked</td>\n",
       "      <td>1</td>\n",
       "    </tr>\n",
       "    <tr>\n",
       "      <th>...</th>\n",
       "      <td>...</td>\n",
       "      <td>...</td>\n",
       "      <td>...</td>\n",
       "      <td>...</td>\n",
       "      <td>...</td>\n",
       "      <td>...</td>\n",
       "      <td>...</td>\n",
       "      <td>...</td>\n",
       "      <td>...</td>\n",
       "      <td>...</td>\n",
       "      <td>...</td>\n",
       "      <td>...</td>\n",
       "    </tr>\n",
       "    <tr>\n",
       "      <th>56</th>\n",
       "      <td>38829</td>\n",
       "      <td>Female</td>\n",
       "      <td>82</td>\n",
       "      <td>0</td>\n",
       "      <td>0</td>\n",
       "      <td>Yes</td>\n",
       "      <td>Private</td>\n",
       "      <td>Rural</td>\n",
       "      <td>59.32</td>\n",
       "      <td>33.2</td>\n",
       "      <td>never smoked</td>\n",
       "      <td>1</td>\n",
       "    </tr>\n",
       "    <tr>\n",
       "      <th>128</th>\n",
       "      <td>37132</td>\n",
       "      <td>Male</td>\n",
       "      <td>82</td>\n",
       "      <td>0</td>\n",
       "      <td>0</td>\n",
       "      <td>Yes</td>\n",
       "      <td>Govt_job</td>\n",
       "      <td>Urban</td>\n",
       "      <td>200.59</td>\n",
       "      <td>29.0</td>\n",
       "      <td>formerly smoked</td>\n",
       "      <td>1</td>\n",
       "    </tr>\n",
       "    <tr>\n",
       "      <th>140</th>\n",
       "      <td>20439</td>\n",
       "      <td>Male</td>\n",
       "      <td>82</td>\n",
       "      <td>0</td>\n",
       "      <td>1</td>\n",
       "      <td>Yes</td>\n",
       "      <td>Govt_job</td>\n",
       "      <td>Rural</td>\n",
       "      <td>103.68</td>\n",
       "      <td>25.0</td>\n",
       "      <td>never smoked</td>\n",
       "      <td>1</td>\n",
       "    </tr>\n",
       "    <tr>\n",
       "      <th>187</th>\n",
       "      <td>67895</td>\n",
       "      <td>Female</td>\n",
       "      <td>82</td>\n",
       "      <td>1</td>\n",
       "      <td>1</td>\n",
       "      <td>Yes</td>\n",
       "      <td>Govt_job</td>\n",
       "      <td>Urban</td>\n",
       "      <td>215.94</td>\n",
       "      <td>27.9</td>\n",
       "      <td>formerly smoked</td>\n",
       "      <td>1</td>\n",
       "    </tr>\n",
       "    <tr>\n",
       "      <th>188</th>\n",
       "      <td>30184</td>\n",
       "      <td>Male</td>\n",
       "      <td>82</td>\n",
       "      <td>0</td>\n",
       "      <td>0</td>\n",
       "      <td>Yes</td>\n",
       "      <td>Private</td>\n",
       "      <td>Rural</td>\n",
       "      <td>86.62</td>\n",
       "      <td>29.5</td>\n",
       "      <td>formerly smoked</td>\n",
       "      <td>1</td>\n",
       "    </tr>\n",
       "  </tbody>\n",
       "</table>\n",
       "<p>249 rows × 12 columns</p>\n",
       "</div>"
      ],
      "text/plain": [
       "        id  gender  age  hypertension  heart_disease ever_married  \\\n",
       "162  69768  Female    1             0              0           No   \n",
       "245  49669  Female   14             0              0           No   \n",
       "182  39912  Female   32             0              0          Yes   \n",
       "118  31720  Female   38             0              0           No   \n",
       "133  31563  Female   38             0              0          Yes   \n",
       "..     ...     ...  ...           ...            ...          ...   \n",
       "56   38829  Female   82             0              0          Yes   \n",
       "128  37132    Male   82             0              0          Yes   \n",
       "140  20439    Male   82             0              1          Yes   \n",
       "187  67895  Female   82             1              1          Yes   \n",
       "188  30184    Male   82             0              0          Yes   \n",
       "\n",
       "         work_type residence_type  avg_glucose_level   bmi   smoking_status  \\\n",
       "162       children          Urban              70.37   NaN          Unknown   \n",
       "245       children          Rural              57.93  30.9          Unknown   \n",
       "182        Private          Rural              76.13  29.9           smokes   \n",
       "118  Self-employed          Urban              82.28  24.0  formerly smoked   \n",
       "133        Private          Rural             101.45   NaN  formerly smoked   \n",
       "..             ...            ...                ...   ...              ...   \n",
       "56         Private          Rural              59.32  33.2     never smoked   \n",
       "128       Govt_job          Urban             200.59  29.0  formerly smoked   \n",
       "140       Govt_job          Rural             103.68  25.0     never smoked   \n",
       "187       Govt_job          Urban             215.94  27.9  formerly smoked   \n",
       "188        Private          Rural              86.62  29.5  formerly smoked   \n",
       "\n",
       "     stroke  \n",
       "162       1  \n",
       "245       1  \n",
       "182       1  \n",
       "118       1  \n",
       "133       1  \n",
       "..      ...  \n",
       "56        1  \n",
       "128       1  \n",
       "140       1  \n",
       "187       1  \n",
       "188       1  \n",
       "\n",
       "[249 rows x 12 columns]"
      ]
     },
     "execution_count": 19,
     "metadata": {},
     "output_type": "execute_result"
    }
   ],
   "source": [
    "data_AVC = pd.read_csv('data.csv')\n",
    "data_AVC = data_AVC.rename(columns={'Residence_type': 'residence_type'})\n",
    "data_AVC = data_AVC.sort_values(by=['age'], kind='stable')\n",
    "data_AVC['age'] = data_AVC['age'].astype(int)\n",
    "data_AVC = data_AVC[data_AVC['stroke'] == 1]\n",
    "data_AVC"
   ]
  },
  {
   "cell_type": "markdown",
   "metadata": {},
   "source": [
    "### Análise de Idade"
   ]
  },
  {
   "cell_type": "code",
   "execution_count": 20,
   "metadata": {},
   "outputs": [
    {
     "name": "stdout",
     "output_type": "stream",
     "text": [
      "A maioria dos casos de AVC ocorreu em mulheres\n"
     ]
    }
   ],
   "source": [
    "contagem_genero = data_AVC['gender'].value_counts()\n",
    "\n",
    "if contagem_genero.idxmax() == 'Male':\n",
    "    print(\"A maioria dos casos de AVC ocorreu em homens\")\n",
    "else:\n",
    "    print(\"A maioria dos casos de AVC ocorreu em mulheres\")"
   ]
  },
  {
   "cell_type": "markdown",
   "metadata": {},
   "source": [
    "### Análise de Status de Fumo"
   ]
  },
  {
   "cell_type": "code",
   "execution_count": 21,
   "metadata": {},
   "outputs": [
    {
     "name": "stdout",
     "output_type": "stream",
     "text": [
      "A maioria dos casos de AVC ocorreu em pessoas que nunca fumaram\n"
     ]
    }
   ],
   "source": [
    "contagem_fumante = data_AVC['smoking_status'].value_counts()\n",
    "\n",
    "freq_fumante = contagem_fumante.idxmax()\n",
    "\n",
    "if freq_fumante == 'smokes':\n",
    "    print(\"A maioria dos casos de AVC ocorreu em fumantes\")\n",
    "elif freq_fumante == 'formely smoked':\n",
    "    print(\"A maioria dos casos de AVC ocorreu em ex-fumantes\")\n",
    "elif freq_fumante == 'never smoked':\n",
    "    print(\"A maioria dos casos de AVC ocorreu em pessoas que nunca fumaram\")\n",
    "else:\n",
    "    print(\"A maioria dos casos de AVC ocorreu em pessoas cujo status de fum é desconhecido\")"
   ]
  },
  {
   "cell_type": "markdown",
   "metadata": {},
   "source": [
    "### Análise de hipertensão"
   ]
  },
  {
   "cell_type": "code",
   "execution_count": 22,
   "metadata": {},
   "outputs": [
    {
     "name": "stdout",
     "output_type": "stream",
     "text": [
      "A maioria dos casos de AVC ocorreu em pessoas não hipertensas\n"
     ]
    }
   ],
   "source": [
    "verificacao_hipertensao = data_AVC['hypertension'].value_counts()\n",
    "\n",
    "if verificacao_hipertensao.idxmax() == 1:\n",
    "    print(\"A maioria dos casos de AVC ocorreu em pessoas hipertensas\")   \n",
    "else:\n",
    "    print(\"A maioria dos casos de AVC ocorreu em pessoas não hipertensas\")"
   ]
  },
  {
   "cell_type": "markdown",
   "metadata": {},
   "source": [
    "### Análise em doenças do coração"
   ]
  },
  {
   "cell_type": "code",
   "execution_count": 23,
   "metadata": {},
   "outputs": [
    {
     "name": "stdout",
     "output_type": "stream",
     "text": [
      "A maioria dos casos de AVC ocorreu em pessoas sem doenças do coração\n"
     ]
    }
   ],
   "source": [
    "verificacao_coracao = data_AVC['heart_disease'].value_counts()\n",
    "\n",
    "if verificacao_coracao.idxmax() == 1:\n",
    "    print(\"A maioria dos casos de AVC ocorreu em pessoas com doenças do coração\")\n",
    "else:\n",
    "    print(\"A maioria dos casos de AVC ocorreu em pessoas sem doenças do coração\")"
   ]
  },
  {
   "cell_type": "markdown",
   "metadata": {},
   "source": [
    "## Análise em casamentos"
   ]
  },
  {
   "cell_type": "code",
   "execution_count": 24,
   "metadata": {},
   "outputs": [
    {
     "name": "stdout",
     "output_type": "stream",
     "text": [
      "A maioria dos casos de AVC ocorreu em pessoas casadas\n"
     ]
    }
   ],
   "source": [
    "verificacao_casamento = data_AVC['ever_married'].value_counts()\n",
    "\n",
    "if verificacao_coracao.idxmax() == 'No':\n",
    "    print(\"A maioria dos casos de AVC ocorreu em pessoas não casadas\")\n",
    "else:\n",
    "        print(\"A maioria dos casos de AVC ocorreu em pessoas casadas\")"
   ]
  },
  {
   "cell_type": "markdown",
   "metadata": {},
   "source": [
    "## Análise em tipos de residência"
   ]
  },
  {
   "cell_type": "code",
   "execution_count": 25,
   "metadata": {},
   "outputs": [
    {
     "name": "stdout",
     "output_type": "stream",
     "text": [
      "A maioria dos casos de AVC ocorreu em pessoas que moram no meio urbano\n"
     ]
    }
   ],
   "source": [
    "contagem_residencia = data_AVC['residence_type'].value_counts()\n",
    "\n",
    "if contagem_residencia.idxmax() == 'Urban':\n",
    "    print(\"A maioria dos casos de AVC ocorreu em pessoas que moram no meio urbano\")\n",
    "else:\n",
    "    print(\"A maioria dos casos de AVC ocorreu em pessoas que moram no meio rural\")\n"
   ]
  },
  {
   "cell_type": "markdown",
   "metadata": {},
   "source": [
    "## Análise em tipos de trabalho"
   ]
  },
  {
   "cell_type": "code",
   "execution_count": 26,
   "metadata": {},
   "outputs": [
    {
     "name": "stdout",
     "output_type": "stream",
     "text": [
      "A maioria dos casos de AVC ocorreu em pessoas com trabalho privado\n"
     ]
    }
   ],
   "source": [
    "contagem_trabalho = data_AVC['work_type'].value_counts()\n",
    "\n",
    "maior_tipo = contagem_trabalho.idxmax()\n",
    "\n",
    "\"children\", \"Govt_jov\", \"Never_worked\", \"Private\" or \"Self-employed\"\n",
    "if maior_tipo == 'children':\n",
    "        print(\"A maioria dos casos de AVC ocorreu em pessoas que trabalham com crianças\")\n",
    "elif maior_tipo == 'Govt_jov':\n",
    "    print(\"A maioria dos casos de AVC ocorreu em pessoas que trabalham com governo\")\n",
    "elif maior_tipo == 'Private':\n",
    "    print(\"A maioria dos casos de AVC ocorreu em pessoas com trabalho privado\")\n",
    "elif maior_tipo == 'Self-employed':\n",
    "    print(\"A maioria dos casos de AVC ocorreu em pessoas que são empreendedores\")\n",
    "else:\n",
    "    print(\"A maioria dos casos de AVC ocorreu em pessoas que nunca trabalharam\")"
   ]
  }
 ],
 "metadata": {
  "kernelspec": {
   "display_name": "Python 3",
   "language": "python",
   "name": "python3"
  },
  "language_info": {
   "codemirror_mode": {
    "name": "ipython",
    "version": 3
   },
   "file_extension": ".py",
   "mimetype": "text/x-python",
   "name": "python",
   "nbconvert_exporter": "python",
   "pygments_lexer": "ipython3",
   "version": "3.9.2"
  }
 },
 "nbformat": 4,
 "nbformat_minor": 2
}
