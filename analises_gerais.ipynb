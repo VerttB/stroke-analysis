{
 "cells": [
  {
   "cell_type": "markdown",
   "metadata": {},
   "source": [
    "# Análises e gráficos das variáveis quantitativas"
   ]
  },
  {
   "cell_type": "code",
   "execution_count": 1,
   "metadata": {},
   "outputs": [
    {
     "name": "stdout",
     "output_type": "stream",
     "text": [
      "Defaulting to user installation because normal site-packages is not writeable\n",
      "Requirement already satisfied: pandas in /home/Letícia/.local/lib/python3.9/site-packages (2.1.3)\n"
     ]
    },
    {
     "name": "stdout",
     "output_type": "stream",
     "text": [
      "Requirement already satisfied: numpy<2,>=1.22.4 in /home/Letícia/.local/lib/python3.9/site-packages (from pandas) (1.26.2)\n",
      "Requirement already satisfied: python-dateutil>=2.8.2 in /home/Letícia/.local/lib/python3.9/site-packages (from pandas) (2.8.2)\n",
      "Requirement already satisfied: pytz>=2020.1 in /home/Letícia/.local/lib/python3.9/site-packages (from pandas) (2023.3.post1)\n",
      "Requirement already satisfied: tzdata>=2022.1 in /home/Letícia/.local/lib/python3.9/site-packages (from pandas) (2023.3)\n",
      "Requirement already satisfied: six>=1.5 in /usr/lib/python3/dist-packages (from python-dateutil>=2.8.2->pandas) (1.16.0)\n",
      "Note: you may need to restart the kernel to use updated packages.\n",
      "Defaulting to user installation because normal site-packages is not writeable\n",
      "Requirement already satisfied: plotly.express in /home/Letícia/.local/lib/python3.9/site-packages (0.4.1)\n",
      "Requirement already satisfied: pandas>=0.20.0 in /home/Letícia/.local/lib/python3.9/site-packages (from plotly.express) (2.1.3)\n",
      "Requirement already satisfied: plotly>=4.1.0 in /home/Letícia/.local/lib/python3.9/site-packages (from plotly.express) (5.20.0)\n",
      "Requirement already satisfied: statsmodels>=0.9.0 in /home/Letícia/.local/lib/python3.9/site-packages (from plotly.express) (0.14.1)\n",
      "Requirement already satisfied: scipy>=0.18 in /home/Letícia/.local/lib/python3.9/site-packages (from plotly.express) (1.13.0)\n",
      "Requirement already satisfied: patsy>=0.5 in /home/Letícia/.local/lib/python3.9/site-packages (from plotly.express) (0.5.6)\n",
      "Requirement already satisfied: numpy>=1.11 in /home/Letícia/.local/lib/python3.9/site-packages (from plotly.express) (1.26.2)\n",
      "Requirement already satisfied: python-dateutil>=2.8.2 in /home/Letícia/.local/lib/python3.9/site-packages (from pandas>=0.20.0->plotly.express) (2.8.2)\n",
      "Requirement already satisfied: pytz>=2020.1 in /home/Letícia/.local/lib/python3.9/site-packages (from pandas>=0.20.0->plotly.express) (2023.3.post1)\n",
      "Requirement already satisfied: tzdata>=2022.1 in /home/Letícia/.local/lib/python3.9/site-packages (from pandas>=0.20.0->plotly.express) (2023.3)\n",
      "Requirement already satisfied: six in /usr/lib/python3/dist-packages (from patsy>=0.5->plotly.express) (1.16.0)\n",
      "Requirement already satisfied: tenacity>=6.2.0 in /home/Letícia/.local/lib/python3.9/site-packages (from plotly>=4.1.0->plotly.express) (8.2.3)\n",
      "Requirement already satisfied: packaging in /home/Letícia/.local/lib/python3.9/site-packages (from plotly>=4.1.0->plotly.express) (23.2)\n",
      "Note: you may need to restart the kernel to use updated packages.\n"
     ]
    }
   ],
   "source": [
    "%pip install pandas\n",
    "%pip install plotly.express\n",
    "\n",
    "import pandas as pd\n",
    "from plotly import express as px\n",
    "from src.dataframes import data_AVC"
   ]
  },
  {
   "cell_type": "markdown",
   "metadata": {},
   "source": [
    "## Idade"
   ]
  },
  {
   "cell_type": "code",
   "execution_count": 2,
   "metadata": {},
   "outputs": [
    {
     "name": "stdout",
     "output_type": "stream",
     "text": [
      "A maioria dos casos de AVC ocorreu em mulheres\n"
     ]
    }
   ],
   "source": [
    "contagem_genero = data_AVC['gender'].value_counts()\n",
    "\n",
    "if contagem_genero.idxmax() == 'Male':\n",
    "    print(\"A maioria dos casos de AVC ocorreu em homens\")\n",
    "else:\n",
    "    print(\"A maioria dos casos de AVC ocorreu em mulheres\")"
   ]
  },
  {
   "cell_type": "markdown",
   "metadata": {},
   "source": [
    "## Trabalhando só com as variáveis quantitativas"
   ]
  },
  {
   "cell_type": "markdown",
   "metadata": {},
   "source": [
    "### Status de Fumo"
   ]
  },
  {
   "cell_type": "code",
   "execution_count": 23,
   "metadata": {},
   "outputs": [
    {
     "name": "stdout",
     "output_type": "stream",
     "text": [
      "A maioria dos casos de AVC ocorreu em pessoas que nunca fumaram\n"
     ]
    }
   ],
   "source": [
    "contagem_fumante = data_AVC['smoking_status'].value_counts()\n",
    "\n",
    "freq_fumante = contagem_fumante.idxmax()\n",
    "\n",
    "if freq_fumante == 'smokes':\n",
    "    print(\"A maioria dos casos de AVC ocorreu em fumantes\")\n",
    "elif freq_fumante == 'formely smoked':\n",
    "    print(\"A maioria dos casos de AVC ocorreu em ex-fumantes\")\n",
    "elif freq_fumante == 'never smoked':\n",
    "    print(\"A maioria dos casos de AVC ocorreu em pessoas que nunca fumaram\")\n",
    "else:\n",
    "    print(\"A maioria dos casos de AVC ocorreu em pessoas cujo status de fum é desconhecido\")"
   ]
  },
  {
   "cell_type": "markdown",
   "metadata": {},
   "source": [
    "### Análise de hipertensão"
   ]
  },
  {
   "cell_type": "code",
   "execution_count": 5,
   "metadata": {},
   "outputs": [
    {
     "name": "stdout",
     "output_type": "stream",
     "text": [
      "A maioria dos casos de AVC ocorreu em pessoas não hipertensas\n"
     ]
    }
   ],
   "source": [
    "verificacao_hipertensao = data_AVC['hypertension'].value_counts()\n",
    "\n",
    "if verificacao_hipertensao.idxmax() == 1:\n",
    "    print(\"A maioria dos casos de AVC ocorreu em pessoas hipertensas\")   \n",
    "else:\n",
    "    print(\"A maioria dos casos de AVC ocorreu em pessoas não hipertensas\")"
   ]
  },
  {
   "cell_type": "markdown",
   "metadata": {},
   "source": [
    "### Análise em doenças do coração"
   ]
  },
  {
   "cell_type": "code",
   "execution_count": 6,
   "metadata": {},
   "outputs": [
    {
     "name": "stdout",
     "output_type": "stream",
     "text": [
      "A maioria dos casos de AVC ocorreu em pessoas sem doenças do coração\n"
     ]
    }
   ],
   "source": [
    "verificacao_coracao = data_AVC['heart_disease'].value_counts()\n",
    "\n",
    "if verificacao_coracao.idxmax() == 1:\n",
    "    print(\"A maioria dos casos de AVC ocorreu em pessoas com doenças do coração\")\n",
    "else:\n",
    "    print(\"A maioria dos casos de AVC ocorreu em pessoas sem doenças do coração\")"
   ]
  },
  {
   "cell_type": "markdown",
   "metadata": {},
   "source": [
    "## Análise em casamentos"
   ]
  },
  {
   "cell_type": "code",
   "execution_count": 7,
   "metadata": {},
   "outputs": [
    {
     "name": "stdout",
     "output_type": "stream",
     "text": [
      "A maioria dos casos de AVC ocorreu em pessoas casadas\n"
     ]
    }
   ],
   "source": [
    "verificacao_casamento = data_AVC['ever_married'].value_counts()\n",
    "\n",
    "if verificacao_coracao.idxmax() == 'No':\n",
    "    print(\"A maioria dos casos de AVC ocorreu em pessoas não casadas\")\n",
    "else:\n",
    "        print(\"A maioria dos casos de AVC ocorreu em pessoas casadas\")"
   ]
  },
  {
   "cell_type": "markdown",
   "metadata": {},
   "source": [
    "## Análise em tipos de residência"
   ]
  },
  {
   "cell_type": "code",
   "execution_count": 8,
   "metadata": {},
   "outputs": [
    {
     "name": "stdout",
     "output_type": "stream",
     "text": [
      "A maioria dos casos de AVC ocorreu em pessoas que moram no meio urbano\n"
     ]
    }
   ],
   "source": [
    "contagem_residencia = data_AVC['residence_type'].value_counts()\n",
    "\n",
    "if contagem_residencia.idxmax() == 'Urban':\n",
    "    print(\"A maioria dos casos de AVC ocorreu em pessoas que moram no meio urbano\")\n",
    "else:\n",
    "    print(\"A maioria dos casos de AVC ocorreu em pessoas que moram no meio rural\")\n"
   ]
  },
  {
   "cell_type": "markdown",
   "metadata": {},
   "source": [
    "## Análise em tipos de trabalho"
   ]
  },
  {
   "cell_type": "code",
   "execution_count": 9,
   "metadata": {},
   "outputs": [
    {
     "name": "stdout",
     "output_type": "stream",
     "text": [
      "A maioria dos casos de AVC ocorreu em pessoas com trabalho privado\n"
     ]
    }
   ],
   "source": [
    "contagem_trabalho = data_AVC['work_type'].value_counts()\n",
    "\n",
    "maior_tipo = contagem_trabalho.idxmax()\n",
    "\n",
    "\"children\", \"Govt_jov\", \"Never_worked\", \"Private\" or \"Self-employed\"\n",
    "if maior_tipo == 'children':\n",
    "        print(\"A maioria dos casos de AVC ocorreu em pessoas que trabalham com crianças\")\n",
    "elif maior_tipo == 'Govt_jov':\n",
    "    print(\"A maioria dos casos de AVC ocorreu em pessoas que trabalham com governo\")\n",
    "elif maior_tipo == 'Private':\n",
    "    print(\"A maioria dos casos de AVC ocorreu em pessoas com trabalho privado\")\n",
    "elif maior_tipo == 'Self-employed':\n",
    "    print(\"A maioria dos casos de AVC ocorreu em pessoas que são empreendedores\")\n",
    "else:\n",
    "    print(\"A maioria dos casos de AVC ocorreu em pessoas que nunca trabalharam\")"
   ]
  }
 ],
 "metadata": {
  "kernelspec": {
   "display_name": "Python 3",
   "language": "python",
   "name": "python3"
  },
  "language_info": {
   "codemirror_mode": {
    "name": "ipython",
    "version": 3
   },
   "file_extension": ".py",
   "mimetype": "text/x-python",
   "name": "python",
   "nbconvert_exporter": "python",
   "pygments_lexer": "ipython3",
   "version": "3.9.2"
  }
 },
 "nbformat": 4,
 "nbformat_minor": 2
}
