{
 "cells": [
  {
   "cell_type": "code",
   "execution_count": 15,
   "metadata": {},
   "outputs": [
    {
     "name": "stdout",
     "output_type": "stream",
     "text": [
      "Defaulting to user installation because normal site-packages is not writeable\n",
      "Requirement already satisfied: pandas in /home/Letícia/.local/lib/python3.9/site-packages (2.1.3)\n",
      "Requirement already satisfied: numpy<2,>=1.22.4 in /home/Letícia/.local/lib/python3.9/site-packages (from pandas) (1.26.2)\n",
      "Requirement already satisfied: python-dateutil>=2.8.2 in /home/Letícia/.local/lib/python3.9/site-packages (from pandas) (2.8.2)\n",
      "Requirement already satisfied: pytz>=2020.1 in /home/Letícia/.local/lib/python3.9/site-packages (from pandas) (2023.3.post1)\n",
      "Requirement already satisfied: tzdata>=2022.1 in /home/Letícia/.local/lib/python3.9/site-packages (from pandas) (2023.3)\n",
      "Requirement already satisfied: six>=1.5 in /usr/lib/python3/dist-packages (from python-dateutil>=2.8.2->pandas) (1.16.0)\n",
      "Note: you may need to restart the kernel to use updated packages.\n",
      "Defaulting to user installation because normal site-packages is not writeable\n",
      "Requirement already satisfied: plotly.express in /home/Letícia/.local/lib/python3.9/site-packages (0.4.1)\n",
      "Requirement already satisfied: pandas>=0.20.0 in /home/Letícia/.local/lib/python3.9/site-packages (from plotly.express) (2.1.3)\n",
      "Requirement already satisfied: plotly>=4.1.0 in /home/Letícia/.local/lib/python3.9/site-packages (from plotly.express) (5.20.0)\n",
      "Requirement already satisfied: statsmodels>=0.9.0 in /home/Letícia/.local/lib/python3.9/site-packages (from plotly.express) (0.14.1)\n",
      "Requirement already satisfied: scipy>=0.18 in /home/Letícia/.local/lib/python3.9/site-packages (from plotly.express) (1.13.0)\n",
      "Requirement already satisfied: patsy>=0.5 in /home/Letícia/.local/lib/python3.9/site-packages (from plotly.express) (0.5.6)\n",
      "Requirement already satisfied: numpy>=1.11 in /home/Letícia/.local/lib/python3.9/site-packages (from plotly.express) (1.26.2)\n",
      "Requirement already satisfied: python-dateutil>=2.8.2 in /home/Letícia/.local/lib/python3.9/site-packages (from pandas>=0.20.0->plotly.express) (2.8.2)\n",
      "Requirement already satisfied: pytz>=2020.1 in /home/Letícia/.local/lib/python3.9/site-packages (from pandas>=0.20.0->plotly.express) (2023.3.post1)\n",
      "Requirement already satisfied: tzdata>=2022.1 in /home/Letícia/.local/lib/python3.9/site-packages (from pandas>=0.20.0->plotly.express) (2023.3)\n",
      "Requirement already satisfied: six in /usr/lib/python3/dist-packages (from patsy>=0.5->plotly.express) (1.16.0)\n",
      "Requirement already satisfied: tenacity>=6.2.0 in /home/Letícia/.local/lib/python3.9/site-packages (from plotly>=4.1.0->plotly.express) (8.2.3)\n",
      "Requirement already satisfied: packaging in /home/Letícia/.local/lib/python3.9/site-packages (from plotly>=4.1.0->plotly.express) (23.2)\n",
      "Note: you may need to restart the kernel to use updated packages.\n",
      "Requirement already satisfied: nbformat in /home/Letícia/.local/lib/python3.9/site-packages (5.9.2)\n",
      "Requirement already satisfied: fastjsonschema in /home/Letícia/.local/lib/python3.9/site-packages (from nbformat) (2.19.1)\n",
      "Requirement already satisfied: jsonschema>=2.6 in /home/Letícia/.local/lib/python3.9/site-packages (from nbformat) (4.21.1)\n",
      "Requirement already satisfied: jupyter-core in /home/Letícia/.local/lib/python3.9/site-packages (from nbformat) (5.5.0)\n",
      "Requirement already satisfied: traitlets>=5.1 in /home/Letícia/.local/lib/python3.9/site-packages (from nbformat) (5.14.0)\n",
      "Requirement already satisfied: attrs>=22.2.0 in /home/Letícia/.local/lib/python3.9/site-packages (from jsonschema>=2.6->nbformat) (23.2.0)\n",
      "Requirement already satisfied: jsonschema-specifications>=2023.03.6 in /home/Letícia/.local/lib/python3.9/site-packages (from jsonschema>=2.6->nbformat) (2023.12.1)\n",
      "Requirement already satisfied: referencing>=0.28.4 in /home/Letícia/.local/lib/python3.9/site-packages (from jsonschema>=2.6->nbformat) (0.33.0)\n",
      "Requirement already satisfied: rpds-py>=0.7.1 in /home/Letícia/.local/lib/python3.9/site-packages (from jsonschema>=2.6->nbformat) (0.18.0)\n",
      "Requirement already satisfied: platformdirs>=2.5 in /home/Letícia/.local/lib/python3.9/site-packages (from jupyter-core->nbformat) (4.1.0)\n",
      "Note: you may need to restart the kernel to use updated packages.\n",
      "Defaulting to user installation because normal site-packages is not writeable\n",
      "\u001b[31mERROR: Could not find a version that satisfies the requirement plotly.subplots (from versions: none)\u001b[0m\u001b[31m\n",
      "\u001b[0m\u001b[31mERROR: No matching distribution found for plotly.subplots\u001b[0m\u001b[31m\n",
      "\u001b[0mNote: you may need to restart the kernel to use updated packages.\n"
     ]
    }
   ],
   "source": [
    "%pip install pandas\n",
    "%pip install plotly.express\n",
    "%pip install nbformat --user\n",
    "%pip install plotly.subplots"
   ]
  },
  {
   "cell_type": "code",
   "execution_count": 16,
   "metadata": {},
   "outputs": [],
   "source": [
    "import pandas as pd\n",
    "import plotly.express as px\n",
    "from plotly.subplots import make_subplots\n",
    "from src.dataframes import df, df_filtro\n"
   ]
  },
  {
   "cell_type": "code",
   "execution_count": 17,
   "metadata": {},
   "outputs": [
    {
     "data": {
      "text/plain": [
       "age\n",
       "78    102\n",
       "57     95\n",
       "52     90\n",
       "54     87\n",
       "51     86\n",
       "     ... \n",
       "11     36\n",
       "10     35\n",
       "4      34\n",
       "7      32\n",
       "6      24\n",
       "Name: count, Length: 83, dtype: int64"
      ]
     },
     "execution_count": 17,
     "metadata": {},
     "output_type": "execute_result"
    }
   ],
   "source": [
    "#Quantidade de pessoas por idade\n",
    "qtd_idade = df['age'].value_counts()\n",
    "qtd_idade"
   ]
  },
  {
   "cell_type": "markdown",
   "metadata": {},
   "source": [
    "## Trabalhando com as pessoas com idades inferiores a 80 - distribuição das frequências\n"
   ]
  },
  {
   "cell_type": "code",
   "execution_count": 18,
   "metadata": {},
   "outputs": [
    {
     "data": {
      "text/html": [
       "<div>\n",
       "<style scoped>\n",
       "    .dataframe tbody tr th:only-of-type {\n",
       "        vertical-align: middle;\n",
       "    }\n",
       "\n",
       "    .dataframe tbody tr th {\n",
       "        vertical-align: top;\n",
       "    }\n",
       "\n",
       "    .dataframe thead th {\n",
       "        text-align: right;\n",
       "    }\n",
       "</style>\n",
       "<table border=\"1\" class=\"dataframe\">\n",
       "  <thead>\n",
       "    <tr style=\"text-align: right;\">\n",
       "      <th></th>\n",
       "      <th>id</th>\n",
       "      <th>gender</th>\n",
       "      <th>age</th>\n",
       "      <th>hypertension</th>\n",
       "      <th>heart_disease</th>\n",
       "      <th>ever_married</th>\n",
       "      <th>work_type</th>\n",
       "      <th>residence_type</th>\n",
       "      <th>avg_glucose_level</th>\n",
       "      <th>bmi</th>\n",
       "      <th>smoking_status</th>\n",
       "      <th>stroke</th>\n",
       "    </tr>\n",
       "  </thead>\n",
       "  <tbody>\n",
       "    <tr>\n",
       "      <th>1614</th>\n",
       "      <td>47350</td>\n",
       "      <td>Female</td>\n",
       "      <td>0</td>\n",
       "      <td>0</td>\n",
       "      <td>0</td>\n",
       "      <td>No</td>\n",
       "      <td>children</td>\n",
       "      <td>Urban</td>\n",
       "      <td>139.67</td>\n",
       "      <td>14.10</td>\n",
       "      <td>Unknown</td>\n",
       "      <td>0</td>\n",
       "    </tr>\n",
       "    <tr>\n",
       "      <th>3295</th>\n",
       "      <td>29955</td>\n",
       "      <td>Male</td>\n",
       "      <td>0</td>\n",
       "      <td>0</td>\n",
       "      <td>0</td>\n",
       "      <td>No</td>\n",
       "      <td>children</td>\n",
       "      <td>Rural</td>\n",
       "      <td>70.33</td>\n",
       "      <td>16.90</td>\n",
       "      <td>Unknown</td>\n",
       "      <td>0</td>\n",
       "    </tr>\n",
       "    <tr>\n",
       "      <th>3618</th>\n",
       "      <td>22877</td>\n",
       "      <td>Male</td>\n",
       "      <td>0</td>\n",
       "      <td>0</td>\n",
       "      <td>0</td>\n",
       "      <td>No</td>\n",
       "      <td>children</td>\n",
       "      <td>Urban</td>\n",
       "      <td>114.71</td>\n",
       "      <td>17.40</td>\n",
       "      <td>Unknown</td>\n",
       "      <td>0</td>\n",
       "    </tr>\n",
       "    <tr>\n",
       "      <th>3968</th>\n",
       "      <td>41500</td>\n",
       "      <td>Male</td>\n",
       "      <td>0</td>\n",
       "      <td>0</td>\n",
       "      <td>0</td>\n",
       "      <td>No</td>\n",
       "      <td>children</td>\n",
       "      <td>Rural</td>\n",
       "      <td>69.79</td>\n",
       "      <td>13.00</td>\n",
       "      <td>Unknown</td>\n",
       "      <td>0</td>\n",
       "    </tr>\n",
       "    <tr>\n",
       "      <th>4021</th>\n",
       "      <td>8247</td>\n",
       "      <td>Male</td>\n",
       "      <td>0</td>\n",
       "      <td>0</td>\n",
       "      <td>0</td>\n",
       "      <td>No</td>\n",
       "      <td>children</td>\n",
       "      <td>Urban</td>\n",
       "      <td>109.52</td>\n",
       "      <td>13.90</td>\n",
       "      <td>Unknown</td>\n",
       "      <td>0</td>\n",
       "    </tr>\n",
       "    <tr>\n",
       "      <th>...</th>\n",
       "      <td>...</td>\n",
       "      <td>...</td>\n",
       "      <td>...</td>\n",
       "      <td>...</td>\n",
       "      <td>...</td>\n",
       "      <td>...</td>\n",
       "      <td>...</td>\n",
       "      <td>...</td>\n",
       "      <td>...</td>\n",
       "      <td>...</td>\n",
       "      <td>...</td>\n",
       "      <td>...</td>\n",
       "    </tr>\n",
       "    <tr>\n",
       "      <th>4777</th>\n",
       "      <td>10119</td>\n",
       "      <td>Male</td>\n",
       "      <td>70</td>\n",
       "      <td>0</td>\n",
       "      <td>0</td>\n",
       "      <td>Yes</td>\n",
       "      <td>Private</td>\n",
       "      <td>Rural</td>\n",
       "      <td>69.34</td>\n",
       "      <td>29.00</td>\n",
       "      <td>never smoked</td>\n",
       "      <td>0</td>\n",
       "    </tr>\n",
       "    <tr>\n",
       "      <th>4823</th>\n",
       "      <td>7218</td>\n",
       "      <td>Female</td>\n",
       "      <td>70</td>\n",
       "      <td>0</td>\n",
       "      <td>0</td>\n",
       "      <td>Yes</td>\n",
       "      <td>Private</td>\n",
       "      <td>Rural</td>\n",
       "      <td>214.73</td>\n",
       "      <td>30.90</td>\n",
       "      <td>never smoked</td>\n",
       "      <td>0</td>\n",
       "    </tr>\n",
       "    <tr>\n",
       "      <th>4988</th>\n",
       "      <td>30525</td>\n",
       "      <td>Female</td>\n",
       "      <td>70</td>\n",
       "      <td>0</td>\n",
       "      <td>0</td>\n",
       "      <td>Yes</td>\n",
       "      <td>Govt_job</td>\n",
       "      <td>Urban</td>\n",
       "      <td>95.42</td>\n",
       "      <td>21.50</td>\n",
       "      <td>formerly smoked</td>\n",
       "      <td>0</td>\n",
       "    </tr>\n",
       "    <tr>\n",
       "      <th>5008</th>\n",
       "      <td>48109</td>\n",
       "      <td>Female</td>\n",
       "      <td>70</td>\n",
       "      <td>0</td>\n",
       "      <td>1</td>\n",
       "      <td>Yes</td>\n",
       "      <td>Private</td>\n",
       "      <td>Rural</td>\n",
       "      <td>88.51</td>\n",
       "      <td>24.50</td>\n",
       "      <td>never smoked</td>\n",
       "      <td>0</td>\n",
       "    </tr>\n",
       "    <tr>\n",
       "      <th>5034</th>\n",
       "      <td>65405</td>\n",
       "      <td>Female</td>\n",
       "      <td>70</td>\n",
       "      <td>0</td>\n",
       "      <td>0</td>\n",
       "      <td>No</td>\n",
       "      <td>Private</td>\n",
       "      <td>Urban</td>\n",
       "      <td>253.86</td>\n",
       "      <td>28.80</td>\n",
       "      <td>formerly smoked</td>\n",
       "      <td>0</td>\n",
       "    </tr>\n",
       "  </tbody>\n",
       "</table>\n",
       "<p>4924 rows × 12 columns</p>\n",
       "</div>"
      ],
      "text/plain": [
       "         id  gender age  hypertension  heart_disease ever_married work_type  \\\n",
       "1614  47350  Female   0             0              0           No  children   \n",
       "3295  29955    Male   0             0              0           No  children   \n",
       "3618  22877    Male   0             0              0           No  children   \n",
       "3968  41500    Male   0             0              0           No  children   \n",
       "4021   8247    Male   0             0              0           No  children   \n",
       "...     ...     ...  ..           ...            ...          ...       ...   \n",
       "4777  10119    Male  70             0              0          Yes   Private   \n",
       "4823   7218  Female  70             0              0          Yes   Private   \n",
       "4988  30525  Female  70             0              0          Yes  Govt_job   \n",
       "5008  48109  Female  70             0              1          Yes   Private   \n",
       "5034  65405  Female  70             0              0           No   Private   \n",
       "\n",
       "     residence_type  avg_glucose_level   bmi   smoking_status  stroke  \n",
       "1614          Urban             139.67 14.10          Unknown       0  \n",
       "3295          Rural              70.33 16.90          Unknown       0  \n",
       "3618          Urban             114.71 17.40          Unknown       0  \n",
       "3968          Rural              69.79 13.00          Unknown       0  \n",
       "4021          Urban             109.52 13.90          Unknown       0  \n",
       "...             ...                ...   ...              ...     ...  \n",
       "4777          Rural              69.34 29.00     never smoked       0  \n",
       "4823          Rural             214.73 30.90     never smoked       0  \n",
       "4988          Urban              95.42 21.50  formerly smoked       0  \n",
       "5008          Rural              88.51 24.50     never smoked       0  \n",
       "5034          Urban             253.86 28.80  formerly smoked       0  \n",
       "\n",
       "[4924 rows x 12 columns]"
      ]
     },
     "execution_count": 18,
     "metadata": {},
     "output_type": "execute_result"
    }
   ],
   "source": [
    "labels = [0,10,20,30,40,50,60,70]\n",
    "df_frequencia = df_filtro\n",
    "#right para o limite maior ser excludente, include_lowest para incluir o menor\n",
    "df_frequencia.loc[:, 'age'] = pd.cut(df_filtro['age'], bins=8, labels=labels, right=False, include_lowest=True)\n",
    "df_frequencia"
   ]
  },
  {
   "cell_type": "code",
   "execution_count": 19,
   "metadata": {},
   "outputs": [
    {
     "name": "stdout",
     "output_type": "stream",
     "text": [
      "0\n",
      "10\n",
      "20\n",
      "30\n",
      "40\n",
      "50\n",
      "60\n",
      "70\n"
     ]
    },
    {
     "name": "stderr",
     "output_type": "stream",
     "text": [
      "/tmp/ipykernel_33130/1457748369.py:2: SettingWithCopyWarning:\n",
      "\n",
      "\n",
      "A value is trying to be set on a copy of a slice from a DataFrame.\n",
      "Try using .loc[row_indexer,col_indexer] = value instead\n",
      "\n",
      "See the caveats in the documentation: https://pandas.pydata.org/pandas-docs/stable/user_guide/indexing.html#returning-a-view-versus-a-copy\n",
      "\n"
     ]
    },
    {
     "data": {
      "text/html": [
       "<div>\n",
       "<style scoped>\n",
       "    .dataframe tbody tr th:only-of-type {\n",
       "        vertical-align: middle;\n",
       "    }\n",
       "\n",
       "    .dataframe tbody tr th {\n",
       "        vertical-align: top;\n",
       "    }\n",
       "\n",
       "    .dataframe thead th {\n",
       "        text-align: right;\n",
       "    }\n",
       "</style>\n",
       "<table border=\"1\" class=\"dataframe\">\n",
       "  <thead>\n",
       "    <tr style=\"text-align: right;\">\n",
       "      <th></th>\n",
       "      <th>id</th>\n",
       "      <th>gender</th>\n",
       "      <th>age</th>\n",
       "      <th>hypertension</th>\n",
       "      <th>heart_disease</th>\n",
       "      <th>ever_married</th>\n",
       "      <th>work_type</th>\n",
       "      <th>residence_type</th>\n",
       "      <th>avg_glucose_level</th>\n",
       "      <th>bmi</th>\n",
       "      <th>smoking_status</th>\n",
       "      <th>stroke</th>\n",
       "    </tr>\n",
       "  </thead>\n",
       "  <tbody>\n",
       "    <tr>\n",
       "      <th>1614</th>\n",
       "      <td>47350</td>\n",
       "      <td>Female</td>\n",
       "      <td>0-10</td>\n",
       "      <td>0</td>\n",
       "      <td>0</td>\n",
       "      <td>No</td>\n",
       "      <td>children</td>\n",
       "      <td>Urban</td>\n",
       "      <td>139.67</td>\n",
       "      <td>14.10</td>\n",
       "      <td>Unknown</td>\n",
       "      <td>0</td>\n",
       "    </tr>\n",
       "    <tr>\n",
       "      <th>3295</th>\n",
       "      <td>29955</td>\n",
       "      <td>Male</td>\n",
       "      <td>0-10</td>\n",
       "      <td>0</td>\n",
       "      <td>0</td>\n",
       "      <td>No</td>\n",
       "      <td>children</td>\n",
       "      <td>Rural</td>\n",
       "      <td>70.33</td>\n",
       "      <td>16.90</td>\n",
       "      <td>Unknown</td>\n",
       "      <td>0</td>\n",
       "    </tr>\n",
       "    <tr>\n",
       "      <th>3618</th>\n",
       "      <td>22877</td>\n",
       "      <td>Male</td>\n",
       "      <td>0-10</td>\n",
       "      <td>0</td>\n",
       "      <td>0</td>\n",
       "      <td>No</td>\n",
       "      <td>children</td>\n",
       "      <td>Urban</td>\n",
       "      <td>114.71</td>\n",
       "      <td>17.40</td>\n",
       "      <td>Unknown</td>\n",
       "      <td>0</td>\n",
       "    </tr>\n",
       "    <tr>\n",
       "      <th>3968</th>\n",
       "      <td>41500</td>\n",
       "      <td>Male</td>\n",
       "      <td>0-10</td>\n",
       "      <td>0</td>\n",
       "      <td>0</td>\n",
       "      <td>No</td>\n",
       "      <td>children</td>\n",
       "      <td>Rural</td>\n",
       "      <td>69.79</td>\n",
       "      <td>13.00</td>\n",
       "      <td>Unknown</td>\n",
       "      <td>0</td>\n",
       "    </tr>\n",
       "    <tr>\n",
       "      <th>4021</th>\n",
       "      <td>8247</td>\n",
       "      <td>Male</td>\n",
       "      <td>0-10</td>\n",
       "      <td>0</td>\n",
       "      <td>0</td>\n",
       "      <td>No</td>\n",
       "      <td>children</td>\n",
       "      <td>Urban</td>\n",
       "      <td>109.52</td>\n",
       "      <td>13.90</td>\n",
       "      <td>Unknown</td>\n",
       "      <td>0</td>\n",
       "    </tr>\n",
       "    <tr>\n",
       "      <th>...</th>\n",
       "      <td>...</td>\n",
       "      <td>...</td>\n",
       "      <td>...</td>\n",
       "      <td>...</td>\n",
       "      <td>...</td>\n",
       "      <td>...</td>\n",
       "      <td>...</td>\n",
       "      <td>...</td>\n",
       "      <td>...</td>\n",
       "      <td>...</td>\n",
       "      <td>...</td>\n",
       "      <td>...</td>\n",
       "    </tr>\n",
       "    <tr>\n",
       "      <th>4777</th>\n",
       "      <td>10119</td>\n",
       "      <td>Male</td>\n",
       "      <td>70-80</td>\n",
       "      <td>0</td>\n",
       "      <td>0</td>\n",
       "      <td>Yes</td>\n",
       "      <td>Private</td>\n",
       "      <td>Rural</td>\n",
       "      <td>69.34</td>\n",
       "      <td>29.00</td>\n",
       "      <td>never smoked</td>\n",
       "      <td>0</td>\n",
       "    </tr>\n",
       "    <tr>\n",
       "      <th>4823</th>\n",
       "      <td>7218</td>\n",
       "      <td>Female</td>\n",
       "      <td>70-80</td>\n",
       "      <td>0</td>\n",
       "      <td>0</td>\n",
       "      <td>Yes</td>\n",
       "      <td>Private</td>\n",
       "      <td>Rural</td>\n",
       "      <td>214.73</td>\n",
       "      <td>30.90</td>\n",
       "      <td>never smoked</td>\n",
       "      <td>0</td>\n",
       "    </tr>\n",
       "    <tr>\n",
       "      <th>4988</th>\n",
       "      <td>30525</td>\n",
       "      <td>Female</td>\n",
       "      <td>70-80</td>\n",
       "      <td>0</td>\n",
       "      <td>0</td>\n",
       "      <td>Yes</td>\n",
       "      <td>Govt_job</td>\n",
       "      <td>Urban</td>\n",
       "      <td>95.42</td>\n",
       "      <td>21.50</td>\n",
       "      <td>formerly smoked</td>\n",
       "      <td>0</td>\n",
       "    </tr>\n",
       "    <tr>\n",
       "      <th>5008</th>\n",
       "      <td>48109</td>\n",
       "      <td>Female</td>\n",
       "      <td>70-80</td>\n",
       "      <td>0</td>\n",
       "      <td>1</td>\n",
       "      <td>Yes</td>\n",
       "      <td>Private</td>\n",
       "      <td>Rural</td>\n",
       "      <td>88.51</td>\n",
       "      <td>24.50</td>\n",
       "      <td>never smoked</td>\n",
       "      <td>0</td>\n",
       "    </tr>\n",
       "    <tr>\n",
       "      <th>5034</th>\n",
       "      <td>65405</td>\n",
       "      <td>Female</td>\n",
       "      <td>70-80</td>\n",
       "      <td>0</td>\n",
       "      <td>0</td>\n",
       "      <td>No</td>\n",
       "      <td>Private</td>\n",
       "      <td>Urban</td>\n",
       "      <td>253.86</td>\n",
       "      <td>28.80</td>\n",
       "      <td>formerly smoked</td>\n",
       "      <td>0</td>\n",
       "    </tr>\n",
       "  </tbody>\n",
       "</table>\n",
       "<p>4924 rows × 12 columns</p>\n",
       "</div>"
      ],
      "text/plain": [
       "         id  gender    age  hypertension  heart_disease ever_married  \\\n",
       "1614  47350  Female   0-10             0              0           No   \n",
       "3295  29955    Male   0-10             0              0           No   \n",
       "3618  22877    Male   0-10             0              0           No   \n",
       "3968  41500    Male   0-10             0              0           No   \n",
       "4021   8247    Male   0-10             0              0           No   \n",
       "...     ...     ...    ...           ...            ...          ...   \n",
       "4777  10119    Male  70-80             0              0          Yes   \n",
       "4823   7218  Female  70-80             0              0          Yes   \n",
       "4988  30525  Female  70-80             0              0          Yes   \n",
       "5008  48109  Female  70-80             0              1          Yes   \n",
       "5034  65405  Female  70-80             0              0           No   \n",
       "\n",
       "     work_type residence_type  avg_glucose_level   bmi   smoking_status  \\\n",
       "1614  children          Urban             139.67 14.10          Unknown   \n",
       "3295  children          Rural              70.33 16.90          Unknown   \n",
       "3618  children          Urban             114.71 17.40          Unknown   \n",
       "3968  children          Rural              69.79 13.00          Unknown   \n",
       "4021  children          Urban             109.52 13.90          Unknown   \n",
       "...        ...            ...                ...   ...              ...   \n",
       "4777   Private          Rural              69.34 29.00     never smoked   \n",
       "4823   Private          Rural             214.73 30.90     never smoked   \n",
       "4988  Govt_job          Urban              95.42 21.50  formerly smoked   \n",
       "5008   Private          Rural              88.51 24.50     never smoked   \n",
       "5034   Private          Urban             253.86 28.80  formerly smoked   \n",
       "\n",
       "      stroke  \n",
       "1614       0  \n",
       "3295       0  \n",
       "3618       0  \n",
       "3968       0  \n",
       "4021       0  \n",
       "...      ...  \n",
       "4777       0  \n",
       "4823       0  \n",
       "4988       0  \n",
       "5008       0  \n",
       "5034       0  \n",
       "\n",
       "[4924 rows x 12 columns]"
      ]
     },
     "execution_count": 19,
     "metadata": {},
     "output_type": "execute_result"
    }
   ],
   "source": [
    "\n",
    "intervalos = [f'{i}-{i+10}' for i in range(0, 80, 10)]\n",
    "df_frequencia['age'] = df_frequencia['age'].astype(str)\n",
    "for i in range (0,80,10):\n",
    "    print(i)\n",
    "    df_frequencia.loc[df_frequencia['age'] == str(i),'age'] = intervalos[i//10]\n",
    "df_frequencia"
   ]
  },
  {
   "cell_type": "code",
   "execution_count": 20,
   "metadata": {},
   "outputs": [
    {
     "data": {
      "text/html": [
       "<div>\n",
       "<style scoped>\n",
       "    .dataframe tbody tr th:only-of-type {\n",
       "        vertical-align: middle;\n",
       "    }\n",
       "\n",
       "    .dataframe tbody tr th {\n",
       "        vertical-align: top;\n",
       "    }\n",
       "\n",
       "    .dataframe thead th {\n",
       "        text-align: right;\n",
       "    }\n",
       "</style>\n",
       "<table border=\"1\" class=\"dataframe\">\n",
       "  <thead>\n",
       "    <tr style=\"text-align: right;\">\n",
       "      <th></th>\n",
       "      <th>age</th>\n",
       "      <th>count</th>\n",
       "    </tr>\n",
       "  </thead>\n",
       "  <tbody>\n",
       "    <tr>\n",
       "      <th>0</th>\n",
       "      <td>0-10</td>\n",
       "      <td>472</td>\n",
       "    </tr>\n",
       "    <tr>\n",
       "      <th>1</th>\n",
       "      <td>10-20</td>\n",
       "      <td>494</td>\n",
       "    </tr>\n",
       "    <tr>\n",
       "      <th>2</th>\n",
       "      <td>20-30</td>\n",
       "      <td>549</td>\n",
       "    </tr>\n",
       "    <tr>\n",
       "      <th>3</th>\n",
       "      <td>30-40</td>\n",
       "      <td>655</td>\n",
       "    </tr>\n",
       "    <tr>\n",
       "      <th>4</th>\n",
       "      <td>40-50</td>\n",
       "      <td>730</td>\n",
       "    </tr>\n",
       "    <tr>\n",
       "      <th>5</th>\n",
       "      <td>50-60</td>\n",
       "      <td>834</td>\n",
       "    </tr>\n",
       "    <tr>\n",
       "      <th>6</th>\n",
       "      <td>60-70</td>\n",
       "      <td>621</td>\n",
       "    </tr>\n",
       "    <tr>\n",
       "      <th>7</th>\n",
       "      <td>70-80</td>\n",
       "      <td>569</td>\n",
       "    </tr>\n",
       "  </tbody>\n",
       "</table>\n",
       "</div>"
      ],
      "text/plain": [
       "     age  count\n",
       "0   0-10    472\n",
       "1  10-20    494\n",
       "2  20-30    549\n",
       "3  30-40    655\n",
       "4  40-50    730\n",
       "5  50-60    834\n",
       "6  60-70    621\n",
       "7  70-80    569"
      ]
     },
     "execution_count": 20,
     "metadata": {},
     "output_type": "execute_result"
    }
   ],
   "source": [
    "#Verificando a quantidade de pessoas em cada intervalo\n",
    "df_agrupado = df_frequencia['age'].value_counts().sort_index().reset_index()\n",
    "\n",
    "df_agrupado"
   ]
  },
  {
   "cell_type": "code",
   "execution_count": 21,
   "metadata": {},
   "outputs": [
    {
     "data": {
      "application/vnd.plotly.v1+json": {
       "config": {
        "plotlyServerURL": "https://plot.ly"
       },
       "data": [
        {
         "alignmentgroup": "True",
         "bingroup": "x",
         "histfunc": "sum",
         "hovertemplate": "age=%{x}<br>sum of count=%{y}<extra></extra>",
         "legendgroup": "",
         "marker": {
          "color": "#636efa",
          "pattern": {
           "shape": ""
          }
         },
         "name": "",
         "offsetgroup": "",
         "orientation": "v",
         "showlegend": false,
         "type": "histogram",
         "x": [
          "0-10",
          "10-20",
          "20-30",
          "30-40",
          "40-50",
          "50-60",
          "60-70",
          "70-80"
         ],
         "xaxis": "x",
         "y": [
          472,
          494,
          549,
          655,
          730,
          834,
          621,
          569
         ],
         "yaxis": "y"
        }
       ],
       "layout": {
        "barmode": "relative",
        "legend": {
         "tracegroupgap": 0
        },
        "template": {
         "data": {
          "bar": [
           {
            "error_x": {
             "color": "#2a3f5f"
            },
            "error_y": {
             "color": "#2a3f5f"
            },
            "marker": {
             "line": {
              "color": "#E5ECF6",
              "width": 0.5
             },
             "pattern": {
              "fillmode": "overlay",
              "size": 10,
              "solidity": 0.2
             }
            },
            "type": "bar"
           }
          ],
          "barpolar": [
           {
            "marker": {
             "line": {
              "color": "#E5ECF6",
              "width": 0.5
             },
             "pattern": {
              "fillmode": "overlay",
              "size": 10,
              "solidity": 0.2
             }
            },
            "type": "barpolar"
           }
          ],
          "carpet": [
           {
            "aaxis": {
             "endlinecolor": "#2a3f5f",
             "gridcolor": "white",
             "linecolor": "white",
             "minorgridcolor": "white",
             "startlinecolor": "#2a3f5f"
            },
            "baxis": {
             "endlinecolor": "#2a3f5f",
             "gridcolor": "white",
             "linecolor": "white",
             "minorgridcolor": "white",
             "startlinecolor": "#2a3f5f"
            },
            "type": "carpet"
           }
          ],
          "choropleth": [
           {
            "colorbar": {
             "outlinewidth": 0,
             "ticks": ""
            },
            "type": "choropleth"
           }
          ],
          "contour": [
           {
            "colorbar": {
             "outlinewidth": 0,
             "ticks": ""
            },
            "colorscale": [
             [
              0,
              "#0d0887"
             ],
             [
              0.1111111111111111,
              "#46039f"
             ],
             [
              0.2222222222222222,
              "#7201a8"
             ],
             [
              0.3333333333333333,
              "#9c179e"
             ],
             [
              0.4444444444444444,
              "#bd3786"
             ],
             [
              0.5555555555555556,
              "#d8576b"
             ],
             [
              0.6666666666666666,
              "#ed7953"
             ],
             [
              0.7777777777777778,
              "#fb9f3a"
             ],
             [
              0.8888888888888888,
              "#fdca26"
             ],
             [
              1,
              "#f0f921"
             ]
            ],
            "type": "contour"
           }
          ],
          "contourcarpet": [
           {
            "colorbar": {
             "outlinewidth": 0,
             "ticks": ""
            },
            "type": "contourcarpet"
           }
          ],
          "heatmap": [
           {
            "colorbar": {
             "outlinewidth": 0,
             "ticks": ""
            },
            "colorscale": [
             [
              0,
              "#0d0887"
             ],
             [
              0.1111111111111111,
              "#46039f"
             ],
             [
              0.2222222222222222,
              "#7201a8"
             ],
             [
              0.3333333333333333,
              "#9c179e"
             ],
             [
              0.4444444444444444,
              "#bd3786"
             ],
             [
              0.5555555555555556,
              "#d8576b"
             ],
             [
              0.6666666666666666,
              "#ed7953"
             ],
             [
              0.7777777777777778,
              "#fb9f3a"
             ],
             [
              0.8888888888888888,
              "#fdca26"
             ],
             [
              1,
              "#f0f921"
             ]
            ],
            "type": "heatmap"
           }
          ],
          "heatmapgl": [
           {
            "colorbar": {
             "outlinewidth": 0,
             "ticks": ""
            },
            "colorscale": [
             [
              0,
              "#0d0887"
             ],
             [
              0.1111111111111111,
              "#46039f"
             ],
             [
              0.2222222222222222,
              "#7201a8"
             ],
             [
              0.3333333333333333,
              "#9c179e"
             ],
             [
              0.4444444444444444,
              "#bd3786"
             ],
             [
              0.5555555555555556,
              "#d8576b"
             ],
             [
              0.6666666666666666,
              "#ed7953"
             ],
             [
              0.7777777777777778,
              "#fb9f3a"
             ],
             [
              0.8888888888888888,
              "#fdca26"
             ],
             [
              1,
              "#f0f921"
             ]
            ],
            "type": "heatmapgl"
           }
          ],
          "histogram": [
           {
            "marker": {
             "pattern": {
              "fillmode": "overlay",
              "size": 10,
              "solidity": 0.2
             }
            },
            "type": "histogram"
           }
          ],
          "histogram2d": [
           {
            "colorbar": {
             "outlinewidth": 0,
             "ticks": ""
            },
            "colorscale": [
             [
              0,
              "#0d0887"
             ],
             [
              0.1111111111111111,
              "#46039f"
             ],
             [
              0.2222222222222222,
              "#7201a8"
             ],
             [
              0.3333333333333333,
              "#9c179e"
             ],
             [
              0.4444444444444444,
              "#bd3786"
             ],
             [
              0.5555555555555556,
              "#d8576b"
             ],
             [
              0.6666666666666666,
              "#ed7953"
             ],
             [
              0.7777777777777778,
              "#fb9f3a"
             ],
             [
              0.8888888888888888,
              "#fdca26"
             ],
             [
              1,
              "#f0f921"
             ]
            ],
            "type": "histogram2d"
           }
          ],
          "histogram2dcontour": [
           {
            "colorbar": {
             "outlinewidth": 0,
             "ticks": ""
            },
            "colorscale": [
             [
              0,
              "#0d0887"
             ],
             [
              0.1111111111111111,
              "#46039f"
             ],
             [
              0.2222222222222222,
              "#7201a8"
             ],
             [
              0.3333333333333333,
              "#9c179e"
             ],
             [
              0.4444444444444444,
              "#bd3786"
             ],
             [
              0.5555555555555556,
              "#d8576b"
             ],
             [
              0.6666666666666666,
              "#ed7953"
             ],
             [
              0.7777777777777778,
              "#fb9f3a"
             ],
             [
              0.8888888888888888,
              "#fdca26"
             ],
             [
              1,
              "#f0f921"
             ]
            ],
            "type": "histogram2dcontour"
           }
          ],
          "mesh3d": [
           {
            "colorbar": {
             "outlinewidth": 0,
             "ticks": ""
            },
            "type": "mesh3d"
           }
          ],
          "parcoords": [
           {
            "line": {
             "colorbar": {
              "outlinewidth": 0,
              "ticks": ""
             }
            },
            "type": "parcoords"
           }
          ],
          "pie": [
           {
            "automargin": true,
            "type": "pie"
           }
          ],
          "scatter": [
           {
            "fillpattern": {
             "fillmode": "overlay",
             "size": 10,
             "solidity": 0.2
            },
            "type": "scatter"
           }
          ],
          "scatter3d": [
           {
            "line": {
             "colorbar": {
              "outlinewidth": 0,
              "ticks": ""
             }
            },
            "marker": {
             "colorbar": {
              "outlinewidth": 0,
              "ticks": ""
             }
            },
            "type": "scatter3d"
           }
          ],
          "scattercarpet": [
           {
            "marker": {
             "colorbar": {
              "outlinewidth": 0,
              "ticks": ""
             }
            },
            "type": "scattercarpet"
           }
          ],
          "scattergeo": [
           {
            "marker": {
             "colorbar": {
              "outlinewidth": 0,
              "ticks": ""
             }
            },
            "type": "scattergeo"
           }
          ],
          "scattergl": [
           {
            "marker": {
             "colorbar": {
              "outlinewidth": 0,
              "ticks": ""
             }
            },
            "type": "scattergl"
           }
          ],
          "scattermapbox": [
           {
            "marker": {
             "colorbar": {
              "outlinewidth": 0,
              "ticks": ""
             }
            },
            "type": "scattermapbox"
           }
          ],
          "scatterpolar": [
           {
            "marker": {
             "colorbar": {
              "outlinewidth": 0,
              "ticks": ""
             }
            },
            "type": "scatterpolar"
           }
          ],
          "scatterpolargl": [
           {
            "marker": {
             "colorbar": {
              "outlinewidth": 0,
              "ticks": ""
             }
            },
            "type": "scatterpolargl"
           }
          ],
          "scatterternary": [
           {
            "marker": {
             "colorbar": {
              "outlinewidth": 0,
              "ticks": ""
             }
            },
            "type": "scatterternary"
           }
          ],
          "surface": [
           {
            "colorbar": {
             "outlinewidth": 0,
             "ticks": ""
            },
            "colorscale": [
             [
              0,
              "#0d0887"
             ],
             [
              0.1111111111111111,
              "#46039f"
             ],
             [
              0.2222222222222222,
              "#7201a8"
             ],
             [
              0.3333333333333333,
              "#9c179e"
             ],
             [
              0.4444444444444444,
              "#bd3786"
             ],
             [
              0.5555555555555556,
              "#d8576b"
             ],
             [
              0.6666666666666666,
              "#ed7953"
             ],
             [
              0.7777777777777778,
              "#fb9f3a"
             ],
             [
              0.8888888888888888,
              "#fdca26"
             ],
             [
              1,
              "#f0f921"
             ]
            ],
            "type": "surface"
           }
          ],
          "table": [
           {
            "cells": {
             "fill": {
              "color": "#EBF0F8"
             },
             "line": {
              "color": "white"
             }
            },
            "header": {
             "fill": {
              "color": "#C8D4E3"
             },
             "line": {
              "color": "white"
             }
            },
            "type": "table"
           }
          ]
         },
         "layout": {
          "annotationdefaults": {
           "arrowcolor": "#2a3f5f",
           "arrowhead": 0,
           "arrowwidth": 1
          },
          "autotypenumbers": "strict",
          "coloraxis": {
           "colorbar": {
            "outlinewidth": 0,
            "ticks": ""
           }
          },
          "colorscale": {
           "diverging": [
            [
             0,
             "#8e0152"
            ],
            [
             0.1,
             "#c51b7d"
            ],
            [
             0.2,
             "#de77ae"
            ],
            [
             0.3,
             "#f1b6da"
            ],
            [
             0.4,
             "#fde0ef"
            ],
            [
             0.5,
             "#f7f7f7"
            ],
            [
             0.6,
             "#e6f5d0"
            ],
            [
             0.7,
             "#b8e186"
            ],
            [
             0.8,
             "#7fbc41"
            ],
            [
             0.9,
             "#4d9221"
            ],
            [
             1,
             "#276419"
            ]
           ],
           "sequential": [
            [
             0,
             "#0d0887"
            ],
            [
             0.1111111111111111,
             "#46039f"
            ],
            [
             0.2222222222222222,
             "#7201a8"
            ],
            [
             0.3333333333333333,
             "#9c179e"
            ],
            [
             0.4444444444444444,
             "#bd3786"
            ],
            [
             0.5555555555555556,
             "#d8576b"
            ],
            [
             0.6666666666666666,
             "#ed7953"
            ],
            [
             0.7777777777777778,
             "#fb9f3a"
            ],
            [
             0.8888888888888888,
             "#fdca26"
            ],
            [
             1,
             "#f0f921"
            ]
           ],
           "sequentialminus": [
            [
             0,
             "#0d0887"
            ],
            [
             0.1111111111111111,
             "#46039f"
            ],
            [
             0.2222222222222222,
             "#7201a8"
            ],
            [
             0.3333333333333333,
             "#9c179e"
            ],
            [
             0.4444444444444444,
             "#bd3786"
            ],
            [
             0.5555555555555556,
             "#d8576b"
            ],
            [
             0.6666666666666666,
             "#ed7953"
            ],
            [
             0.7777777777777778,
             "#fb9f3a"
            ],
            [
             0.8888888888888888,
             "#fdca26"
            ],
            [
             1,
             "#f0f921"
            ]
           ]
          },
          "colorway": [
           "#636efa",
           "#EF553B",
           "#00cc96",
           "#ab63fa",
           "#FFA15A",
           "#19d3f3",
           "#FF6692",
           "#B6E880",
           "#FF97FF",
           "#FECB52"
          ],
          "font": {
           "color": "#2a3f5f"
          },
          "geo": {
           "bgcolor": "white",
           "lakecolor": "white",
           "landcolor": "#E5ECF6",
           "showlakes": true,
           "showland": true,
           "subunitcolor": "white"
          },
          "hoverlabel": {
           "align": "left"
          },
          "hovermode": "closest",
          "mapbox": {
           "style": "light"
          },
          "paper_bgcolor": "white",
          "plot_bgcolor": "#E5ECF6",
          "polar": {
           "angularaxis": {
            "gridcolor": "white",
            "linecolor": "white",
            "ticks": ""
           },
           "bgcolor": "#E5ECF6",
           "radialaxis": {
            "gridcolor": "white",
            "linecolor": "white",
            "ticks": ""
           }
          },
          "scene": {
           "xaxis": {
            "backgroundcolor": "#E5ECF6",
            "gridcolor": "white",
            "gridwidth": 2,
            "linecolor": "white",
            "showbackground": true,
            "ticks": "",
            "zerolinecolor": "white"
           },
           "yaxis": {
            "backgroundcolor": "#E5ECF6",
            "gridcolor": "white",
            "gridwidth": 2,
            "linecolor": "white",
            "showbackground": true,
            "ticks": "",
            "zerolinecolor": "white"
           },
           "zaxis": {
            "backgroundcolor": "#E5ECF6",
            "gridcolor": "white",
            "gridwidth": 2,
            "linecolor": "white",
            "showbackground": true,
            "ticks": "",
            "zerolinecolor": "white"
           }
          },
          "shapedefaults": {
           "line": {
            "color": "#2a3f5f"
           }
          },
          "ternary": {
           "aaxis": {
            "gridcolor": "white",
            "linecolor": "white",
            "ticks": ""
           },
           "baxis": {
            "gridcolor": "white",
            "linecolor": "white",
            "ticks": ""
           },
           "bgcolor": "#E5ECF6",
           "caxis": {
            "gridcolor": "white",
            "linecolor": "white",
            "ticks": ""
           }
          },
          "title": {
           "x": 0.05
          },
          "xaxis": {
           "automargin": true,
           "gridcolor": "white",
           "linecolor": "white",
           "ticks": "",
           "title": {
            "standoff": 15
           },
           "zerolinecolor": "white",
           "zerolinewidth": 2
          },
          "yaxis": {
           "automargin": true,
           "gridcolor": "white",
           "linecolor": "white",
           "ticks": "",
           "title": {
            "standoff": 15
           },
           "zerolinecolor": "white",
           "zerolinewidth": 2
          }
         }
        },
        "title": {
         "text": "Contagem de idades por intervalo"
        },
        "xaxis": {
         "anchor": "y",
         "domain": [
          0,
          1
         ],
         "title": {
          "text": "age"
         }
        },
        "yaxis": {
         "anchor": "x",
         "domain": [
          0,
          1
         ],
         "title": {
          "text": "sum of count"
         }
        }
       }
      }
     },
     "metadata": {},
     "output_type": "display_data"
    }
   ],
   "source": [
    "\n",
    "fig1 = px.histogram(df_agrupado, x='age', y='count', title='Contagem de idades por intervalo')\n",
    "fig1.show()"
   ]
  },
  {
   "cell_type": "code",
   "execution_count": 22,
   "metadata": {},
   "outputs": [
    {
     "data": {
      "application/vnd.plotly.v1+json": {
       "config": {
        "plotlyServerURL": "https://plot.ly"
       },
       "data": [
        {
         "domain": {
          "x": [
           0,
           1
          ],
          "y": [
           0,
           1
          ]
         },
         "hovertemplate": "age=%{label}<br>count=%{value}<extra></extra>",
         "labels": [
          "0-10",
          "10-20",
          "20-30",
          "30-40",
          "40-50",
          "50-60",
          "60-70",
          "70-80"
         ],
         "legendgroup": "",
         "name": "",
         "showlegend": true,
         "type": "pie",
         "values": [
          472,
          494,
          549,
          655,
          730,
          834,
          621,
          569
         ]
        }
       ],
       "layout": {
        "legend": {
         "tracegroupgap": 0
        },
        "template": {
         "data": {
          "bar": [
           {
            "error_x": {
             "color": "#2a3f5f"
            },
            "error_y": {
             "color": "#2a3f5f"
            },
            "marker": {
             "line": {
              "color": "#E5ECF6",
              "width": 0.5
             },
             "pattern": {
              "fillmode": "overlay",
              "size": 10,
              "solidity": 0.2
             }
            },
            "type": "bar"
           }
          ],
          "barpolar": [
           {
            "marker": {
             "line": {
              "color": "#E5ECF6",
              "width": 0.5
             },
             "pattern": {
              "fillmode": "overlay",
              "size": 10,
              "solidity": 0.2
             }
            },
            "type": "barpolar"
           }
          ],
          "carpet": [
           {
            "aaxis": {
             "endlinecolor": "#2a3f5f",
             "gridcolor": "white",
             "linecolor": "white",
             "minorgridcolor": "white",
             "startlinecolor": "#2a3f5f"
            },
            "baxis": {
             "endlinecolor": "#2a3f5f",
             "gridcolor": "white",
             "linecolor": "white",
             "minorgridcolor": "white",
             "startlinecolor": "#2a3f5f"
            },
            "type": "carpet"
           }
          ],
          "choropleth": [
           {
            "colorbar": {
             "outlinewidth": 0,
             "ticks": ""
            },
            "type": "choropleth"
           }
          ],
          "contour": [
           {
            "colorbar": {
             "outlinewidth": 0,
             "ticks": ""
            },
            "colorscale": [
             [
              0,
              "#0d0887"
             ],
             [
              0.1111111111111111,
              "#46039f"
             ],
             [
              0.2222222222222222,
              "#7201a8"
             ],
             [
              0.3333333333333333,
              "#9c179e"
             ],
             [
              0.4444444444444444,
              "#bd3786"
             ],
             [
              0.5555555555555556,
              "#d8576b"
             ],
             [
              0.6666666666666666,
              "#ed7953"
             ],
             [
              0.7777777777777778,
              "#fb9f3a"
             ],
             [
              0.8888888888888888,
              "#fdca26"
             ],
             [
              1,
              "#f0f921"
             ]
            ],
            "type": "contour"
           }
          ],
          "contourcarpet": [
           {
            "colorbar": {
             "outlinewidth": 0,
             "ticks": ""
            },
            "type": "contourcarpet"
           }
          ],
          "heatmap": [
           {
            "colorbar": {
             "outlinewidth": 0,
             "ticks": ""
            },
            "colorscale": [
             [
              0,
              "#0d0887"
             ],
             [
              0.1111111111111111,
              "#46039f"
             ],
             [
              0.2222222222222222,
              "#7201a8"
             ],
             [
              0.3333333333333333,
              "#9c179e"
             ],
             [
              0.4444444444444444,
              "#bd3786"
             ],
             [
              0.5555555555555556,
              "#d8576b"
             ],
             [
              0.6666666666666666,
              "#ed7953"
             ],
             [
              0.7777777777777778,
              "#fb9f3a"
             ],
             [
              0.8888888888888888,
              "#fdca26"
             ],
             [
              1,
              "#f0f921"
             ]
            ],
            "type": "heatmap"
           }
          ],
          "heatmapgl": [
           {
            "colorbar": {
             "outlinewidth": 0,
             "ticks": ""
            },
            "colorscale": [
             [
              0,
              "#0d0887"
             ],
             [
              0.1111111111111111,
              "#46039f"
             ],
             [
              0.2222222222222222,
              "#7201a8"
             ],
             [
              0.3333333333333333,
              "#9c179e"
             ],
             [
              0.4444444444444444,
              "#bd3786"
             ],
             [
              0.5555555555555556,
              "#d8576b"
             ],
             [
              0.6666666666666666,
              "#ed7953"
             ],
             [
              0.7777777777777778,
              "#fb9f3a"
             ],
             [
              0.8888888888888888,
              "#fdca26"
             ],
             [
              1,
              "#f0f921"
             ]
            ],
            "type": "heatmapgl"
           }
          ],
          "histogram": [
           {
            "marker": {
             "pattern": {
              "fillmode": "overlay",
              "size": 10,
              "solidity": 0.2
             }
            },
            "type": "histogram"
           }
          ],
          "histogram2d": [
           {
            "colorbar": {
             "outlinewidth": 0,
             "ticks": ""
            },
            "colorscale": [
             [
              0,
              "#0d0887"
             ],
             [
              0.1111111111111111,
              "#46039f"
             ],
             [
              0.2222222222222222,
              "#7201a8"
             ],
             [
              0.3333333333333333,
              "#9c179e"
             ],
             [
              0.4444444444444444,
              "#bd3786"
             ],
             [
              0.5555555555555556,
              "#d8576b"
             ],
             [
              0.6666666666666666,
              "#ed7953"
             ],
             [
              0.7777777777777778,
              "#fb9f3a"
             ],
             [
              0.8888888888888888,
              "#fdca26"
             ],
             [
              1,
              "#f0f921"
             ]
            ],
            "type": "histogram2d"
           }
          ],
          "histogram2dcontour": [
           {
            "colorbar": {
             "outlinewidth": 0,
             "ticks": ""
            },
            "colorscale": [
             [
              0,
              "#0d0887"
             ],
             [
              0.1111111111111111,
              "#46039f"
             ],
             [
              0.2222222222222222,
              "#7201a8"
             ],
             [
              0.3333333333333333,
              "#9c179e"
             ],
             [
              0.4444444444444444,
              "#bd3786"
             ],
             [
              0.5555555555555556,
              "#d8576b"
             ],
             [
              0.6666666666666666,
              "#ed7953"
             ],
             [
              0.7777777777777778,
              "#fb9f3a"
             ],
             [
              0.8888888888888888,
              "#fdca26"
             ],
             [
              1,
              "#f0f921"
             ]
            ],
            "type": "histogram2dcontour"
           }
          ],
          "mesh3d": [
           {
            "colorbar": {
             "outlinewidth": 0,
             "ticks": ""
            },
            "type": "mesh3d"
           }
          ],
          "parcoords": [
           {
            "line": {
             "colorbar": {
              "outlinewidth": 0,
              "ticks": ""
             }
            },
            "type": "parcoords"
           }
          ],
          "pie": [
           {
            "automargin": true,
            "type": "pie"
           }
          ],
          "scatter": [
           {
            "fillpattern": {
             "fillmode": "overlay",
             "size": 10,
             "solidity": 0.2
            },
            "type": "scatter"
           }
          ],
          "scatter3d": [
           {
            "line": {
             "colorbar": {
              "outlinewidth": 0,
              "ticks": ""
             }
            },
            "marker": {
             "colorbar": {
              "outlinewidth": 0,
              "ticks": ""
             }
            },
            "type": "scatter3d"
           }
          ],
          "scattercarpet": [
           {
            "marker": {
             "colorbar": {
              "outlinewidth": 0,
              "ticks": ""
             }
            },
            "type": "scattercarpet"
           }
          ],
          "scattergeo": [
           {
            "marker": {
             "colorbar": {
              "outlinewidth": 0,
              "ticks": ""
             }
            },
            "type": "scattergeo"
           }
          ],
          "scattergl": [
           {
            "marker": {
             "colorbar": {
              "outlinewidth": 0,
              "ticks": ""
             }
            },
            "type": "scattergl"
           }
          ],
          "scattermapbox": [
           {
            "marker": {
             "colorbar": {
              "outlinewidth": 0,
              "ticks": ""
             }
            },
            "type": "scattermapbox"
           }
          ],
          "scatterpolar": [
           {
            "marker": {
             "colorbar": {
              "outlinewidth": 0,
              "ticks": ""
             }
            },
            "type": "scatterpolar"
           }
          ],
          "scatterpolargl": [
           {
            "marker": {
             "colorbar": {
              "outlinewidth": 0,
              "ticks": ""
             }
            },
            "type": "scatterpolargl"
           }
          ],
          "scatterternary": [
           {
            "marker": {
             "colorbar": {
              "outlinewidth": 0,
              "ticks": ""
             }
            },
            "type": "scatterternary"
           }
          ],
          "surface": [
           {
            "colorbar": {
             "outlinewidth": 0,
             "ticks": ""
            },
            "colorscale": [
             [
              0,
              "#0d0887"
             ],
             [
              0.1111111111111111,
              "#46039f"
             ],
             [
              0.2222222222222222,
              "#7201a8"
             ],
             [
              0.3333333333333333,
              "#9c179e"
             ],
             [
              0.4444444444444444,
              "#bd3786"
             ],
             [
              0.5555555555555556,
              "#d8576b"
             ],
             [
              0.6666666666666666,
              "#ed7953"
             ],
             [
              0.7777777777777778,
              "#fb9f3a"
             ],
             [
              0.8888888888888888,
              "#fdca26"
             ],
             [
              1,
              "#f0f921"
             ]
            ],
            "type": "surface"
           }
          ],
          "table": [
           {
            "cells": {
             "fill": {
              "color": "#EBF0F8"
             },
             "line": {
              "color": "white"
             }
            },
            "header": {
             "fill": {
              "color": "#C8D4E3"
             },
             "line": {
              "color": "white"
             }
            },
            "type": "table"
           }
          ]
         },
         "layout": {
          "annotationdefaults": {
           "arrowcolor": "#2a3f5f",
           "arrowhead": 0,
           "arrowwidth": 1
          },
          "autotypenumbers": "strict",
          "coloraxis": {
           "colorbar": {
            "outlinewidth": 0,
            "ticks": ""
           }
          },
          "colorscale": {
           "diverging": [
            [
             0,
             "#8e0152"
            ],
            [
             0.1,
             "#c51b7d"
            ],
            [
             0.2,
             "#de77ae"
            ],
            [
             0.3,
             "#f1b6da"
            ],
            [
             0.4,
             "#fde0ef"
            ],
            [
             0.5,
             "#f7f7f7"
            ],
            [
             0.6,
             "#e6f5d0"
            ],
            [
             0.7,
             "#b8e186"
            ],
            [
             0.8,
             "#7fbc41"
            ],
            [
             0.9,
             "#4d9221"
            ],
            [
             1,
             "#276419"
            ]
           ],
           "sequential": [
            [
             0,
             "#0d0887"
            ],
            [
             0.1111111111111111,
             "#46039f"
            ],
            [
             0.2222222222222222,
             "#7201a8"
            ],
            [
             0.3333333333333333,
             "#9c179e"
            ],
            [
             0.4444444444444444,
             "#bd3786"
            ],
            [
             0.5555555555555556,
             "#d8576b"
            ],
            [
             0.6666666666666666,
             "#ed7953"
            ],
            [
             0.7777777777777778,
             "#fb9f3a"
            ],
            [
             0.8888888888888888,
             "#fdca26"
            ],
            [
             1,
             "#f0f921"
            ]
           ],
           "sequentialminus": [
            [
             0,
             "#0d0887"
            ],
            [
             0.1111111111111111,
             "#46039f"
            ],
            [
             0.2222222222222222,
             "#7201a8"
            ],
            [
             0.3333333333333333,
             "#9c179e"
            ],
            [
             0.4444444444444444,
             "#bd3786"
            ],
            [
             0.5555555555555556,
             "#d8576b"
            ],
            [
             0.6666666666666666,
             "#ed7953"
            ],
            [
             0.7777777777777778,
             "#fb9f3a"
            ],
            [
             0.8888888888888888,
             "#fdca26"
            ],
            [
             1,
             "#f0f921"
            ]
           ]
          },
          "colorway": [
           "#636efa",
           "#EF553B",
           "#00cc96",
           "#ab63fa",
           "#FFA15A",
           "#19d3f3",
           "#FF6692",
           "#B6E880",
           "#FF97FF",
           "#FECB52"
          ],
          "font": {
           "color": "#2a3f5f"
          },
          "geo": {
           "bgcolor": "white",
           "lakecolor": "white",
           "landcolor": "#E5ECF6",
           "showlakes": true,
           "showland": true,
           "subunitcolor": "white"
          },
          "hoverlabel": {
           "align": "left"
          },
          "hovermode": "closest",
          "mapbox": {
           "style": "light"
          },
          "paper_bgcolor": "white",
          "plot_bgcolor": "#E5ECF6",
          "polar": {
           "angularaxis": {
            "gridcolor": "white",
            "linecolor": "white",
            "ticks": ""
           },
           "bgcolor": "#E5ECF6",
           "radialaxis": {
            "gridcolor": "white",
            "linecolor": "white",
            "ticks": ""
           }
          },
          "scene": {
           "xaxis": {
            "backgroundcolor": "#E5ECF6",
            "gridcolor": "white",
            "gridwidth": 2,
            "linecolor": "white",
            "showbackground": true,
            "ticks": "",
            "zerolinecolor": "white"
           },
           "yaxis": {
            "backgroundcolor": "#E5ECF6",
            "gridcolor": "white",
            "gridwidth": 2,
            "linecolor": "white",
            "showbackground": true,
            "ticks": "",
            "zerolinecolor": "white"
           },
           "zaxis": {
            "backgroundcolor": "#E5ECF6",
            "gridcolor": "white",
            "gridwidth": 2,
            "linecolor": "white",
            "showbackground": true,
            "ticks": "",
            "zerolinecolor": "white"
           }
          },
          "shapedefaults": {
           "line": {
            "color": "#2a3f5f"
           }
          },
          "ternary": {
           "aaxis": {
            "gridcolor": "white",
            "linecolor": "white",
            "ticks": ""
           },
           "baxis": {
            "gridcolor": "white",
            "linecolor": "white",
            "ticks": ""
           },
           "bgcolor": "#E5ECF6",
           "caxis": {
            "gridcolor": "white",
            "linecolor": "white",
            "ticks": ""
           }
          },
          "title": {
           "x": 0.05
          },
          "xaxis": {
           "automargin": true,
           "gridcolor": "white",
           "linecolor": "white",
           "ticks": "",
           "title": {
            "standoff": 15
           },
           "zerolinecolor": "white",
           "zerolinewidth": 2
          },
          "yaxis": {
           "automargin": true,
           "gridcolor": "white",
           "linecolor": "white",
           "ticks": "",
           "title": {
            "standoff": 15
           },
           "zerolinecolor": "white",
           "zerolinewidth": 2
          }
         }
        },
        "title": {
         "text": "Distribuição de idades por intervalo"
        }
       }
      }
     },
     "metadata": {},
     "output_type": "display_data"
    }
   ],
   "source": [
    "fig2 = px.pie(df_agrupado, values='count', names='age', title='Distribuição de idades por intervalo')\n",
    "fig2.show()\n"
   ]
  },
  {
   "cell_type": "code",
   "execution_count": null,
   "metadata": {},
   "outputs": [],
   "source": []
  },
  {
   "cell_type": "code",
   "execution_count": 23,
   "metadata": {},
   "outputs": [
    {
     "name": "stdout",
     "output_type": "stream",
     "text": [
      "Quantidade de idades no intervalo 0-10: 472\n",
      "Quantidade de idades no intervalo 10-20: 494\n",
      "Quantidade de idades no intervalo 20-30: 549\n",
      "Quantidade de idades no intervalo 30-40: 655\n",
      "Quantidade de idades no intervalo 40-50: 730\n",
      "Quantidade de idades no intervalo 50-60: 834\n",
      "Quantidade de idades no intervalo 60-70: 621\n",
      "Quantidade de idades no intervalo 70-80: 569\n"
     ]
    }
   ],
   "source": [
    "intervalos = [(0, 10), (10, 20), (20, 30), (30, 40), (40, 50), (50, 60), (60, 70), (70, 80)]\n",
    "\n",
    "# Inicialize um dicionário para armazenar as contagens de cada intervalo\n",
    "contagens_intervalos = {}\n",
    "\n",
    "# Itere sobre os intervalos e conte as idades em cada um deles\n",
    "for intervalo in intervalos:\n",
    "    inicio, fim = intervalo\n",
    "    idades_intervalo = df[(df['age'] >= inicio) & (df['age'] < fim)]\n",
    "    contagens_intervalos[f'{inicio}-{fim}'] = idades_intervalo.shape[0]\n",
    "\n",
    "# Exiba a quantidade de idades em cada intervalo\n",
    "for intervalo, quantidade in contagens_intervalos.items():\n",
    "    print(f\"Quantidade de idades no intervalo {intervalo}: {quantidade}\")\n",
    "    \n",
    "#Por algum motivo a idade de 70-80 tava sendo contada 2 vezes antes , ai tive que fazer isso pra verificar se tava certo msm vlw gpt"
   ]
  },
  {
   "cell_type": "code",
   "execution_count": 24,
   "metadata": {},
   "outputs": [
    {
     "name": "stderr",
     "output_type": "stream",
     "text": [
      "/tmp/ipykernel_33130/2158219379.py:2: SettingWithCopyWarning:\n",
      "\n",
      "\n",
      "A value is trying to be set on a copy of a slice from a DataFrame.\n",
      "Try using .loc[row_indexer,col_indexer] = value instead\n",
      "\n",
      "See the caveats in the documentation: https://pandas.pydata.org/pandas-docs/stable/user_guide/indexing.html#returning-a-view-versus-a-copy\n",
      "\n"
     ]
    },
    {
     "name": "stdout",
     "output_type": "stream",
     "text": [
      "Ocorrencias          id  gender  age  hypertension  heart_disease ever_married work_type  \\\n",
      "1614  47350  Female    0             0              0           No  children   \n",
      "3295  29955    Male    0             0              0           No  children   \n",
      "3618  22877    Male    0             0              0           No  children   \n",
      "3968  41500    Male    0             0              0           No  children   \n",
      "4021   8247    Male    0             0              0           No  children   \n",
      "...     ...     ...  ...           ...            ...          ...       ...   \n",
      "4756  11935  Female    9             0              0           No  children   \n",
      "4783  21980    Male    9             0              0           No  children   \n",
      "4792  41395    Male    9             0              0           No  children   \n",
      "4930  63575    Male    9             0              0           No  children   \n",
      "5098    579    Male    9             0              0           No  children   \n",
      "\n",
      "     residence_type  avg_glucose_level   bmi smoking_status  stroke  \n",
      "1614          Urban             139.67 14.10        Unknown       0  \n",
      "3295          Rural              70.33 16.90        Unknown       0  \n",
      "3618          Urban             114.71 17.40        Unknown       0  \n",
      "3968          Rural              69.79 13.00        Unknown       0  \n",
      "4021          Urban             109.52 13.90        Unknown       0  \n",
      "...             ...                ...   ...            ...     ...  \n",
      "4756          Rural             110.97 17.70        Unknown       0  \n",
      "4783          Urban              66.11 16.30        Unknown       0  \n",
      "4792          Urban             123.66 17.00        Unknown       0  \n",
      "4930          Urban              84.40 14.90        Unknown       0  \n",
      "5098          Urban              71.88 17.50        Unknown       0  \n",
      "\n",
      "[472 rows x 12 columns]:\n",
      "Ocorrencias          id  gender  age  hypertension  heart_disease ever_married work_type  \\\n",
      "519   22622    Male   10             0              0           No  children   \n",
      "667   62999    Male   10             0              0           No  children   \n",
      "974   11973  Female   10             0              0           No  children   \n",
      "1143  59275    Male   10             0              0           No  children   \n",
      "1222  18192    Male   10             0              0           No  children   \n",
      "...     ...     ...  ...           ...            ...          ...       ...   \n",
      "4815  43208  Female   19             0              0           No   Private   \n",
      "4837   8208    Male   19             0              0           No   Private   \n",
      "4940  68596  Female   19             0              0           No   Private   \n",
      "4980  19601  Female   19             0              0           No   Private   \n",
      "5083  72914  Female   19             0              0           No   Private   \n",
      "\n",
      "     residence_type  avg_glucose_level   bmi smoking_status  stroke  \n",
      "519           Rural             108.79 21.00        Unknown       0  \n",
      "667           Rural              59.49 18.30        Unknown       0  \n",
      "974           Urban             124.60 18.60        Unknown       0  \n",
      "1143          Rural              58.03 35.20        Unknown       0  \n",
      "1222          Rural              93.11 14.60        Unknown       0  \n",
      "...             ...                ...   ...            ...     ...  \n",
      "4815          Urban              96.85 23.40        Unknown       0  \n",
      "4837          Rural              95.18 24.90         smokes       0  \n",
      "4940          Urban              58.39 28.20   never smoked       0  \n",
      "4980          Urban             100.60 20.50   never smoked       0  \n",
      "5083          Urban              90.57 24.20        Unknown       0  \n",
      "\n",
      "[494 rows x 12 columns]:\n",
      "Ocorrencias          id  gender  age  hypertension  heart_disease ever_married  \\\n",
      "265   19584  Female   20             0              0           No   \n",
      "352   40670  Female   20             0              0           No   \n",
      "394    5708  Female   20             0              0           No   \n",
      "443   61350    Male   20             0              0           No   \n",
      "486   50441    Male   20             0              0           No   \n",
      "...     ...     ...  ...           ...            ...          ...   \n",
      "4726  46015  Female   29             0              0           No   \n",
      "4787  26305    Male   29             0              0           No   \n",
      "5014  30463    Male   29             0              0           No   \n",
      "5019  37713    Male   29             0              0          Yes   \n",
      "5080  22691  Female   29             0              0          Yes   \n",
      "\n",
      "          work_type residence_type  avg_glucose_level   bmi   smoking_status  \\\n",
      "265         Private          Urban              84.62 19.70           smokes   \n",
      "352         Private          Rural              96.57 34.10     never smoked   \n",
      "394         Private          Urban              91.60 28.10     never smoked   \n",
      "443        Govt_job          Rural              98.70 26.20          Unknown   \n",
      "486         Private          Rural             104.48 21.70     never smoked   \n",
      "...             ...            ...                ...   ...              ...   \n",
      "4726        Private          Urban              73.63 22.50           smokes   \n",
      "4787  Self-employed          Rural              96.77 30.30  formerly smoked   \n",
      "5014        Private          Urban              82.93 29.40  formerly smoked   \n",
      "5019        Private          Urban             185.27 31.30     never smoked   \n",
      "5080  Self-employed          Urban              90.52 28.00     never smoked   \n",
      "\n",
      "      stroke  \n",
      "265        0  \n",
      "352        0  \n",
      "394        0  \n",
      "443        0  \n",
      "486        0  \n",
      "...      ...  \n",
      "4726       0  \n",
      "4787       0  \n",
      "5014       0  \n",
      "5019       0  \n",
      "5080       0  \n",
      "\n",
      "[549 rows x 12 columns]:\n",
      "Ocorrencias          id  gender  age  hypertension  heart_disease ever_married work_type  \\\n",
      "308   40181  Female   30             0              0          Yes   Private   \n",
      "527   17019  Female   30             0              0          Yes  Govt_job   \n",
      "540   39383  Female   30             0              0          Yes   Private   \n",
      "593   59807  Female   30             0              0          Yes   Private   \n",
      "698   14391  Female   30             0              0          Yes   Private   \n",
      "...     ...     ...  ...           ...            ...          ...       ...   \n",
      "4873  22897    Male   39             0              0          Yes   Private   \n",
      "4896  53028  Female   39             0              0          Yes   Private   \n",
      "4909  70540  Female   39             0              0          Yes   Private   \n",
      "4985  37431  Female   39             0              0          Yes  Govt_job   \n",
      "5063  68967    Male   39             0              0          Yes   Private   \n",
      "\n",
      "     residence_type  avg_glucose_level   bmi   smoking_status  stroke  \n",
      "308           Urban              61.45 36.70           smokes       0  \n",
      "527           Urban             113.85 34.00     never smoked       0  \n",
      "540           Urban              80.19 20.40     never smoked       0  \n",
      "593           Urban              59.82 25.40     never smoked       0  \n",
      "698           Rural              89.63 23.20           smokes       0  \n",
      "...             ...                ...   ...              ...     ...  \n",
      "4873          Rural              84.09 31.10  formerly smoked       0  \n",
      "4896          Rural              81.31 34.70     never smoked       0  \n",
      "4909          Urban             243.52 37.20           smokes       0  \n",
      "4985          Urban             109.03 24.90          Unknown       0  \n",
      "5063          Urban             179.38 27.70          Unknown       0  \n",
      "\n",
      "[655 rows x 12 columns]:\n",
      "Ocorrencias          id  gender  age  hypertension  heart_disease ever_married  \\\n",
      "263   67855  Female   40             0              0          Yes   \n",
      "428   59906  Female   40             0              0          Yes   \n",
      "522   16380    Male   40             0              0          Yes   \n",
      "548   34641    Male   40             0              0           No   \n",
      "608   65130    Male   40             0              0          Yes   \n",
      "...     ...     ...  ...           ...            ...          ...   \n",
      "4861  65907  Female   49             0              0          Yes   \n",
      "4867  47427    Male   49             0              0          Yes   \n",
      "4888  39936  Female   49             0              0          Yes   \n",
      "4960  63287  Female   49             0              0          Yes   \n",
      "5057  38349  Female   49             0              0          Yes   \n",
      "\n",
      "          work_type residence_type  avg_glucose_level   bmi   smoking_status  \\\n",
      "263         Private          Rural              95.04 42.40     never smoked   \n",
      "428         Private          Rural             139.90 31.70           smokes   \n",
      "522         Private          Rural              89.77   NaN           smokes   \n",
      "548         Private          Rural             100.35 28.10     never smoked   \n",
      "608         Private          Rural             144.48 29.80           smokes   \n",
      "...             ...            ...                ...   ...              ...   \n",
      "4861        Private          Urban             206.53 44.50           smokes   \n",
      "4867  Self-employed          Urban              70.73 27.30  formerly smoked   \n",
      "4888        Private          Rural              61.57 37.90  formerly smoked   \n",
      "4960        Private          Urban              77.93 39.10           smokes   \n",
      "5057       Govt_job          Urban              69.92 47.60     never smoked   \n",
      "\n",
      "      stroke  \n",
      "263        0  \n",
      "428        0  \n",
      "522        0  \n",
      "548        0  \n",
      "608        0  \n",
      "...      ...  \n",
      "4861       0  \n",
      "4867       0  \n",
      "4888       0  \n",
      "4960       0  \n",
      "5057       0  \n",
      "\n",
      "[730 rows x 12 columns]:\n",
      "Ocorrencias          id  gender  age  hypertension  heart_disease ever_married  \\\n",
      "15    58202  Female   50             1              0          Yes   \n",
      "106   42072  Female   50             1              0          Yes   \n",
      "156   43054  Female   50             0              0          Yes   \n",
      "618   71533    Male   50             0              0          Yes   \n",
      "723   13365    Male   50             0              0          Yes   \n",
      "...     ...     ...  ...           ...            ...          ...   \n",
      "4755  12786  Female   59             0              0          Yes   \n",
      "4939  46086  Female   59             0              0          Yes   \n",
      "4995   5964  Female   59             0              0          Yes   \n",
      "5007  42647  Female   59             0              0          Yes   \n",
      "5091   6369    Male   59             1              0          Yes   \n",
      "\n",
      "          work_type residence_type  avg_glucose_level   bmi   smoking_status  \\\n",
      "15    Self-employed          Rural             167.41 30.90     never smoked   \n",
      "106         Private          Rural              73.18 30.30  formerly smoked   \n",
      "156         Private          Rural             102.16 31.40           smokes   \n",
      "618         Private          Urban             158.31 32.80  formerly smoked   \n",
      "723         Private          Rural              77.65 24.40           smokes   \n",
      "...             ...            ...                ...   ...              ...   \n",
      "4755        Private          Urban              83.62 34.20          Unknown   \n",
      "4939        Private          Urban              71.08 28.10     never smoked   \n",
      "4995        Private          Urban             182.52 30.10          Unknown   \n",
      "5007       Govt_job          Urban             101.19 29.90  formerly smoked   \n",
      "5091        Private          Rural              95.05 30.90     never smoked   \n",
      "\n",
      "      stroke  \n",
      "15         1  \n",
      "106        1  \n",
      "156        1  \n",
      "618        0  \n",
      "723        0  \n",
      "...      ...  \n",
      "4755       0  \n",
      "4939       0  \n",
      "4995       0  \n",
      "5007       0  \n",
      "5091       0  \n",
      "\n",
      "[834 rows x 12 columns]:\n",
      "Ocorrencias          id  gender  age  hypertension  heart_disease ever_married  \\\n",
      "18    27458  Female   60             0              0           No   \n",
      "44     7937    Male   60             1              0          Yes   \n",
      "172   67432  Female   60             0              0          Yes   \n",
      "239   32221    Male   60             0              1          Yes   \n",
      "353    4630  Female   60             0              0          Yes   \n",
      "...     ...     ...  ...           ...            ...          ...   \n",
      "4284  52361    Male   69             1              1          Yes   \n",
      "4554  11908  Female   69             0              0          Yes   \n",
      "4672  63880  Female   69             0              0          Yes   \n",
      "4745  55140    Male   69             1              0           No   \n",
      "4908  60426  Female   69             0              0          Yes   \n",
      "\n",
      "          work_type residence_type  avg_glucose_level   bmi   smoking_status  \\\n",
      "18          Private          Urban              89.22 37.80     never smoked   \n",
      "44         Govt_job          Urban             213.03 20.20           smokes   \n",
      "172         Private          Urban              97.43 26.40           smokes   \n",
      "239         Private          Urban              91.92 35.90           smokes   \n",
      "353         Private          Rural              66.42 23.60     never smoked   \n",
      "...             ...            ...                ...   ...              ...   \n",
      "4284        Private          Urban              78.11 34.70  formerly smoked   \n",
      "4554  Self-employed          Urban              83.55 28.30  formerly smoked   \n",
      "4672  Self-employed          Urban              70.00 36.00     never smoked   \n",
      "4745        Private          Urban              75.95 28.60     never smoked   \n",
      "4908  Self-employed          Urban              67.55 38.10          Unknown   \n",
      "\n",
      "      stroke  \n",
      "18         1  \n",
      "44         1  \n",
      "172        1  \n",
      "239        1  \n",
      "353        0  \n",
      "...      ...  \n",
      "4284       0  \n",
      "4554       0  \n",
      "4672       0  \n",
      "4745       0  \n",
      "4908       0  \n",
      "\n",
      "[621 rows x 12 columns]:\n",
      "Ocorrencias          id  gender  age  hypertension  heart_disease ever_married  \\\n",
      "66    17004  Female   70             0              0          Yes   \n",
      "87    71796  Female   70             0              1          Yes   \n",
      "96    35512  Female   70             0              0          Yes   \n",
      "149   58978  Female   70             0              1          Yes   \n",
      "164    3512  Female   70             1              0          Yes   \n",
      "...     ...     ...  ...           ...            ...          ...   \n",
      "4777  10119    Male   79             0              0          Yes   \n",
      "4823   7218  Female   79             0              0          Yes   \n",
      "4988  30525  Female   79             0              0          Yes   \n",
      "5008  48109  Female   79             0              1          Yes   \n",
      "5034  65405  Female   79             0              0           No   \n",
      "\n",
      "          work_type residence_type  avg_glucose_level   bmi   smoking_status  \\\n",
      "66          Private          Urban             221.58 47.50     never smoked   \n",
      "87          Private          Rural              59.35 32.30  formerly smoked   \n",
      "96    Self-employed          Rural              76.34 24.40  formerly smoked   \n",
      "149         Private          Rural             239.07 26.10     never smoked   \n",
      "164   Self-employed          Urban              89.13 34.20  formerly smoked   \n",
      "...             ...            ...                ...   ...              ...   \n",
      "4777        Private          Rural              69.34 29.00     never smoked   \n",
      "4823        Private          Rural             214.73 30.90     never smoked   \n",
      "4988       Govt_job          Urban              95.42 21.50  formerly smoked   \n",
      "5008        Private          Rural              88.51 24.50     never smoked   \n",
      "5034        Private          Urban             253.86 28.80  formerly smoked   \n",
      "\n",
      "      stroke  \n",
      "66         1  \n",
      "87         1  \n",
      "96         1  \n",
      "149        1  \n",
      "164        1  \n",
      "...      ...  \n",
      "4777       0  \n",
      "4823       0  \n",
      "4988       0  \n",
      "5008       0  \n",
      "5034       0  \n",
      "\n",
      "[569 rows x 12 columns]:\n",
      "[1, 1, 0, 6, 12, 48, 47, 94]\n"
     ]
    }
   ],
   "source": [
    "quantidade_infartos = []\n",
    "df_filtro['age'] = df['age'].astype(int)\n",
    "for i in range(0,80,10):\n",
    "     ocorrencias_intervalo = df_filtro[(df_filtro['age'] >= i) & (df_filtro['age'] < i+10)]\n",
    "     quantidade_infartos.append(ocorrencias_intervalo['stroke'].sum())\n",
    "     print(f\"Ocorrencias {ocorrencias_intervalo}:\")\n",
    "\n",
    "print(quantidade_infartos)"
   ]
  },
  {
   "cell_type": "code",
   "execution_count": 25,
   "metadata": {},
   "outputs": [
    {
     "data": {
      "text/html": [
       "<div>\n",
       "<style scoped>\n",
       "    .dataframe tbody tr th:only-of-type {\n",
       "        vertical-align: middle;\n",
       "    }\n",
       "\n",
       "    .dataframe tbody tr th {\n",
       "        vertical-align: top;\n",
       "    }\n",
       "\n",
       "    .dataframe thead th {\n",
       "        text-align: right;\n",
       "    }\n",
       "</style>\n",
       "<table border=\"1\" class=\"dataframe\">\n",
       "  <thead>\n",
       "    <tr style=\"text-align: right;\">\n",
       "      <th></th>\n",
       "      <th>age</th>\n",
       "      <th>count</th>\n",
       "      <th>qtd_infartos</th>\n",
       "    </tr>\n",
       "  </thead>\n",
       "  <tbody>\n",
       "    <tr>\n",
       "      <th>0</th>\n",
       "      <td>0-10</td>\n",
       "      <td>472</td>\n",
       "      <td>1</td>\n",
       "    </tr>\n",
       "    <tr>\n",
       "      <th>1</th>\n",
       "      <td>10-20</td>\n",
       "      <td>494</td>\n",
       "      <td>1</td>\n",
       "    </tr>\n",
       "    <tr>\n",
       "      <th>2</th>\n",
       "      <td>20-30</td>\n",
       "      <td>549</td>\n",
       "      <td>0</td>\n",
       "    </tr>\n",
       "    <tr>\n",
       "      <th>3</th>\n",
       "      <td>30-40</td>\n",
       "      <td>655</td>\n",
       "      <td>6</td>\n",
       "    </tr>\n",
       "    <tr>\n",
       "      <th>4</th>\n",
       "      <td>40-50</td>\n",
       "      <td>730</td>\n",
       "      <td>12</td>\n",
       "    </tr>\n",
       "    <tr>\n",
       "      <th>5</th>\n",
       "      <td>50-60</td>\n",
       "      <td>834</td>\n",
       "      <td>48</td>\n",
       "    </tr>\n",
       "    <tr>\n",
       "      <th>6</th>\n",
       "      <td>60-70</td>\n",
       "      <td>621</td>\n",
       "      <td>47</td>\n",
       "    </tr>\n",
       "    <tr>\n",
       "      <th>7</th>\n",
       "      <td>70-80</td>\n",
       "      <td>569</td>\n",
       "      <td>94</td>\n",
       "    </tr>\n",
       "  </tbody>\n",
       "</table>\n",
       "</div>"
      ],
      "text/plain": [
       "     age  count  qtd_infartos\n",
       "0   0-10    472             1\n",
       "1  10-20    494             1\n",
       "2  20-30    549             0\n",
       "3  30-40    655             6\n",
       "4  40-50    730            12\n",
       "5  50-60    834            48\n",
       "6  60-70    621            47\n",
       "7  70-80    569            94"
      ]
     },
     "execution_count": 25,
     "metadata": {},
     "output_type": "execute_result"
    }
   ],
   "source": [
    "df_agrupado['qtd_infartos'] = quantidade_infartos\n",
    "df_agrupado"
   ]
  },
  {
   "cell_type": "code",
   "execution_count": 26,
   "metadata": {},
   "outputs": [
    {
     "data": {
      "text/html": [
       "<div>\n",
       "<style scoped>\n",
       "    .dataframe tbody tr th:only-of-type {\n",
       "        vertical-align: middle;\n",
       "    }\n",
       "\n",
       "    .dataframe tbody tr th {\n",
       "        vertical-align: top;\n",
       "    }\n",
       "\n",
       "    .dataframe thead th {\n",
       "        text-align: right;\n",
       "    }\n",
       "</style>\n",
       "<table border=\"1\" class=\"dataframe\">\n",
       "  <thead>\n",
       "    <tr style=\"text-align: right;\">\n",
       "      <th></th>\n",
       "      <th>age</th>\n",
       "      <th>count</th>\n",
       "      <th>qtd_infartos</th>\n",
       "      <th>Freq relativa %</th>\n",
       "      <th>infartos %</th>\n",
       "    </tr>\n",
       "  </thead>\n",
       "  <tbody>\n",
       "    <tr>\n",
       "      <th>0</th>\n",
       "      <td>0-10</td>\n",
       "      <td>472</td>\n",
       "      <td>1</td>\n",
       "      <td>9.59</td>\n",
       "      <td>0.02</td>\n",
       "    </tr>\n",
       "    <tr>\n",
       "      <th>1</th>\n",
       "      <td>10-20</td>\n",
       "      <td>494</td>\n",
       "      <td>1</td>\n",
       "      <td>10.03</td>\n",
       "      <td>0.02</td>\n",
       "    </tr>\n",
       "    <tr>\n",
       "      <th>2</th>\n",
       "      <td>20-30</td>\n",
       "      <td>549</td>\n",
       "      <td>0</td>\n",
       "      <td>11.15</td>\n",
       "      <td>0.00</td>\n",
       "    </tr>\n",
       "    <tr>\n",
       "      <th>3</th>\n",
       "      <td>30-40</td>\n",
       "      <td>655</td>\n",
       "      <td>6</td>\n",
       "      <td>13.30</td>\n",
       "      <td>0.12</td>\n",
       "    </tr>\n",
       "    <tr>\n",
       "      <th>4</th>\n",
       "      <td>40-50</td>\n",
       "      <td>730</td>\n",
       "      <td>12</td>\n",
       "      <td>14.83</td>\n",
       "      <td>0.24</td>\n",
       "    </tr>\n",
       "    <tr>\n",
       "      <th>5</th>\n",
       "      <td>50-60</td>\n",
       "      <td>834</td>\n",
       "      <td>48</td>\n",
       "      <td>16.94</td>\n",
       "      <td>0.97</td>\n",
       "    </tr>\n",
       "    <tr>\n",
       "      <th>6</th>\n",
       "      <td>60-70</td>\n",
       "      <td>621</td>\n",
       "      <td>47</td>\n",
       "      <td>12.61</td>\n",
       "      <td>0.95</td>\n",
       "    </tr>\n",
       "    <tr>\n",
       "      <th>7</th>\n",
       "      <td>70-80</td>\n",
       "      <td>569</td>\n",
       "      <td>94</td>\n",
       "      <td>11.56</td>\n",
       "      <td>1.91</td>\n",
       "    </tr>\n",
       "  </tbody>\n",
       "</table>\n",
       "</div>"
      ],
      "text/plain": [
       "     age  count  qtd_infartos  Freq relativa %  infartos %\n",
       "0   0-10    472             1             9.59        0.02\n",
       "1  10-20    494             1            10.03        0.02\n",
       "2  20-30    549             0            11.15        0.00\n",
       "3  30-40    655             6            13.30        0.12\n",
       "4  40-50    730            12            14.83        0.24\n",
       "5  50-60    834            48            16.94        0.97\n",
       "6  60-70    621            47            12.61        0.95\n",
       "7  70-80    569            94            11.56        1.91"
      ]
     },
     "execution_count": 26,
     "metadata": {},
     "output_type": "execute_result"
    }
   ],
   "source": [
    "df_F = df_agrupado\n",
    "df_F['Freq relativa %'] = (df_F['count'] / df_F['count'].sum()) * 100\n",
    "df_F['infartos %'] = (df_F['qtd_infartos'] / df_F['count'].sum()) * 100\n",
    "df_F"
   ]
  },
  {
   "cell_type": "markdown",
   "metadata": {},
   "source": [
    "# Cálculos\n",
    "\n",
    "    Amplitude geral = 80 - 0 = 80\n",
    "    Amplitude relativa = 79 - 0 = 79\n",
    "    Amplitude entre classs = 10"
   ]
  }
 ],
 "metadata": {
  "kernelspec": {
   "display_name": "Python 3",
   "language": "python",
   "name": "python3"
  },
  "language_info": {
   "codemirror_mode": {
    "name": "ipython",
    "version": 3
   },
   "file_extension": ".py",
   "mimetype": "text/x-python",
   "name": "python",
   "nbconvert_exporter": "python",
   "pygments_lexer": "ipython3",
   "version": "3.9.2"
  }
 },
 "nbformat": 4,
 "nbformat_minor": 2
}
