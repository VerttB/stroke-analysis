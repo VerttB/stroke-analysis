{
 "cells": [
  {
   "cell_type": "markdown",
   "metadata": {},
   "source": [
    "# Trabalho de Probabilidade e Estatística - Sistemas de Informação\n",
    "\n",
    "Alunos:\n",
    "\n",
    "- Alysson dos Anjos\n",
    "- Brunna Gabriella da Silva\n",
    "- Letícia Almeida\n",
    "- Victor Hugo Bittencourt\n",
    "\n",
    "## Tema: Análise a predição de AVCs \n",
    "\n",
    "link da base de dados: \n",
    "    https://www.kaggle.com/datasets/fedesoriano/stroke-prediction-dataset\n"
   ]
  },
  {
   "cell_type": "markdown",
   "metadata": {},
   "source": [
    "### Importando bibliotecas"
   ]
  },
  {
   "cell_type": "code",
   "execution_count": 1,
   "metadata": {},
   "outputs": [
    {
     "name": "stdout",
     "output_type": "stream",
     "text": [
      "Defaulting to user installation because normal site-packages is not writeable\n",
      "Requirement already satisfied: pandas in /home/Letícia/.local/lib/python3.9/site-packages (2.1.3)\n",
      "Requirement already satisfied: numpy<2,>=1.22.4 in /home/Letícia/.local/lib/python3.9/site-packages (from pandas) (1.26.2)\n",
      "Requirement already satisfied: python-dateutil>=2.8.2 in /home/Letícia/.local/lib/python3.9/site-packages (from pandas) (2.8.2)\n",
      "Requirement already satisfied: pytz>=2020.1 in /home/Letícia/.local/lib/python3.9/site-packages (from pandas) (2023.3.post1)\n",
      "Requirement already satisfied: tzdata>=2022.1 in /home/Letícia/.local/lib/python3.9/site-packages (from pandas) (2023.3)\n",
      "Requirement already satisfied: six>=1.5 in /usr/lib/python3/dist-packages (from python-dateutil>=2.8.2->pandas) (1.16.0)\n",
      "Note: you may need to restart the kernel to use updated packages.\n",
      "Defaulting to user installation because normal site-packages is not writeable\n",
      "Requirement already satisfied: numpy in /home/Letícia/.local/lib/python3.9/site-packages (1.26.2)\n",
      "Note: you may need to restart the kernel to use updated packages.\n"
     ]
    }
   ],
   "source": [
    "%pip install pandas\n",
    "%pip install numpy\n",
    "\n",
    "import pandas as pd\n",
    "import numpy as np\n",
    "from src.dataframes import data_AVC"
   ]
  },
  {
   "cell_type": "markdown",
   "metadata": {},
   "source": [
    "### Algumas médias e modas de quem tem AVC"
   ]
  },
  {
   "cell_type": "code",
   "execution_count": 2,
   "metadata": {},
   "outputs": [
    {
     "name": "stdout",
     "output_type": "stream",
     "text": [
      "media idade: 67.73\n",
      "media nivel medio de glicose: 132.54\n",
      "media de IMC: 30.47\n",
      "\n",
      "moda idade:  78 \n",
      "moda nivel medio de glicose:  101.45 \n",
      "moda de IMC:  27.3\n"
     ]
    }
   ],
   "source": [
    "media_idade_AVC = data_AVC['age'].mean()\n",
    "media_glucose_AVC = data_AVC['avg_glucose_level'].mean()\n",
    "media_bmi_AVC = data_AVC['bmi'].mean()\n",
    "\n",
    "moda_idade_AVC = data_AVC['age'].mode().iloc[0]\n",
    "moda_glucose_AVC = data_AVC['avg_glucose_level'].mode().iloc[0]\n",
    "moda_bmi_AVC = data_AVC['bmi'].mode().iloc[0]\n",
    "\n",
    "print(\"media idade: {:.2f}\\nmedia nivel medio de glicose: {:.2f}\\nmedia de IMC: {:.2f}\".format(media_idade_AVC, media_glucose_AVC, media_bmi_AVC))\n",
    "print(\"\\nmoda idade: \", moda_idade_AVC, \"\\nmoda nivel medio de glicose: \", moda_glucose_AVC, \"\\nmoda de IMC: \", moda_bmi_AVC)"
   ]
  },
  {
   "cell_type": "markdown",
   "metadata": {},
   "source": [
    "### Calculando algumas medianas - e reordenando as colunas espeficicas do dataframe para cada uma"
   ]
  },
  {
   "cell_type": "code",
   "execution_count": 3,
   "metadata": {},
   "outputs": [
    {
     "name": "stdout",
     "output_type": "stream",
     "text": [
      "mediana idade:  71.0 \n",
      "mediana nivel medio de glicose:  105.22 \n",
      "mediana de IMC:  29.7\n"
     ]
    },
    {
     "name": "stderr",
     "output_type": "stream",
     "text": [
      "/tmp/ipykernel_32140/826060412.py:1: SettingWithCopyWarning: \n",
      "A value is trying to be set on a copy of a slice from a DataFrame\n",
      "\n",
      "See the caveats in the documentation: https://pandas.pydata.org/pandas-docs/stable/user_guide/indexing.html#returning-a-view-versus-a-copy\n",
      "  data_AVC.sort_values(by='age', inplace=True)\n",
      "/tmp/ipykernel_32140/826060412.py:4: SettingWithCopyWarning: \n",
      "A value is trying to be set on a copy of a slice from a DataFrame\n",
      "\n",
      "See the caveats in the documentation: https://pandas.pydata.org/pandas-docs/stable/user_guide/indexing.html#returning-a-view-versus-a-copy\n",
      "  data_AVC.sort_values(by='avg_glucose_level', inplace=True)\n",
      "/tmp/ipykernel_32140/826060412.py:7: SettingWithCopyWarning: \n",
      "A value is trying to be set on a copy of a slice from a DataFrame\n",
      "\n",
      "See the caveats in the documentation: https://pandas.pydata.org/pandas-docs/stable/user_guide/indexing.html#returning-a-view-versus-a-copy\n",
      "  data_AVC.sort_values(by='bmi', inplace=True)\n"
     ]
    }
   ],
   "source": [
    "data_AVC.sort_values(by='age', inplace=True)\n",
    "mediana_idade_AVC = data_AVC['age'].median()\n",
    "\n",
    "data_AVC.sort_values(by='avg_glucose_level', inplace=True)\n",
    "mediana_glucose_AVC = data_AVC['avg_glucose_level'].median()\n",
    "\n",
    "data_AVC.sort_values(by='bmi', inplace=True)\n",
    "mediana_bmi_AVC = data_AVC['bmi'].median()\n",
    "\n",
    "print(\"mediana idade: \", mediana_idade_AVC, \"\\nmediana nivel medio de glicose: \", mediana_glucose_AVC, \"\\nmediana de IMC: \", mediana_bmi_AVC)\n"
   ]
  },
  {
   "cell_type": "markdown",
   "metadata": {},
   "source": [
    "### Variância"
   ]
  },
  {
   "cell_type": "code",
   "execution_count": 4,
   "metadata": {},
   "outputs": [
    {
     "name": "stdout",
     "output_type": "stream",
     "text": [
      "variancia idade: 161.51\n",
      "variancia nivel medio de glicose: 3818.82\n",
      "variancia de IMC: 39.87\n"
     ]
    }
   ],
   "source": [
    "var_idade = np.var(data_AVC['age'])\n",
    "var_glicose = np.var(data_AVC['avg_glucose_level'])\n",
    "var_bmi = np.var(data_AVC['bmi'])\n",
    "\n",
    "print(\"variancia idade: {:.2f}\\nvariancia nivel medio de glicose: {:.2f}\\nvariancia de IMC: {:.2f}\".format(var_idade, var_glicose, var_bmi))\n"
   ]
  },
  {
   "cell_type": "markdown",
   "metadata": {},
   "source": [
    "### Desvio padrão"
   ]
  },
  {
   "cell_type": "code",
   "execution_count": 5,
   "metadata": {},
   "outputs": [
    {
     "name": "stdout",
     "output_type": "stream",
     "text": [
      "desvio padrao idade: 12.71\n",
      "desvio padrao nivel medio de glicose: 61.80\n",
      "desvio padrao de IMC: 6.31\n"
     ]
    }
   ],
   "source": [
    "dp_idade = np.std(data_AVC['age'])\n",
    "dp_glicose = np.std(data_AVC['avg_glucose_level'])\n",
    "dp_bmi = np.std(data_AVC['bmi'])\n",
    "\n",
    "print(\"desvio padrao idade: {:.2f}\\ndesvio padrao nivel medio de glicose: {:.2f}\\ndesvio padrao de IMC: {:.2f}\".format(dp_idade, dp_glicose, dp_bmi))\n"
   ]
  },
  {
   "cell_type": "markdown",
   "metadata": {},
   "source": [
    "### Amplitude total"
   ]
  },
  {
   "cell_type": "code",
   "execution_count": 6,
   "metadata": {},
   "outputs": [
    {
     "name": "stdout",
     "output_type": "stream",
     "text": [
      "amplitude total idade: 81.00\n",
      "amplitude total nivel medio de glicose: 215.63\n",
      "amplitude total de IMC: nan\n"
     ]
    }
   ],
   "source": [
    "amp_idade = np.ptp(data_AVC['age'])\n",
    "amp_glicose = np.ptp(data_AVC['avg_glucose_level'])\n",
    "amp_bmi = np.ptp(data_AVC['bmi'])\n",
    "\n",
    "print(\"amplitude total idade: {:.2f}\\namplitude total nivel medio de glicose: {:.2f}\\namplitude total de IMC: {:.2f}\".format(amp_idade, amp_glicose, amp_bmi))\n"
   ]
  },
  {
   "cell_type": "markdown",
   "metadata": {},
   "source": [
    "### Coeficiente de variação"
   ]
  },
  {
   "cell_type": "code",
   "execution_count": 7,
   "metadata": {},
   "outputs": [
    {
     "name": "stdout",
     "output_type": "stream",
     "text": [
      "coeficiente de variacao idade: 18.76\n",
      "coeficiente de variacao nivel medio de glicose: 46.62\n",
      "coeficiente de variacao de IMC: 20.72\n"
     ]
    }
   ],
   "source": [
    "cv_idade = (dp_idade / media_idade_AVC) * 100\n",
    "cv_glicose = (dp_glicose / media_glucose_AVC) * 100\n",
    "cv_bmi = (dp_bmi / media_bmi_AVC) * 100\n",
    "\n",
    "print(\"coeficiente de variacao idade: {:.2f}\\ncoeficiente de variacao nivel medio de glicose: {:.2f}\\ncoeficiente de variacao de IMC: {:.2f}\".format(cv_idade, cv_glicose, cv_bmi))\n"
   ]
  }
 ],
 "metadata": {
  "kernelspec": {
   "display_name": "Python 3",
   "language": "python",
   "name": "python3"
  },
  "language_info": {
   "codemirror_mode": {
    "name": "ipython",
    "version": 3
   },
   "file_extension": ".py",
   "mimetype": "text/x-python",
   "name": "python",
   "nbconvert_exporter": "python",
   "pygments_lexer": "ipython3",
   "version": "3.9.2"
  }
 },
 "nbformat": 4,
 "nbformat_minor": 2
}
