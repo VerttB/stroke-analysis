{
 "cells": [
  {
   "cell_type": "markdown",
   "metadata": {},
   "source": [
    "# Capítulo 7 - Medidas de variabilidade"
   ]
  },
  {
   "cell_type": "code",
   "execution_count": 7,
   "metadata": {},
   "outputs": [
    {
     "name": "stdout",
     "output_type": "stream",
     "text": [
      "Defaulting to user installation because normal site-packages is not writeable\n",
      "Requirement already satisfied: pandas in /home/Letícia/.local/lib/python3.9/site-packages (2.1.3)\n",
      "Requirement already satisfied: numpy<2,>=1.22.4 in /home/Letícia/.local/lib/python3.9/site-packages (from pandas) (1.26.2)\n",
      "Requirement already satisfied: python-dateutil>=2.8.2 in /home/Letícia/.local/lib/python3.9/site-packages (from pandas) (2.8.2)\n",
      "Requirement already satisfied: pytz>=2020.1 in /home/Letícia/.local/lib/python3.9/site-packages (from pandas) (2023.3.post1)\n",
      "Requirement already satisfied: tzdata>=2022.1 in /home/Letícia/.local/lib/python3.9/site-packages (from pandas) (2023.3)\n",
      "Requirement already satisfied: six>=1.5 in /usr/lib/python3/dist-packages (from python-dateutil>=2.8.2->pandas) (1.16.0)\n",
      "Note: you may need to restart the kernel to use updated packages.\n",
      "Defaulting to user installation because normal site-packages is not writeable\n",
      "Requirement already satisfied: numpy in /home/Letícia/.local/lib/python3.9/site-packages (1.26.2)\n",
      "Note: you may need to restart the kernel to use updated packages.\n",
      "Defaulting to user installation because normal site-packages is not writeable\n",
      "Requirement already satisfied: plotly.express in /home/Letícia/.local/lib/python3.9/site-packages (0.4.1)\n",
      "Requirement already satisfied: pandas>=0.20.0 in /home/Letícia/.local/lib/python3.9/site-packages (from plotly.express) (2.1.3)\n",
      "Requirement already satisfied: plotly>=4.1.0 in /home/Letícia/.local/lib/python3.9/site-packages (from plotly.express) (5.20.0)\n",
      "Requirement already satisfied: statsmodels>=0.9.0 in /home/Letícia/.local/lib/python3.9/site-packages (from plotly.express) (0.14.1)\n",
      "Requirement already satisfied: scipy>=0.18 in /home/Letícia/.local/lib/python3.9/site-packages (from plotly.express) (1.13.0)\n",
      "Requirement already satisfied: patsy>=0.5 in /home/Letícia/.local/lib/python3.9/site-packages (from plotly.express) (0.5.6)\n",
      "Requirement already satisfied: numpy>=1.11 in /home/Letícia/.local/lib/python3.9/site-packages (from plotly.express) (1.26.2)\n",
      "Requirement already satisfied: python-dateutil>=2.8.2 in /home/Letícia/.local/lib/python3.9/site-packages (from pandas>=0.20.0->plotly.express) (2.8.2)\n",
      "Requirement already satisfied: pytz>=2020.1 in /home/Letícia/.local/lib/python3.9/site-packages (from pandas>=0.20.0->plotly.express) (2023.3.post1)\n",
      "Requirement already satisfied: tzdata>=2022.1 in /home/Letícia/.local/lib/python3.9/site-packages (from pandas>=0.20.0->plotly.express) (2023.3)\n",
      "Requirement already satisfied: six in /usr/lib/python3/dist-packages (from patsy>=0.5->plotly.express) (1.16.0)\n",
      "Requirement already satisfied: tenacity>=6.2.0 in /home/Letícia/.local/lib/python3.9/site-packages (from plotly>=4.1.0->plotly.express) (8.2.3)\n",
      "Requirement already satisfied: packaging in /home/Letícia/.local/lib/python3.9/site-packages (from plotly>=4.1.0->plotly.express) (23.2)\n",
      "Note: you may need to restart the kernel to use updated packages.\n"
     ]
    }
   ],
   "source": [
    "#adaptar aqui depois as coisas do cpitulo 7 e plotar outros graficos\n",
    "%pip install pandas\n",
    "%pip install numpy\n",
    "%pip install plotly.express\n",
    "\n",
    "import pandas as pd\n",
    "import numpy as np\n",
    "import plotly.express as px\n",
    "from src.dataframes import data_AVC\n"
   ]
  },
  {
   "cell_type": "markdown",
   "metadata": {},
   "source": [
    "### Amplitude total\n",
    "- Diferença entre o maior e menor valores observados de certo cojunto\n",
    "- Instabilidade: pode ser afetada por fatores externos "
   ]
  },
  {
   "cell_type": "code",
   "execution_count": 8,
   "metadata": {},
   "outputs": [
    {
     "name": "stdout",
     "output_type": "stream",
     "text": [
      "amp bmi inicial:  nan\n",
      "amplitude total idade: 81.00\n",
      "amplitude total nivel medio de glicose: 215.63\n",
      "amplitude total de IMC: 39.70\n"
     ]
    }
   ],
   "source": [
    "amp_idade = np.ptp(data_AVC['age'])\n",
    "amp_glicose = np.ptp(data_AVC['avg_glucose_level'])\n",
    "amp_bmi = np.ptp(data_AVC['bmi'])\n",
    "\n",
    "#alternativa pq a amplitude do bmi ta dando nan\n",
    "maior_bmi = data_AVC['bmi'].max()\n",
    "menor_bmi = data_AVC['bmi'].min()\n",
    "\n",
    "print(\"amp bmi inicial: \", amp_bmi)\n",
    "print(\"amplitude total idade: {:.2f}\\namplitude total nivel medio de glicose: {:.2f}\\namplitude total de IMC: {:.2f}\".format(amp_idade, amp_glicose, maior_bmi - menor_bmi))"
   ]
  },
  {
   "cell_type": "markdown",
   "metadata": {},
   "source": [
    "### Variância\n",
    "- É a média dos quadrados dos desvios em relação à média\n",
    "- Quanto maior, maior é a dispersão dos dados"
   ]
  },
  {
   "cell_type": "code",
   "execution_count": 9,
   "metadata": {},
   "outputs": [
    {
     "name": "stdout",
     "output_type": "stream",
     "text": [
      "variancia idade: 161.51\n",
      "variancia nivel medio de glicose: 3818.82\n",
      "variancia de IMC: 39.87\n"
     ]
    }
   ],
   "source": [
    "var_idade = np.var(data_AVC['age'])\n",
    "var_glicose = np.var(data_AVC['avg_glucose_level'])\n",
    "var_bmi = np.var(data_AVC['bmi'])\n",
    "\n",
    "print(\"variancia idade: {:.2f}\\nvariancia nivel medio de glicose: {:.2f}\\nvariancia de IMC: {:.2f}\".format(var_idade, var_glicose, var_bmi))"
   ]
  },
  {
   "cell_type": "code",
   "execution_count": 10,
   "metadata": {},
   "outputs": [
    {
     "data": {
      "application/vnd.plotly.v1+json": {
       "config": {
        "plotlyServerURL": "https://plot.ly"
       },
       "data": [
        {
         "hovertemplate": "age=%{x}<br>index=%{y}<extra></extra>",
         "legendgroup": "",
         "marker": {
          "color": "#636efa",
          "symbol": "circle"
         },
         "mode": "markers",
         "name": "",
         "orientation": "v",
         "showlegend": false,
         "type": "scatter",
         "x": [
          1,
          14,
          32,
          38,
          38,
          39,
          39,
          39,
          42,
          43,
          45,
          45,
          45,
          46,
          47,
          48,
          48,
          49,
          49,
          49,
          50,
          50,
          50,
          51,
          51,
          51,
          51,
          52,
          52,
          53,
          53,
          54,
          54,
          54,
          54,
          54,
          54,
          55,
          55,
          56,
          56,
          56,
          57,
          57,
          57,
          57,
          57,
          57,
          57,
          57,
          57,
          57,
          57,
          58,
          58,
          58,
          58,
          58,
          58,
          58,
          59,
          59,
          59,
          59,
          59,
          59,
          59,
          59,
          60,
          60,
          60,
          60,
          61,
          61,
          61,
          61,
          61,
          61,
          63,
          63,
          63,
          63,
          63,
          63,
          63,
          63,
          63,
          64,
          64,
          64,
          65,
          65,
          65,
          66,
          66,
          66,
          66,
          67,
          67,
          67,
          68,
          68,
          68,
          68,
          68,
          68,
          68,
          68,
          68,
          69,
          69,
          69,
          69,
          69,
          69,
          70,
          70,
          70,
          70,
          70,
          70,
          71,
          71,
          71,
          71,
          71,
          71,
          71,
          72,
          72,
          72,
          72,
          72,
          72,
          73,
          73,
          73,
          73,
          74,
          74,
          74,
          74,
          74,
          74,
          74,
          74,
          74,
          75,
          75,
          75,
          75,
          75,
          75,
          76,
          76,
          76,
          76,
          76,
          76,
          76,
          76,
          76,
          76,
          77,
          77,
          77,
          77,
          77,
          77,
          77,
          77,
          78,
          78,
          78,
          78,
          78,
          78,
          78,
          78,
          78,
          78,
          78,
          78,
          78,
          78,
          78,
          78,
          78,
          78,
          78,
          78,
          78,
          79,
          79,
          79,
          79,
          79,
          79,
          79,
          79,
          79,
          79,
          79,
          79,
          79,
          79,
          79,
          79,
          79,
          80,
          80,
          80,
          80,
          80,
          80,
          80,
          80,
          80,
          80,
          80,
          80,
          80,
          80,
          80,
          80,
          80,
          81,
          81,
          81,
          81,
          81,
          81,
          81,
          81,
          81,
          81,
          81,
          81,
          81,
          81,
          82,
          82,
          82,
          82,
          82,
          82,
          82,
          82,
          82
         ],
         "xaxis": "x",
         "y": [
          162,
          245,
          182,
          118,
          133,
          49,
          210,
          228,
          31,
          79,
          63,
          94,
          113,
          180,
          88,
          34,
          213,
          3,
          39,
          224,
          15,
          106,
          156,
          78,
          191,
          211,
          238,
          21,
          74,
          109,
          121,
          12,
          41,
          59,
          85,
          107,
          204,
          154,
          217,
          60,
          123,
          166,
          19,
          30,
          92,
          98,
          104,
          148,
          157,
          225,
          236,
          241,
          244,
          27,
          38,
          47,
          84,
          97,
          105,
          120,
          8,
          29,
          68,
          80,
          141,
          181,
          192,
          195,
          18,
          44,
          172,
          239,
          1,
          11,
          86,
          116,
          184,
          189,
          43,
          54,
          55,
          73,
          185,
          186,
          209,
          212,
          222,
          16,
          100,
          170,
          26,
          146,
          190,
          72,
          81,
          145,
          240,
          0,
          62,
          71,
          83,
          114,
          134,
          151,
          153,
          193,
          235,
          242,
          243,
          7,
          28,
          99,
          132,
          143,
          197,
          66,
          87,
          96,
          149,
          164,
          196,
          20,
          24,
          115,
          135,
          158,
          161,
          247,
          37,
          124,
          125,
          144,
          175,
          194,
          58,
          130,
          219,
          232,
          6,
          36,
          89,
          102,
          117,
          142,
          199,
          200,
          227,
          17,
          46,
          64,
          129,
          139,
          246,
          45,
          50,
          67,
          70,
          112,
          136,
          137,
          138,
          160,
          218,
          53,
          101,
          119,
          155,
          183,
          202,
          233,
          237,
          9,
          13,
          40,
          51,
          57,
          65,
          95,
          126,
          131,
          147,
          163,
          165,
          174,
          177,
          203,
          205,
          207,
          208,
          216,
          234,
          248,
          4,
          14,
          22,
          52,
          77,
          82,
          90,
          108,
          110,
          150,
          167,
          168,
          171,
          198,
          215,
          221,
          231,
          2,
          25,
          33,
          61,
          69,
          75,
          76,
          93,
          111,
          122,
          127,
          152,
          173,
          176,
          178,
          201,
          229,
          5,
          10,
          48,
          91,
          103,
          159,
          169,
          179,
          206,
          214,
          220,
          223,
          226,
          230,
          23,
          32,
          35,
          42,
          56,
          128,
          140,
          187,
          188
         ],
         "yaxis": "y"
        }
       ],
       "layout": {
        "legend": {
         "tracegroupgap": 0
        },
        "template": {
         "data": {
          "bar": [
           {
            "error_x": {
             "color": "#2a3f5f"
            },
            "error_y": {
             "color": "#2a3f5f"
            },
            "marker": {
             "line": {
              "color": "#E5ECF6",
              "width": 0.5
             },
             "pattern": {
              "fillmode": "overlay",
              "size": 10,
              "solidity": 0.2
             }
            },
            "type": "bar"
           }
          ],
          "barpolar": [
           {
            "marker": {
             "line": {
              "color": "#E5ECF6",
              "width": 0.5
             },
             "pattern": {
              "fillmode": "overlay",
              "size": 10,
              "solidity": 0.2
             }
            },
            "type": "barpolar"
           }
          ],
          "carpet": [
           {
            "aaxis": {
             "endlinecolor": "#2a3f5f",
             "gridcolor": "white",
             "linecolor": "white",
             "minorgridcolor": "white",
             "startlinecolor": "#2a3f5f"
            },
            "baxis": {
             "endlinecolor": "#2a3f5f",
             "gridcolor": "white",
             "linecolor": "white",
             "minorgridcolor": "white",
             "startlinecolor": "#2a3f5f"
            },
            "type": "carpet"
           }
          ],
          "choropleth": [
           {
            "colorbar": {
             "outlinewidth": 0,
             "ticks": ""
            },
            "type": "choropleth"
           }
          ],
          "contour": [
           {
            "colorbar": {
             "outlinewidth": 0,
             "ticks": ""
            },
            "colorscale": [
             [
              0,
              "#0d0887"
             ],
             [
              0.1111111111111111,
              "#46039f"
             ],
             [
              0.2222222222222222,
              "#7201a8"
             ],
             [
              0.3333333333333333,
              "#9c179e"
             ],
             [
              0.4444444444444444,
              "#bd3786"
             ],
             [
              0.5555555555555556,
              "#d8576b"
             ],
             [
              0.6666666666666666,
              "#ed7953"
             ],
             [
              0.7777777777777778,
              "#fb9f3a"
             ],
             [
              0.8888888888888888,
              "#fdca26"
             ],
             [
              1,
              "#f0f921"
             ]
            ],
            "type": "contour"
           }
          ],
          "contourcarpet": [
           {
            "colorbar": {
             "outlinewidth": 0,
             "ticks": ""
            },
            "type": "contourcarpet"
           }
          ],
          "heatmap": [
           {
            "colorbar": {
             "outlinewidth": 0,
             "ticks": ""
            },
            "colorscale": [
             [
              0,
              "#0d0887"
             ],
             [
              0.1111111111111111,
              "#46039f"
             ],
             [
              0.2222222222222222,
              "#7201a8"
             ],
             [
              0.3333333333333333,
              "#9c179e"
             ],
             [
              0.4444444444444444,
              "#bd3786"
             ],
             [
              0.5555555555555556,
              "#d8576b"
             ],
             [
              0.6666666666666666,
              "#ed7953"
             ],
             [
              0.7777777777777778,
              "#fb9f3a"
             ],
             [
              0.8888888888888888,
              "#fdca26"
             ],
             [
              1,
              "#f0f921"
             ]
            ],
            "type": "heatmap"
           }
          ],
          "heatmapgl": [
           {
            "colorbar": {
             "outlinewidth": 0,
             "ticks": ""
            },
            "colorscale": [
             [
              0,
              "#0d0887"
             ],
             [
              0.1111111111111111,
              "#46039f"
             ],
             [
              0.2222222222222222,
              "#7201a8"
             ],
             [
              0.3333333333333333,
              "#9c179e"
             ],
             [
              0.4444444444444444,
              "#bd3786"
             ],
             [
              0.5555555555555556,
              "#d8576b"
             ],
             [
              0.6666666666666666,
              "#ed7953"
             ],
             [
              0.7777777777777778,
              "#fb9f3a"
             ],
             [
              0.8888888888888888,
              "#fdca26"
             ],
             [
              1,
              "#f0f921"
             ]
            ],
            "type": "heatmapgl"
           }
          ],
          "histogram": [
           {
            "marker": {
             "pattern": {
              "fillmode": "overlay",
              "size": 10,
              "solidity": 0.2
             }
            },
            "type": "histogram"
           }
          ],
          "histogram2d": [
           {
            "colorbar": {
             "outlinewidth": 0,
             "ticks": ""
            },
            "colorscale": [
             [
              0,
              "#0d0887"
             ],
             [
              0.1111111111111111,
              "#46039f"
             ],
             [
              0.2222222222222222,
              "#7201a8"
             ],
             [
              0.3333333333333333,
              "#9c179e"
             ],
             [
              0.4444444444444444,
              "#bd3786"
             ],
             [
              0.5555555555555556,
              "#d8576b"
             ],
             [
              0.6666666666666666,
              "#ed7953"
             ],
             [
              0.7777777777777778,
              "#fb9f3a"
             ],
             [
              0.8888888888888888,
              "#fdca26"
             ],
             [
              1,
              "#f0f921"
             ]
            ],
            "type": "histogram2d"
           }
          ],
          "histogram2dcontour": [
           {
            "colorbar": {
             "outlinewidth": 0,
             "ticks": ""
            },
            "colorscale": [
             [
              0,
              "#0d0887"
             ],
             [
              0.1111111111111111,
              "#46039f"
             ],
             [
              0.2222222222222222,
              "#7201a8"
             ],
             [
              0.3333333333333333,
              "#9c179e"
             ],
             [
              0.4444444444444444,
              "#bd3786"
             ],
             [
              0.5555555555555556,
              "#d8576b"
             ],
             [
              0.6666666666666666,
              "#ed7953"
             ],
             [
              0.7777777777777778,
              "#fb9f3a"
             ],
             [
              0.8888888888888888,
              "#fdca26"
             ],
             [
              1,
              "#f0f921"
             ]
            ],
            "type": "histogram2dcontour"
           }
          ],
          "mesh3d": [
           {
            "colorbar": {
             "outlinewidth": 0,
             "ticks": ""
            },
            "type": "mesh3d"
           }
          ],
          "parcoords": [
           {
            "line": {
             "colorbar": {
              "outlinewidth": 0,
              "ticks": ""
             }
            },
            "type": "parcoords"
           }
          ],
          "pie": [
           {
            "automargin": true,
            "type": "pie"
           }
          ],
          "scatter": [
           {
            "fillpattern": {
             "fillmode": "overlay",
             "size": 10,
             "solidity": 0.2
            },
            "type": "scatter"
           }
          ],
          "scatter3d": [
           {
            "line": {
             "colorbar": {
              "outlinewidth": 0,
              "ticks": ""
             }
            },
            "marker": {
             "colorbar": {
              "outlinewidth": 0,
              "ticks": ""
             }
            },
            "type": "scatter3d"
           }
          ],
          "scattercarpet": [
           {
            "marker": {
             "colorbar": {
              "outlinewidth": 0,
              "ticks": ""
             }
            },
            "type": "scattercarpet"
           }
          ],
          "scattergeo": [
           {
            "marker": {
             "colorbar": {
              "outlinewidth": 0,
              "ticks": ""
             }
            },
            "type": "scattergeo"
           }
          ],
          "scattergl": [
           {
            "marker": {
             "colorbar": {
              "outlinewidth": 0,
              "ticks": ""
             }
            },
            "type": "scattergl"
           }
          ],
          "scattermapbox": [
           {
            "marker": {
             "colorbar": {
              "outlinewidth": 0,
              "ticks": ""
             }
            },
            "type": "scattermapbox"
           }
          ],
          "scatterpolar": [
           {
            "marker": {
             "colorbar": {
              "outlinewidth": 0,
              "ticks": ""
             }
            },
            "type": "scatterpolar"
           }
          ],
          "scatterpolargl": [
           {
            "marker": {
             "colorbar": {
              "outlinewidth": 0,
              "ticks": ""
             }
            },
            "type": "scatterpolargl"
           }
          ],
          "scatterternary": [
           {
            "marker": {
             "colorbar": {
              "outlinewidth": 0,
              "ticks": ""
             }
            },
            "type": "scatterternary"
           }
          ],
          "surface": [
           {
            "colorbar": {
             "outlinewidth": 0,
             "ticks": ""
            },
            "colorscale": [
             [
              0,
              "#0d0887"
             ],
             [
              0.1111111111111111,
              "#46039f"
             ],
             [
              0.2222222222222222,
              "#7201a8"
             ],
             [
              0.3333333333333333,
              "#9c179e"
             ],
             [
              0.4444444444444444,
              "#bd3786"
             ],
             [
              0.5555555555555556,
              "#d8576b"
             ],
             [
              0.6666666666666666,
              "#ed7953"
             ],
             [
              0.7777777777777778,
              "#fb9f3a"
             ],
             [
              0.8888888888888888,
              "#fdca26"
             ],
             [
              1,
              "#f0f921"
             ]
            ],
            "type": "surface"
           }
          ],
          "table": [
           {
            "cells": {
             "fill": {
              "color": "#EBF0F8"
             },
             "line": {
              "color": "white"
             }
            },
            "header": {
             "fill": {
              "color": "#C8D4E3"
             },
             "line": {
              "color": "white"
             }
            },
            "type": "table"
           }
          ]
         },
         "layout": {
          "annotationdefaults": {
           "arrowcolor": "#2a3f5f",
           "arrowhead": 0,
           "arrowwidth": 1
          },
          "autotypenumbers": "strict",
          "coloraxis": {
           "colorbar": {
            "outlinewidth": 0,
            "ticks": ""
           }
          },
          "colorscale": {
           "diverging": [
            [
             0,
             "#8e0152"
            ],
            [
             0.1,
             "#c51b7d"
            ],
            [
             0.2,
             "#de77ae"
            ],
            [
             0.3,
             "#f1b6da"
            ],
            [
             0.4,
             "#fde0ef"
            ],
            [
             0.5,
             "#f7f7f7"
            ],
            [
             0.6,
             "#e6f5d0"
            ],
            [
             0.7,
             "#b8e186"
            ],
            [
             0.8,
             "#7fbc41"
            ],
            [
             0.9,
             "#4d9221"
            ],
            [
             1,
             "#276419"
            ]
           ],
           "sequential": [
            [
             0,
             "#0d0887"
            ],
            [
             0.1111111111111111,
             "#46039f"
            ],
            [
             0.2222222222222222,
             "#7201a8"
            ],
            [
             0.3333333333333333,
             "#9c179e"
            ],
            [
             0.4444444444444444,
             "#bd3786"
            ],
            [
             0.5555555555555556,
             "#d8576b"
            ],
            [
             0.6666666666666666,
             "#ed7953"
            ],
            [
             0.7777777777777778,
             "#fb9f3a"
            ],
            [
             0.8888888888888888,
             "#fdca26"
            ],
            [
             1,
             "#f0f921"
            ]
           ],
           "sequentialminus": [
            [
             0,
             "#0d0887"
            ],
            [
             0.1111111111111111,
             "#46039f"
            ],
            [
             0.2222222222222222,
             "#7201a8"
            ],
            [
             0.3333333333333333,
             "#9c179e"
            ],
            [
             0.4444444444444444,
             "#bd3786"
            ],
            [
             0.5555555555555556,
             "#d8576b"
            ],
            [
             0.6666666666666666,
             "#ed7953"
            ],
            [
             0.7777777777777778,
             "#fb9f3a"
            ],
            [
             0.8888888888888888,
             "#fdca26"
            ],
            [
             1,
             "#f0f921"
            ]
           ]
          },
          "colorway": [
           "#636efa",
           "#EF553B",
           "#00cc96",
           "#ab63fa",
           "#FFA15A",
           "#19d3f3",
           "#FF6692",
           "#B6E880",
           "#FF97FF",
           "#FECB52"
          ],
          "font": {
           "color": "#2a3f5f"
          },
          "geo": {
           "bgcolor": "white",
           "lakecolor": "white",
           "landcolor": "#E5ECF6",
           "showlakes": true,
           "showland": true,
           "subunitcolor": "white"
          },
          "hoverlabel": {
           "align": "left"
          },
          "hovermode": "closest",
          "mapbox": {
           "style": "light"
          },
          "paper_bgcolor": "white",
          "plot_bgcolor": "#E5ECF6",
          "polar": {
           "angularaxis": {
            "gridcolor": "white",
            "linecolor": "white",
            "ticks": ""
           },
           "bgcolor": "#E5ECF6",
           "radialaxis": {
            "gridcolor": "white",
            "linecolor": "white",
            "ticks": ""
           }
          },
          "scene": {
           "xaxis": {
            "backgroundcolor": "#E5ECF6",
            "gridcolor": "white",
            "gridwidth": 2,
            "linecolor": "white",
            "showbackground": true,
            "ticks": "",
            "zerolinecolor": "white"
           },
           "yaxis": {
            "backgroundcolor": "#E5ECF6",
            "gridcolor": "white",
            "gridwidth": 2,
            "linecolor": "white",
            "showbackground": true,
            "ticks": "",
            "zerolinecolor": "white"
           },
           "zaxis": {
            "backgroundcolor": "#E5ECF6",
            "gridcolor": "white",
            "gridwidth": 2,
            "linecolor": "white",
            "showbackground": true,
            "ticks": "",
            "zerolinecolor": "white"
           }
          },
          "shapedefaults": {
           "line": {
            "color": "#2a3f5f"
           }
          },
          "ternary": {
           "aaxis": {
            "gridcolor": "white",
            "linecolor": "white",
            "ticks": ""
           },
           "baxis": {
            "gridcolor": "white",
            "linecolor": "white",
            "ticks": ""
           },
           "bgcolor": "#E5ECF6",
           "caxis": {
            "gridcolor": "white",
            "linecolor": "white",
            "ticks": ""
           }
          },
          "title": {
           "x": 0.05
          },
          "xaxis": {
           "automargin": true,
           "gridcolor": "white",
           "linecolor": "white",
           "ticks": "",
           "title": {
            "standoff": 15
           },
           "zerolinecolor": "white",
           "zerolinewidth": 2
          },
          "yaxis": {
           "automargin": true,
           "gridcolor": "white",
           "linecolor": "white",
           "ticks": "",
           "title": {
            "standoff": 15
           },
           "zerolinecolor": "white",
           "zerolinewidth": 2
          }
         }
        },
        "title": {
         "text": "Gráfico de Dispersão - Variância da Idade: 161.51"
        },
        "xaxis": {
         "anchor": "y",
         "domain": [
          0,
          1
         ],
         "title": {
          "text": "age"
         }
        },
        "yaxis": {
         "anchor": "x",
         "domain": [
          0,
          1
         ],
         "title": {
          "text": "index"
         }
        }
       }
      }
     },
     "metadata": {},
     "output_type": "display_data"
    },
    {
     "data": {
      "application/vnd.plotly.v1+json": {
       "config": {
        "plotlyServerURL": "https://plot.ly"
       },
       "data": [
        {
         "hovertemplate": "avg_glucose_level=%{marker.color}<br>index=%{y}<extra></extra>",
         "legendgroup": "",
         "marker": {
          "color": [
           70.37,
           57.93,
           76.13,
           82.28,
           101.45,
           58.09,
           83.24,
           97.76,
           83.41,
           143.43,
           93.72,
           64.14,
           224.1,
           78.18,
           86.94,
           84.2,
           74.11,
           171.23,
           60.91,
           104.86,
           167.41,
           73.18,
           102.16,
           165.31,
           112.16,
           103.43,
           88.2,
           233.29,
           96.59,
           64.17,
           62.55,
           104.51,
           71.22,
           180.93,
           96.97,
           191.82,
           87.85,
           92.98,
           210.4,
           185.17,
           249.31,
           162.23,
           217.08,
           212.08,
           68.02,
           78.92,
           110.52,
           67.41,
           221.89,
           216.58,
           86.3,
           197.28,
           84.96,
           189.84,
           92.62,
           107.26,
           71.2,
           240.59,
           82.3,
           59.86,
           76.15,
           211.78,
           86.23,
           96.16,
           116.44,
           111.04,
           118.03,
           200.62,
           89.22,
           213.03,
           97.43,
           91.92,
           202.21,
           120.46,
           111.81,
           76.11,
           112.24,
           209.86,
           90.9,
           197.54,
           196.71,
           228.56,
           137.3,
           116.69,
           106.58,
           208.65,
           205.35,
           191.61,
           74.1,
           111.98,
           100.98,
           68.43,
           205.77,
           116.55,
           101.45,
           151.16,
           76.46,
           228.69,
           61.94,
           179.12,
           79.79,
           82.1,
           206.09,
           223.83,
           77.82,
           271.74,
           211.06,
           233.94,
           247.51,
           94.39,
           195.23,
           82.81,
           182.99,
           72.17,
           93.81,
           221.58,
           59.35,
           76.34,
           239.07,
           89.13,
           242.52,
           193.94,
           102.87,
           216.94,
           263.32,
           195.71,
           81.76,
           87.8,
           74.63,
           219.91,
           131.41,
           221.79,
           185.49,
           97.92,
           194.99,
           190.14,
           219.73,
           70.94,
           70.09,
           219.72,
           98.55,
           231.61,
           72.96,
           70.28,
           74.96,
           167.13,
           60.98,
           221.29,
           109.78,
           104.72,
           62.48,
           199.2,
           78.8,
           243.58,
           89.96,
           104.47,
           62.57,
           106.41,
           140.1,
           207.28,
           194.37,
           57.92,
           199.86,
           124.13,
           190.32,
           105.22,
           231.56,
           81.32,
           90,
           199.84,
           162.14,
           58.57,
           219.84,
           78.03,
           75.32,
           237.75,
           113.01,
           235.63,
           93.13,
           130.54,
           67.29,
           203.87,
           133.19,
           60.67,
           56.11,
           109.47,
           106.74,
           90.19,
           134.8,
           116.1,
           218.46,
           78.81,
           174.12,
           214.09,
           228.7,
           127.29,
           110.85,
           88.92,
           226.98,
           93.05,
           129.98,
           169.67,
           75.02,
           98.02,
           60.94,
           114.77,
           205.33,
           72.73,
           97.73,
           105.92,
           104.12,
           252.72,
           74.9,
           72.67,
           66.72,
           240.09,
           68.56,
           68.53,
           259.63,
           73.54,
           76.57,
           91.02,
           64.44,
           110.66,
           175.29,
           66.03,
           186.21,
           80.43,
           99.33,
           72.81,
           78.7,
           74.02,
           91.54,
           213.22,
           80.13,
           95.84,
           250.89,
           70.3,
           184.4,
           81.95,
           208.3,
           196.92,
           84.03,
           144.9,
           59.32,
           200.59,
           103.68,
           215.94,
           86.62
          ],
          "coloraxis": "coloraxis",
          "symbol": "circle"
         },
         "mode": "markers",
         "name": "",
         "orientation": "v",
         "showlegend": false,
         "type": "scatter",
         "x": [
          70.37,
          57.93,
          76.13,
          82.28,
          101.45,
          58.09,
          83.24,
          97.76,
          83.41,
          143.43,
          93.72,
          64.14,
          224.1,
          78.18,
          86.94,
          84.2,
          74.11,
          171.23,
          60.91,
          104.86,
          167.41,
          73.18,
          102.16,
          165.31,
          112.16,
          103.43,
          88.2,
          233.29,
          96.59,
          64.17,
          62.55,
          104.51,
          71.22,
          180.93,
          96.97,
          191.82,
          87.85,
          92.98,
          210.4,
          185.17,
          249.31,
          162.23,
          217.08,
          212.08,
          68.02,
          78.92,
          110.52,
          67.41,
          221.89,
          216.58,
          86.3,
          197.28,
          84.96,
          189.84,
          92.62,
          107.26,
          71.2,
          240.59,
          82.3,
          59.86,
          76.15,
          211.78,
          86.23,
          96.16,
          116.44,
          111.04,
          118.03,
          200.62,
          89.22,
          213.03,
          97.43,
          91.92,
          202.21,
          120.46,
          111.81,
          76.11,
          112.24,
          209.86,
          90.9,
          197.54,
          196.71,
          228.56,
          137.3,
          116.69,
          106.58,
          208.65,
          205.35,
          191.61,
          74.1,
          111.98,
          100.98,
          68.43,
          205.77,
          116.55,
          101.45,
          151.16,
          76.46,
          228.69,
          61.94,
          179.12,
          79.79,
          82.1,
          206.09,
          223.83,
          77.82,
          271.74,
          211.06,
          233.94,
          247.51,
          94.39,
          195.23,
          82.81,
          182.99,
          72.17,
          93.81,
          221.58,
          59.35,
          76.34,
          239.07,
          89.13,
          242.52,
          193.94,
          102.87,
          216.94,
          263.32,
          195.71,
          81.76,
          87.8,
          74.63,
          219.91,
          131.41,
          221.79,
          185.49,
          97.92,
          194.99,
          190.14,
          219.73,
          70.94,
          70.09,
          219.72,
          98.55,
          231.61,
          72.96,
          70.28,
          74.96,
          167.13,
          60.98,
          221.29,
          109.78,
          104.72,
          62.48,
          199.2,
          78.8,
          243.58,
          89.96,
          104.47,
          62.57,
          106.41,
          140.1,
          207.28,
          194.37,
          57.92,
          199.86,
          124.13,
          190.32,
          105.22,
          231.56,
          81.32,
          90,
          199.84,
          162.14,
          58.57,
          219.84,
          78.03,
          75.32,
          237.75,
          113.01,
          235.63,
          93.13,
          130.54,
          67.29,
          203.87,
          133.19,
          60.67,
          56.11,
          109.47,
          106.74,
          90.19,
          134.8,
          116.1,
          218.46,
          78.81,
          174.12,
          214.09,
          228.7,
          127.29,
          110.85,
          88.92,
          226.98,
          93.05,
          129.98,
          169.67,
          75.02,
          98.02,
          60.94,
          114.77,
          205.33,
          72.73,
          97.73,
          105.92,
          104.12,
          252.72,
          74.9,
          72.67,
          66.72,
          240.09,
          68.56,
          68.53,
          259.63,
          73.54,
          76.57,
          91.02,
          64.44,
          110.66,
          175.29,
          66.03,
          186.21,
          80.43,
          99.33,
          72.81,
          78.7,
          74.02,
          91.54,
          213.22,
          80.13,
          95.84,
          250.89,
          70.3,
          184.4,
          81.95,
          208.3,
          196.92,
          84.03,
          144.9,
          59.32,
          200.59,
          103.68,
          215.94,
          86.62
         ],
         "xaxis": "x",
         "y": [
          162,
          245,
          182,
          118,
          133,
          49,
          210,
          228,
          31,
          79,
          63,
          94,
          113,
          180,
          88,
          34,
          213,
          3,
          39,
          224,
          15,
          106,
          156,
          78,
          191,
          211,
          238,
          21,
          74,
          109,
          121,
          12,
          41,
          59,
          85,
          107,
          204,
          154,
          217,
          60,
          123,
          166,
          19,
          30,
          92,
          98,
          104,
          148,
          157,
          225,
          236,
          241,
          244,
          27,
          38,
          47,
          84,
          97,
          105,
          120,
          8,
          29,
          68,
          80,
          141,
          181,
          192,
          195,
          18,
          44,
          172,
          239,
          1,
          11,
          86,
          116,
          184,
          189,
          43,
          54,
          55,
          73,
          185,
          186,
          209,
          212,
          222,
          16,
          100,
          170,
          26,
          146,
          190,
          72,
          81,
          145,
          240,
          0,
          62,
          71,
          83,
          114,
          134,
          151,
          153,
          193,
          235,
          242,
          243,
          7,
          28,
          99,
          132,
          143,
          197,
          66,
          87,
          96,
          149,
          164,
          196,
          20,
          24,
          115,
          135,
          158,
          161,
          247,
          37,
          124,
          125,
          144,
          175,
          194,
          58,
          130,
          219,
          232,
          6,
          36,
          89,
          102,
          117,
          142,
          199,
          200,
          227,
          17,
          46,
          64,
          129,
          139,
          246,
          45,
          50,
          67,
          70,
          112,
          136,
          137,
          138,
          160,
          218,
          53,
          101,
          119,
          155,
          183,
          202,
          233,
          237,
          9,
          13,
          40,
          51,
          57,
          65,
          95,
          126,
          131,
          147,
          163,
          165,
          174,
          177,
          203,
          205,
          207,
          208,
          216,
          234,
          248,
          4,
          14,
          22,
          52,
          77,
          82,
          90,
          108,
          110,
          150,
          167,
          168,
          171,
          198,
          215,
          221,
          231,
          2,
          25,
          33,
          61,
          69,
          75,
          76,
          93,
          111,
          122,
          127,
          152,
          173,
          176,
          178,
          201,
          229,
          5,
          10,
          48,
          91,
          103,
          159,
          169,
          179,
          206,
          214,
          220,
          223,
          226,
          230,
          23,
          32,
          35,
          42,
          56,
          128,
          140,
          187,
          188
         ],
         "yaxis": "y"
        }
       ],
       "layout": {
        "coloraxis": {
         "colorbar": {
          "title": {
           "text": "avg_glucose_level"
          }
         },
         "colorscale": [
          [
           0,
           "#0d0887"
          ],
          [
           0.1111111111111111,
           "#46039f"
          ],
          [
           0.2222222222222222,
           "#7201a8"
          ],
          [
           0.3333333333333333,
           "#9c179e"
          ],
          [
           0.4444444444444444,
           "#bd3786"
          ],
          [
           0.5555555555555556,
           "#d8576b"
          ],
          [
           0.6666666666666666,
           "#ed7953"
          ],
          [
           0.7777777777777778,
           "#fb9f3a"
          ],
          [
           0.8888888888888888,
           "#fdca26"
          ],
          [
           1,
           "#f0f921"
          ]
         ]
        },
        "legend": {
         "tracegroupgap": 0
        },
        "template": {
         "data": {
          "bar": [
           {
            "error_x": {
             "color": "#2a3f5f"
            },
            "error_y": {
             "color": "#2a3f5f"
            },
            "marker": {
             "line": {
              "color": "#E5ECF6",
              "width": 0.5
             },
             "pattern": {
              "fillmode": "overlay",
              "size": 10,
              "solidity": 0.2
             }
            },
            "type": "bar"
           }
          ],
          "barpolar": [
           {
            "marker": {
             "line": {
              "color": "#E5ECF6",
              "width": 0.5
             },
             "pattern": {
              "fillmode": "overlay",
              "size": 10,
              "solidity": 0.2
             }
            },
            "type": "barpolar"
           }
          ],
          "carpet": [
           {
            "aaxis": {
             "endlinecolor": "#2a3f5f",
             "gridcolor": "white",
             "linecolor": "white",
             "minorgridcolor": "white",
             "startlinecolor": "#2a3f5f"
            },
            "baxis": {
             "endlinecolor": "#2a3f5f",
             "gridcolor": "white",
             "linecolor": "white",
             "minorgridcolor": "white",
             "startlinecolor": "#2a3f5f"
            },
            "type": "carpet"
           }
          ],
          "choropleth": [
           {
            "colorbar": {
             "outlinewidth": 0,
             "ticks": ""
            },
            "type": "choropleth"
           }
          ],
          "contour": [
           {
            "colorbar": {
             "outlinewidth": 0,
             "ticks": ""
            },
            "colorscale": [
             [
              0,
              "#0d0887"
             ],
             [
              0.1111111111111111,
              "#46039f"
             ],
             [
              0.2222222222222222,
              "#7201a8"
             ],
             [
              0.3333333333333333,
              "#9c179e"
             ],
             [
              0.4444444444444444,
              "#bd3786"
             ],
             [
              0.5555555555555556,
              "#d8576b"
             ],
             [
              0.6666666666666666,
              "#ed7953"
             ],
             [
              0.7777777777777778,
              "#fb9f3a"
             ],
             [
              0.8888888888888888,
              "#fdca26"
             ],
             [
              1,
              "#f0f921"
             ]
            ],
            "type": "contour"
           }
          ],
          "contourcarpet": [
           {
            "colorbar": {
             "outlinewidth": 0,
             "ticks": ""
            },
            "type": "contourcarpet"
           }
          ],
          "heatmap": [
           {
            "colorbar": {
             "outlinewidth": 0,
             "ticks": ""
            },
            "colorscale": [
             [
              0,
              "#0d0887"
             ],
             [
              0.1111111111111111,
              "#46039f"
             ],
             [
              0.2222222222222222,
              "#7201a8"
             ],
             [
              0.3333333333333333,
              "#9c179e"
             ],
             [
              0.4444444444444444,
              "#bd3786"
             ],
             [
              0.5555555555555556,
              "#d8576b"
             ],
             [
              0.6666666666666666,
              "#ed7953"
             ],
             [
              0.7777777777777778,
              "#fb9f3a"
             ],
             [
              0.8888888888888888,
              "#fdca26"
             ],
             [
              1,
              "#f0f921"
             ]
            ],
            "type": "heatmap"
           }
          ],
          "heatmapgl": [
           {
            "colorbar": {
             "outlinewidth": 0,
             "ticks": ""
            },
            "colorscale": [
             [
              0,
              "#0d0887"
             ],
             [
              0.1111111111111111,
              "#46039f"
             ],
             [
              0.2222222222222222,
              "#7201a8"
             ],
             [
              0.3333333333333333,
              "#9c179e"
             ],
             [
              0.4444444444444444,
              "#bd3786"
             ],
             [
              0.5555555555555556,
              "#d8576b"
             ],
             [
              0.6666666666666666,
              "#ed7953"
             ],
             [
              0.7777777777777778,
              "#fb9f3a"
             ],
             [
              0.8888888888888888,
              "#fdca26"
             ],
             [
              1,
              "#f0f921"
             ]
            ],
            "type": "heatmapgl"
           }
          ],
          "histogram": [
           {
            "marker": {
             "pattern": {
              "fillmode": "overlay",
              "size": 10,
              "solidity": 0.2
             }
            },
            "type": "histogram"
           }
          ],
          "histogram2d": [
           {
            "colorbar": {
             "outlinewidth": 0,
             "ticks": ""
            },
            "colorscale": [
             [
              0,
              "#0d0887"
             ],
             [
              0.1111111111111111,
              "#46039f"
             ],
             [
              0.2222222222222222,
              "#7201a8"
             ],
             [
              0.3333333333333333,
              "#9c179e"
             ],
             [
              0.4444444444444444,
              "#bd3786"
             ],
             [
              0.5555555555555556,
              "#d8576b"
             ],
             [
              0.6666666666666666,
              "#ed7953"
             ],
             [
              0.7777777777777778,
              "#fb9f3a"
             ],
             [
              0.8888888888888888,
              "#fdca26"
             ],
             [
              1,
              "#f0f921"
             ]
            ],
            "type": "histogram2d"
           }
          ],
          "histogram2dcontour": [
           {
            "colorbar": {
             "outlinewidth": 0,
             "ticks": ""
            },
            "colorscale": [
             [
              0,
              "#0d0887"
             ],
             [
              0.1111111111111111,
              "#46039f"
             ],
             [
              0.2222222222222222,
              "#7201a8"
             ],
             [
              0.3333333333333333,
              "#9c179e"
             ],
             [
              0.4444444444444444,
              "#bd3786"
             ],
             [
              0.5555555555555556,
              "#d8576b"
             ],
             [
              0.6666666666666666,
              "#ed7953"
             ],
             [
              0.7777777777777778,
              "#fb9f3a"
             ],
             [
              0.8888888888888888,
              "#fdca26"
             ],
             [
              1,
              "#f0f921"
             ]
            ],
            "type": "histogram2dcontour"
           }
          ],
          "mesh3d": [
           {
            "colorbar": {
             "outlinewidth": 0,
             "ticks": ""
            },
            "type": "mesh3d"
           }
          ],
          "parcoords": [
           {
            "line": {
             "colorbar": {
              "outlinewidth": 0,
              "ticks": ""
             }
            },
            "type": "parcoords"
           }
          ],
          "pie": [
           {
            "automargin": true,
            "type": "pie"
           }
          ],
          "scatter": [
           {
            "fillpattern": {
             "fillmode": "overlay",
             "size": 10,
             "solidity": 0.2
            },
            "type": "scatter"
           }
          ],
          "scatter3d": [
           {
            "line": {
             "colorbar": {
              "outlinewidth": 0,
              "ticks": ""
             }
            },
            "marker": {
             "colorbar": {
              "outlinewidth": 0,
              "ticks": ""
             }
            },
            "type": "scatter3d"
           }
          ],
          "scattercarpet": [
           {
            "marker": {
             "colorbar": {
              "outlinewidth": 0,
              "ticks": ""
             }
            },
            "type": "scattercarpet"
           }
          ],
          "scattergeo": [
           {
            "marker": {
             "colorbar": {
              "outlinewidth": 0,
              "ticks": ""
             }
            },
            "type": "scattergeo"
           }
          ],
          "scattergl": [
           {
            "marker": {
             "colorbar": {
              "outlinewidth": 0,
              "ticks": ""
             }
            },
            "type": "scattergl"
           }
          ],
          "scattermapbox": [
           {
            "marker": {
             "colorbar": {
              "outlinewidth": 0,
              "ticks": ""
             }
            },
            "type": "scattermapbox"
           }
          ],
          "scatterpolar": [
           {
            "marker": {
             "colorbar": {
              "outlinewidth": 0,
              "ticks": ""
             }
            },
            "type": "scatterpolar"
           }
          ],
          "scatterpolargl": [
           {
            "marker": {
             "colorbar": {
              "outlinewidth": 0,
              "ticks": ""
             }
            },
            "type": "scatterpolargl"
           }
          ],
          "scatterternary": [
           {
            "marker": {
             "colorbar": {
              "outlinewidth": 0,
              "ticks": ""
             }
            },
            "type": "scatterternary"
           }
          ],
          "surface": [
           {
            "colorbar": {
             "outlinewidth": 0,
             "ticks": ""
            },
            "colorscale": [
             [
              0,
              "#0d0887"
             ],
             [
              0.1111111111111111,
              "#46039f"
             ],
             [
              0.2222222222222222,
              "#7201a8"
             ],
             [
              0.3333333333333333,
              "#9c179e"
             ],
             [
              0.4444444444444444,
              "#bd3786"
             ],
             [
              0.5555555555555556,
              "#d8576b"
             ],
             [
              0.6666666666666666,
              "#ed7953"
             ],
             [
              0.7777777777777778,
              "#fb9f3a"
             ],
             [
              0.8888888888888888,
              "#fdca26"
             ],
             [
              1,
              "#f0f921"
             ]
            ],
            "type": "surface"
           }
          ],
          "table": [
           {
            "cells": {
             "fill": {
              "color": "#EBF0F8"
             },
             "line": {
              "color": "white"
             }
            },
            "header": {
             "fill": {
              "color": "#C8D4E3"
             },
             "line": {
              "color": "white"
             }
            },
            "type": "table"
           }
          ]
         },
         "layout": {
          "annotationdefaults": {
           "arrowcolor": "#2a3f5f",
           "arrowhead": 0,
           "arrowwidth": 1
          },
          "autotypenumbers": "strict",
          "coloraxis": {
           "colorbar": {
            "outlinewidth": 0,
            "ticks": ""
           }
          },
          "colorscale": {
           "diverging": [
            [
             0,
             "#8e0152"
            ],
            [
             0.1,
             "#c51b7d"
            ],
            [
             0.2,
             "#de77ae"
            ],
            [
             0.3,
             "#f1b6da"
            ],
            [
             0.4,
             "#fde0ef"
            ],
            [
             0.5,
             "#f7f7f7"
            ],
            [
             0.6,
             "#e6f5d0"
            ],
            [
             0.7,
             "#b8e186"
            ],
            [
             0.8,
             "#7fbc41"
            ],
            [
             0.9,
             "#4d9221"
            ],
            [
             1,
             "#276419"
            ]
           ],
           "sequential": [
            [
             0,
             "#0d0887"
            ],
            [
             0.1111111111111111,
             "#46039f"
            ],
            [
             0.2222222222222222,
             "#7201a8"
            ],
            [
             0.3333333333333333,
             "#9c179e"
            ],
            [
             0.4444444444444444,
             "#bd3786"
            ],
            [
             0.5555555555555556,
             "#d8576b"
            ],
            [
             0.6666666666666666,
             "#ed7953"
            ],
            [
             0.7777777777777778,
             "#fb9f3a"
            ],
            [
             0.8888888888888888,
             "#fdca26"
            ],
            [
             1,
             "#f0f921"
            ]
           ],
           "sequentialminus": [
            [
             0,
             "#0d0887"
            ],
            [
             0.1111111111111111,
             "#46039f"
            ],
            [
             0.2222222222222222,
             "#7201a8"
            ],
            [
             0.3333333333333333,
             "#9c179e"
            ],
            [
             0.4444444444444444,
             "#bd3786"
            ],
            [
             0.5555555555555556,
             "#d8576b"
            ],
            [
             0.6666666666666666,
             "#ed7953"
            ],
            [
             0.7777777777777778,
             "#fb9f3a"
            ],
            [
             0.8888888888888888,
             "#fdca26"
            ],
            [
             1,
             "#f0f921"
            ]
           ]
          },
          "colorway": [
           "#636efa",
           "#EF553B",
           "#00cc96",
           "#ab63fa",
           "#FFA15A",
           "#19d3f3",
           "#FF6692",
           "#B6E880",
           "#FF97FF",
           "#FECB52"
          ],
          "font": {
           "color": "#2a3f5f"
          },
          "geo": {
           "bgcolor": "white",
           "lakecolor": "white",
           "landcolor": "#E5ECF6",
           "showlakes": true,
           "showland": true,
           "subunitcolor": "white"
          },
          "hoverlabel": {
           "align": "left"
          },
          "hovermode": "closest",
          "mapbox": {
           "style": "light"
          },
          "paper_bgcolor": "white",
          "plot_bgcolor": "#E5ECF6",
          "polar": {
           "angularaxis": {
            "gridcolor": "white",
            "linecolor": "white",
            "ticks": ""
           },
           "bgcolor": "#E5ECF6",
           "radialaxis": {
            "gridcolor": "white",
            "linecolor": "white",
            "ticks": ""
           }
          },
          "scene": {
           "xaxis": {
            "backgroundcolor": "#E5ECF6",
            "gridcolor": "white",
            "gridwidth": 2,
            "linecolor": "white",
            "showbackground": true,
            "ticks": "",
            "zerolinecolor": "white"
           },
           "yaxis": {
            "backgroundcolor": "#E5ECF6",
            "gridcolor": "white",
            "gridwidth": 2,
            "linecolor": "white",
            "showbackground": true,
            "ticks": "",
            "zerolinecolor": "white"
           },
           "zaxis": {
            "backgroundcolor": "#E5ECF6",
            "gridcolor": "white",
            "gridwidth": 2,
            "linecolor": "white",
            "showbackground": true,
            "ticks": "",
            "zerolinecolor": "white"
           }
          },
          "shapedefaults": {
           "line": {
            "color": "#2a3f5f"
           }
          },
          "ternary": {
           "aaxis": {
            "gridcolor": "white",
            "linecolor": "white",
            "ticks": ""
           },
           "baxis": {
            "gridcolor": "white",
            "linecolor": "white",
            "ticks": ""
           },
           "bgcolor": "#E5ECF6",
           "caxis": {
            "gridcolor": "white",
            "linecolor": "white",
            "ticks": ""
           }
          },
          "title": {
           "x": 0.05
          },
          "xaxis": {
           "automargin": true,
           "gridcolor": "white",
           "linecolor": "white",
           "ticks": "",
           "title": {
            "standoff": 15
           },
           "zerolinecolor": "white",
           "zerolinewidth": 2
          },
          "yaxis": {
           "automargin": true,
           "gridcolor": "white",
           "linecolor": "white",
           "ticks": "",
           "title": {
            "standoff": 15
           },
           "zerolinecolor": "white",
           "zerolinewidth": 2
          }
         }
        },
        "title": {
         "text": "Gráfico de Dispersão - Variância: do nível médio de glicose 3818.82"
        },
        "xaxis": {
         "anchor": "y",
         "domain": [
          0,
          1
         ],
         "title": {
          "text": "avg_glucose_level"
         }
        },
        "yaxis": {
         "anchor": "x",
         "domain": [
          0,
          1
         ],
         "title": {
          "text": "index"
         }
        }
       }
      }
     },
     "metadata": {},
     "output_type": "display_data"
    },
    {
     "data": {
      "application/vnd.plotly.v1+json": {
       "config": {
        "plotlyServerURL": "https://plot.ly"
       },
       "data": [
        {
         "hovertemplate": "bmi=%{marker.color}<br>index=%{y}<extra></extra>",
         "legendgroup": "",
         "marker": {
          "color": [
           null,
           30.9,
           29.9,
           24,
           null,
           39.2,
           26.3,
           29.6,
           25.4,
           45.9,
           30.2,
           29.4,
           56.6,
           30.8,
           41.1,
           29.7,
           20.5,
           34.4,
           29.9,
           31.9,
           30.9,
           30.3,
           31.4,
           null,
           42.5,
           27.3,
           28.4,
           48.9,
           26.4,
           41.5,
           30.3,
           27.3,
           28.5,
           27.7,
           29.1,
           40.4,
           31.1,
           25.6,
           40,
           40.4,
           35.8,
           27.3,
           null,
           44.2,
           37.5,
           27.7,
           28.5,
           32.9,
           37.3,
           31,
           31.7,
           34.5,
           36.7,
           null,
           32,
           38.6,
           null,
           31.4,
           null,
           28,
           null,
           null,
           30,
           44.1,
           23.8,
           32,
           35.5,
           35.8,
           37.8,
           20.2,
           26.4,
           35.9,
           null,
           36.8,
           27.3,
           27.3,
           37.4,
           null,
           null,
           null,
           36.5,
           27.4,
           31.7,
           34.5,
           23.9,
           30.7,
           42.2,
           37.5,
           28.8,
           null,
           28.2,
           null,
           46,
           31.1,
           null,
           27.5,
           21.2,
           36.6,
           25.3,
           28.1,
           29.7,
           27.1,
           26.7,
           31.9,
           27.5,
           31.1,
           39.3,
           42.4,
           40.5,
           22.8,
           28.3,
           28,
           36.5,
           36.8,
           28.5,
           47.5,
           32.3,
           24.4,
           26.1,
           34.2,
           45.5,
           22.4,
           27.2,
           30.9,
           38.7,
           34.1,
           null,
           null,
           23.1,
           null,
           28.4,
           30,
           37.1,
           26.9,
           32.8,
           36.5,
           28.6,
           34.4,
           27.4,
           33.7,
           25.6,
           34.6,
           31.3,
           21.8,
           26.6,
           null,
           null,
           25.8,
           null,
           null,
           null,
           26.6,
           29.3,
           33.6,
           null,
           20.3,
           null,
           null,
           29.9,
           34.9,
           27,
           null,
           null,
           31.4,
           31.4,
           31,
           36.9,
           null,
           32,
           28,
           32.6,
           24.2,
           null,
           23.9,
           null,
           null,
           24,
           32.3,
           null,
           20.1,
           24.6,
           45.7,
           23.6,
           null,
           25.5,
           30.8,
           33,
           26.9,
           33.6,
           27.1,
           26.8,
           19.6,
           24,
           28.2,
           26.6,
           27.7,
           24.1,
           22.9,
           29.8,
           24.2,
           22.6,
           null,
           null,
           22.3,
           null,
           null,
           31,
           28.4,
           21.5,
           32.5,
           23.5,
           30.5,
           22.2,
           28.9,
           21.7,
           27,
           26.2,
           24.2,
           31.7,
           24,
           34.1,
           32.9,
           45,
           null,
           31.5,
           35.4,
           29,
           29.7,
           33.7,
           26.3,
           19.4,
           25,
           31.4,
           26.1,
           23.4,
           21.5,
           28.1,
           25.8,
           27.5,
           16.9,
           32.5,
           22.2,
           26.5,
           26.4,
           33.2,
           29,
           25,
           27.9,
           29.5
          ],
          "coloraxis": "coloraxis",
          "symbol": "circle"
         },
         "mode": "markers",
         "name": "",
         "orientation": "v",
         "showlegend": false,
         "type": "scatter",
         "x": [
          null,
          30.9,
          29.9,
          24,
          null,
          39.2,
          26.3,
          29.6,
          25.4,
          45.9,
          30.2,
          29.4,
          56.6,
          30.8,
          41.1,
          29.7,
          20.5,
          34.4,
          29.9,
          31.9,
          30.9,
          30.3,
          31.4,
          null,
          42.5,
          27.3,
          28.4,
          48.9,
          26.4,
          41.5,
          30.3,
          27.3,
          28.5,
          27.7,
          29.1,
          40.4,
          31.1,
          25.6,
          40,
          40.4,
          35.8,
          27.3,
          null,
          44.2,
          37.5,
          27.7,
          28.5,
          32.9,
          37.3,
          31,
          31.7,
          34.5,
          36.7,
          null,
          32,
          38.6,
          null,
          31.4,
          null,
          28,
          null,
          null,
          30,
          44.1,
          23.8,
          32,
          35.5,
          35.8,
          37.8,
          20.2,
          26.4,
          35.9,
          null,
          36.8,
          27.3,
          27.3,
          37.4,
          null,
          null,
          null,
          36.5,
          27.4,
          31.7,
          34.5,
          23.9,
          30.7,
          42.2,
          37.5,
          28.8,
          null,
          28.2,
          null,
          46,
          31.1,
          null,
          27.5,
          21.2,
          36.6,
          25.3,
          28.1,
          29.7,
          27.1,
          26.7,
          31.9,
          27.5,
          31.1,
          39.3,
          42.4,
          40.5,
          22.8,
          28.3,
          28,
          36.5,
          36.8,
          28.5,
          47.5,
          32.3,
          24.4,
          26.1,
          34.2,
          45.5,
          22.4,
          27.2,
          30.9,
          38.7,
          34.1,
          null,
          null,
          23.1,
          null,
          28.4,
          30,
          37.1,
          26.9,
          32.8,
          36.5,
          28.6,
          34.4,
          27.4,
          33.7,
          25.6,
          34.6,
          31.3,
          21.8,
          26.6,
          null,
          null,
          25.8,
          null,
          null,
          null,
          26.6,
          29.3,
          33.6,
          null,
          20.3,
          null,
          null,
          29.9,
          34.9,
          27,
          null,
          null,
          31.4,
          31.4,
          31,
          36.9,
          null,
          32,
          28,
          32.6,
          24.2,
          null,
          23.9,
          null,
          null,
          24,
          32.3,
          null,
          20.1,
          24.6,
          45.7,
          23.6,
          null,
          25.5,
          30.8,
          33,
          26.9,
          33.6,
          27.1,
          26.8,
          19.6,
          24,
          28.2,
          26.6,
          27.7,
          24.1,
          22.9,
          29.8,
          24.2,
          22.6,
          null,
          null,
          22.3,
          null,
          null,
          31,
          28.4,
          21.5,
          32.5,
          23.5,
          30.5,
          22.2,
          28.9,
          21.7,
          27,
          26.2,
          24.2,
          31.7,
          24,
          34.1,
          32.9,
          45,
          null,
          31.5,
          35.4,
          29,
          29.7,
          33.7,
          26.3,
          19.4,
          25,
          31.4,
          26.1,
          23.4,
          21.5,
          28.1,
          25.8,
          27.5,
          16.9,
          32.5,
          22.2,
          26.5,
          26.4,
          33.2,
          29,
          25,
          27.9,
          29.5
         ],
         "xaxis": "x",
         "y": [
          162,
          245,
          182,
          118,
          133,
          49,
          210,
          228,
          31,
          79,
          63,
          94,
          113,
          180,
          88,
          34,
          213,
          3,
          39,
          224,
          15,
          106,
          156,
          78,
          191,
          211,
          238,
          21,
          74,
          109,
          121,
          12,
          41,
          59,
          85,
          107,
          204,
          154,
          217,
          60,
          123,
          166,
          19,
          30,
          92,
          98,
          104,
          148,
          157,
          225,
          236,
          241,
          244,
          27,
          38,
          47,
          84,
          97,
          105,
          120,
          8,
          29,
          68,
          80,
          141,
          181,
          192,
          195,
          18,
          44,
          172,
          239,
          1,
          11,
          86,
          116,
          184,
          189,
          43,
          54,
          55,
          73,
          185,
          186,
          209,
          212,
          222,
          16,
          100,
          170,
          26,
          146,
          190,
          72,
          81,
          145,
          240,
          0,
          62,
          71,
          83,
          114,
          134,
          151,
          153,
          193,
          235,
          242,
          243,
          7,
          28,
          99,
          132,
          143,
          197,
          66,
          87,
          96,
          149,
          164,
          196,
          20,
          24,
          115,
          135,
          158,
          161,
          247,
          37,
          124,
          125,
          144,
          175,
          194,
          58,
          130,
          219,
          232,
          6,
          36,
          89,
          102,
          117,
          142,
          199,
          200,
          227,
          17,
          46,
          64,
          129,
          139,
          246,
          45,
          50,
          67,
          70,
          112,
          136,
          137,
          138,
          160,
          218,
          53,
          101,
          119,
          155,
          183,
          202,
          233,
          237,
          9,
          13,
          40,
          51,
          57,
          65,
          95,
          126,
          131,
          147,
          163,
          165,
          174,
          177,
          203,
          205,
          207,
          208,
          216,
          234,
          248,
          4,
          14,
          22,
          52,
          77,
          82,
          90,
          108,
          110,
          150,
          167,
          168,
          171,
          198,
          215,
          221,
          231,
          2,
          25,
          33,
          61,
          69,
          75,
          76,
          93,
          111,
          122,
          127,
          152,
          173,
          176,
          178,
          201,
          229,
          5,
          10,
          48,
          91,
          103,
          159,
          169,
          179,
          206,
          214,
          220,
          223,
          226,
          230,
          23,
          32,
          35,
          42,
          56,
          128,
          140,
          187,
          188
         ],
         "yaxis": "y"
        }
       ],
       "layout": {
        "coloraxis": {
         "colorbar": {
          "title": {
           "text": "bmi"
          }
         },
         "colorscale": [
          [
           0,
           "#0d0887"
          ],
          [
           0.1111111111111111,
           "#46039f"
          ],
          [
           0.2222222222222222,
           "#7201a8"
          ],
          [
           0.3333333333333333,
           "#9c179e"
          ],
          [
           0.4444444444444444,
           "#bd3786"
          ],
          [
           0.5555555555555556,
           "#d8576b"
          ],
          [
           0.6666666666666666,
           "#ed7953"
          ],
          [
           0.7777777777777778,
           "#fb9f3a"
          ],
          [
           0.8888888888888888,
           "#fdca26"
          ],
          [
           1,
           "#f0f921"
          ]
         ]
        },
        "legend": {
         "tracegroupgap": 0
        },
        "template": {
         "data": {
          "bar": [
           {
            "error_x": {
             "color": "#2a3f5f"
            },
            "error_y": {
             "color": "#2a3f5f"
            },
            "marker": {
             "line": {
              "color": "#E5ECF6",
              "width": 0.5
             },
             "pattern": {
              "fillmode": "overlay",
              "size": 10,
              "solidity": 0.2
             }
            },
            "type": "bar"
           }
          ],
          "barpolar": [
           {
            "marker": {
             "line": {
              "color": "#E5ECF6",
              "width": 0.5
             },
             "pattern": {
              "fillmode": "overlay",
              "size": 10,
              "solidity": 0.2
             }
            },
            "type": "barpolar"
           }
          ],
          "carpet": [
           {
            "aaxis": {
             "endlinecolor": "#2a3f5f",
             "gridcolor": "white",
             "linecolor": "white",
             "minorgridcolor": "white",
             "startlinecolor": "#2a3f5f"
            },
            "baxis": {
             "endlinecolor": "#2a3f5f",
             "gridcolor": "white",
             "linecolor": "white",
             "minorgridcolor": "white",
             "startlinecolor": "#2a3f5f"
            },
            "type": "carpet"
           }
          ],
          "choropleth": [
           {
            "colorbar": {
             "outlinewidth": 0,
             "ticks": ""
            },
            "type": "choropleth"
           }
          ],
          "contour": [
           {
            "colorbar": {
             "outlinewidth": 0,
             "ticks": ""
            },
            "colorscale": [
             [
              0,
              "#0d0887"
             ],
             [
              0.1111111111111111,
              "#46039f"
             ],
             [
              0.2222222222222222,
              "#7201a8"
             ],
             [
              0.3333333333333333,
              "#9c179e"
             ],
             [
              0.4444444444444444,
              "#bd3786"
             ],
             [
              0.5555555555555556,
              "#d8576b"
             ],
             [
              0.6666666666666666,
              "#ed7953"
             ],
             [
              0.7777777777777778,
              "#fb9f3a"
             ],
             [
              0.8888888888888888,
              "#fdca26"
             ],
             [
              1,
              "#f0f921"
             ]
            ],
            "type": "contour"
           }
          ],
          "contourcarpet": [
           {
            "colorbar": {
             "outlinewidth": 0,
             "ticks": ""
            },
            "type": "contourcarpet"
           }
          ],
          "heatmap": [
           {
            "colorbar": {
             "outlinewidth": 0,
             "ticks": ""
            },
            "colorscale": [
             [
              0,
              "#0d0887"
             ],
             [
              0.1111111111111111,
              "#46039f"
             ],
             [
              0.2222222222222222,
              "#7201a8"
             ],
             [
              0.3333333333333333,
              "#9c179e"
             ],
             [
              0.4444444444444444,
              "#bd3786"
             ],
             [
              0.5555555555555556,
              "#d8576b"
             ],
             [
              0.6666666666666666,
              "#ed7953"
             ],
             [
              0.7777777777777778,
              "#fb9f3a"
             ],
             [
              0.8888888888888888,
              "#fdca26"
             ],
             [
              1,
              "#f0f921"
             ]
            ],
            "type": "heatmap"
           }
          ],
          "heatmapgl": [
           {
            "colorbar": {
             "outlinewidth": 0,
             "ticks": ""
            },
            "colorscale": [
             [
              0,
              "#0d0887"
             ],
             [
              0.1111111111111111,
              "#46039f"
             ],
             [
              0.2222222222222222,
              "#7201a8"
             ],
             [
              0.3333333333333333,
              "#9c179e"
             ],
             [
              0.4444444444444444,
              "#bd3786"
             ],
             [
              0.5555555555555556,
              "#d8576b"
             ],
             [
              0.6666666666666666,
              "#ed7953"
             ],
             [
              0.7777777777777778,
              "#fb9f3a"
             ],
             [
              0.8888888888888888,
              "#fdca26"
             ],
             [
              1,
              "#f0f921"
             ]
            ],
            "type": "heatmapgl"
           }
          ],
          "histogram": [
           {
            "marker": {
             "pattern": {
              "fillmode": "overlay",
              "size": 10,
              "solidity": 0.2
             }
            },
            "type": "histogram"
           }
          ],
          "histogram2d": [
           {
            "colorbar": {
             "outlinewidth": 0,
             "ticks": ""
            },
            "colorscale": [
             [
              0,
              "#0d0887"
             ],
             [
              0.1111111111111111,
              "#46039f"
             ],
             [
              0.2222222222222222,
              "#7201a8"
             ],
             [
              0.3333333333333333,
              "#9c179e"
             ],
             [
              0.4444444444444444,
              "#bd3786"
             ],
             [
              0.5555555555555556,
              "#d8576b"
             ],
             [
              0.6666666666666666,
              "#ed7953"
             ],
             [
              0.7777777777777778,
              "#fb9f3a"
             ],
             [
              0.8888888888888888,
              "#fdca26"
             ],
             [
              1,
              "#f0f921"
             ]
            ],
            "type": "histogram2d"
           }
          ],
          "histogram2dcontour": [
           {
            "colorbar": {
             "outlinewidth": 0,
             "ticks": ""
            },
            "colorscale": [
             [
              0,
              "#0d0887"
             ],
             [
              0.1111111111111111,
              "#46039f"
             ],
             [
              0.2222222222222222,
              "#7201a8"
             ],
             [
              0.3333333333333333,
              "#9c179e"
             ],
             [
              0.4444444444444444,
              "#bd3786"
             ],
             [
              0.5555555555555556,
              "#d8576b"
             ],
             [
              0.6666666666666666,
              "#ed7953"
             ],
             [
              0.7777777777777778,
              "#fb9f3a"
             ],
             [
              0.8888888888888888,
              "#fdca26"
             ],
             [
              1,
              "#f0f921"
             ]
            ],
            "type": "histogram2dcontour"
           }
          ],
          "mesh3d": [
           {
            "colorbar": {
             "outlinewidth": 0,
             "ticks": ""
            },
            "type": "mesh3d"
           }
          ],
          "parcoords": [
           {
            "line": {
             "colorbar": {
              "outlinewidth": 0,
              "ticks": ""
             }
            },
            "type": "parcoords"
           }
          ],
          "pie": [
           {
            "automargin": true,
            "type": "pie"
           }
          ],
          "scatter": [
           {
            "fillpattern": {
             "fillmode": "overlay",
             "size": 10,
             "solidity": 0.2
            },
            "type": "scatter"
           }
          ],
          "scatter3d": [
           {
            "line": {
             "colorbar": {
              "outlinewidth": 0,
              "ticks": ""
             }
            },
            "marker": {
             "colorbar": {
              "outlinewidth": 0,
              "ticks": ""
             }
            },
            "type": "scatter3d"
           }
          ],
          "scattercarpet": [
           {
            "marker": {
             "colorbar": {
              "outlinewidth": 0,
              "ticks": ""
             }
            },
            "type": "scattercarpet"
           }
          ],
          "scattergeo": [
           {
            "marker": {
             "colorbar": {
              "outlinewidth": 0,
              "ticks": ""
             }
            },
            "type": "scattergeo"
           }
          ],
          "scattergl": [
           {
            "marker": {
             "colorbar": {
              "outlinewidth": 0,
              "ticks": ""
             }
            },
            "type": "scattergl"
           }
          ],
          "scattermapbox": [
           {
            "marker": {
             "colorbar": {
              "outlinewidth": 0,
              "ticks": ""
             }
            },
            "type": "scattermapbox"
           }
          ],
          "scatterpolar": [
           {
            "marker": {
             "colorbar": {
              "outlinewidth": 0,
              "ticks": ""
             }
            },
            "type": "scatterpolar"
           }
          ],
          "scatterpolargl": [
           {
            "marker": {
             "colorbar": {
              "outlinewidth": 0,
              "ticks": ""
             }
            },
            "type": "scatterpolargl"
           }
          ],
          "scatterternary": [
           {
            "marker": {
             "colorbar": {
              "outlinewidth": 0,
              "ticks": ""
             }
            },
            "type": "scatterternary"
           }
          ],
          "surface": [
           {
            "colorbar": {
             "outlinewidth": 0,
             "ticks": ""
            },
            "colorscale": [
             [
              0,
              "#0d0887"
             ],
             [
              0.1111111111111111,
              "#46039f"
             ],
             [
              0.2222222222222222,
              "#7201a8"
             ],
             [
              0.3333333333333333,
              "#9c179e"
             ],
             [
              0.4444444444444444,
              "#bd3786"
             ],
             [
              0.5555555555555556,
              "#d8576b"
             ],
             [
              0.6666666666666666,
              "#ed7953"
             ],
             [
              0.7777777777777778,
              "#fb9f3a"
             ],
             [
              0.8888888888888888,
              "#fdca26"
             ],
             [
              1,
              "#f0f921"
             ]
            ],
            "type": "surface"
           }
          ],
          "table": [
           {
            "cells": {
             "fill": {
              "color": "#EBF0F8"
             },
             "line": {
              "color": "white"
             }
            },
            "header": {
             "fill": {
              "color": "#C8D4E3"
             },
             "line": {
              "color": "white"
             }
            },
            "type": "table"
           }
          ]
         },
         "layout": {
          "annotationdefaults": {
           "arrowcolor": "#2a3f5f",
           "arrowhead": 0,
           "arrowwidth": 1
          },
          "autotypenumbers": "strict",
          "coloraxis": {
           "colorbar": {
            "outlinewidth": 0,
            "ticks": ""
           }
          },
          "colorscale": {
           "diverging": [
            [
             0,
             "#8e0152"
            ],
            [
             0.1,
             "#c51b7d"
            ],
            [
             0.2,
             "#de77ae"
            ],
            [
             0.3,
             "#f1b6da"
            ],
            [
             0.4,
             "#fde0ef"
            ],
            [
             0.5,
             "#f7f7f7"
            ],
            [
             0.6,
             "#e6f5d0"
            ],
            [
             0.7,
             "#b8e186"
            ],
            [
             0.8,
             "#7fbc41"
            ],
            [
             0.9,
             "#4d9221"
            ],
            [
             1,
             "#276419"
            ]
           ],
           "sequential": [
            [
             0,
             "#0d0887"
            ],
            [
             0.1111111111111111,
             "#46039f"
            ],
            [
             0.2222222222222222,
             "#7201a8"
            ],
            [
             0.3333333333333333,
             "#9c179e"
            ],
            [
             0.4444444444444444,
             "#bd3786"
            ],
            [
             0.5555555555555556,
             "#d8576b"
            ],
            [
             0.6666666666666666,
             "#ed7953"
            ],
            [
             0.7777777777777778,
             "#fb9f3a"
            ],
            [
             0.8888888888888888,
             "#fdca26"
            ],
            [
             1,
             "#f0f921"
            ]
           ],
           "sequentialminus": [
            [
             0,
             "#0d0887"
            ],
            [
             0.1111111111111111,
             "#46039f"
            ],
            [
             0.2222222222222222,
             "#7201a8"
            ],
            [
             0.3333333333333333,
             "#9c179e"
            ],
            [
             0.4444444444444444,
             "#bd3786"
            ],
            [
             0.5555555555555556,
             "#d8576b"
            ],
            [
             0.6666666666666666,
             "#ed7953"
            ],
            [
             0.7777777777777778,
             "#fb9f3a"
            ],
            [
             0.8888888888888888,
             "#fdca26"
            ],
            [
             1,
             "#f0f921"
            ]
           ]
          },
          "colorway": [
           "#636efa",
           "#EF553B",
           "#00cc96",
           "#ab63fa",
           "#FFA15A",
           "#19d3f3",
           "#FF6692",
           "#B6E880",
           "#FF97FF",
           "#FECB52"
          ],
          "font": {
           "color": "#2a3f5f"
          },
          "geo": {
           "bgcolor": "white",
           "lakecolor": "white",
           "landcolor": "#E5ECF6",
           "showlakes": true,
           "showland": true,
           "subunitcolor": "white"
          },
          "hoverlabel": {
           "align": "left"
          },
          "hovermode": "closest",
          "mapbox": {
           "style": "light"
          },
          "paper_bgcolor": "white",
          "plot_bgcolor": "#E5ECF6",
          "polar": {
           "angularaxis": {
            "gridcolor": "white",
            "linecolor": "white",
            "ticks": ""
           },
           "bgcolor": "#E5ECF6",
           "radialaxis": {
            "gridcolor": "white",
            "linecolor": "white",
            "ticks": ""
           }
          },
          "scene": {
           "xaxis": {
            "backgroundcolor": "#E5ECF6",
            "gridcolor": "white",
            "gridwidth": 2,
            "linecolor": "white",
            "showbackground": true,
            "ticks": "",
            "zerolinecolor": "white"
           },
           "yaxis": {
            "backgroundcolor": "#E5ECF6",
            "gridcolor": "white",
            "gridwidth": 2,
            "linecolor": "white",
            "showbackground": true,
            "ticks": "",
            "zerolinecolor": "white"
           },
           "zaxis": {
            "backgroundcolor": "#E5ECF6",
            "gridcolor": "white",
            "gridwidth": 2,
            "linecolor": "white",
            "showbackground": true,
            "ticks": "",
            "zerolinecolor": "white"
           }
          },
          "shapedefaults": {
           "line": {
            "color": "#2a3f5f"
           }
          },
          "ternary": {
           "aaxis": {
            "gridcolor": "white",
            "linecolor": "white",
            "ticks": ""
           },
           "baxis": {
            "gridcolor": "white",
            "linecolor": "white",
            "ticks": ""
           },
           "bgcolor": "#E5ECF6",
           "caxis": {
            "gridcolor": "white",
            "linecolor": "white",
            "ticks": ""
           }
          },
          "title": {
           "x": 0.05
          },
          "xaxis": {
           "automargin": true,
           "gridcolor": "white",
           "linecolor": "white",
           "ticks": "",
           "title": {
            "standoff": 15
           },
           "zerolinecolor": "white",
           "zerolinewidth": 2
          },
          "yaxis": {
           "automargin": true,
           "gridcolor": "white",
           "linecolor": "white",
           "ticks": "",
           "title": {
            "standoff": 15
           },
           "zerolinecolor": "white",
           "zerolinewidth": 2
          }
         }
        },
        "title": {
         "text": "Gráfico de Dispersão - Variância do IMC: 39.87"
        },
        "xaxis": {
         "anchor": "y",
         "domain": [
          0,
          1
         ],
         "title": {
          "text": "bmi"
         }
        },
        "yaxis": {
         "anchor": "x",
         "domain": [
          0,
          1
         ],
         "title": {
          "text": "index"
         }
        }
       }
      }
     },
     "metadata": {},
     "output_type": "display_data"
    }
   ],
   "source": [
    "fig_var_idade = px.scatter(data_AVC['age'], x='age', y=data_AVC.index, title=f'Gráfico de Dispersão - Variância da Idade: {var_idade:.2f}')\n",
    "fig_var_idade.show()\n",
    "\n",
    "fig_var_glucose = px.scatter(data_AVC['avg_glucose_level'], x='avg_glucose_level', y=data_AVC.index, color= 'avg_glucose_level', title=f'Gráfico de Dispersão - Variância: do nível médio de glicose {var_glicose:.2f}')\n",
    "fig_var_glucose.show()\n",
    "\n",
    "fig_var_idade = px.scatter(data_AVC['bmi'], x='bmi', y=data_AVC.index, color= 'bmi', title=f'Gráfico de Dispersão - Variância do IMC: {var_bmi:.2f}')\n",
    "fig_var_idade.show()"
   ]
  },
  {
   "cell_type": "markdown",
   "metadata": {},
   "source": [
    "### Desvio padrão\n",
    "- É a raiz quadrada da variância e indica a dispersão dos dados em torno da média\n",
    "- Indica a quantidade de variação ou dispersão dos valores em um conjunto de dados"
   ]
  },
  {
   "cell_type": "code",
   "execution_count": 11,
   "metadata": {},
   "outputs": [
    {
     "name": "stdout",
     "output_type": "stream",
     "text": [
      "desvio padrao idade: 12.71\n",
      "desvio padrao nivel medio de glicose: 61.80\n",
      "desvio padrao de IMC: 6.31\n"
     ]
    }
   ],
   "source": [
    "dp_idade = np.std(data_AVC['age'])\n",
    "dp_glicose = np.std(data_AVC['avg_glucose_level'])\n",
    "dp_bmi = np.std(data_AVC['bmi'])\n",
    "\n",
    "print(\"desvio padrao idade: {:.2f}\\ndesvio padrao nivel medio de glicose: {:.2f}\\ndesvio padrao de IMC: {:.2f}\".format(dp_idade, dp_glicose, dp_bmi))"
   ]
  },
  {
   "cell_type": "code",
   "execution_count": 12,
   "metadata": {},
   "outputs": [],
   "source": [
    "media_idade = data_AVC['age'].mean()\n",
    "media_glicose = data_AVC['avg_glucose_level'].mean()\n",
    "media_bmi = data_AVC['bmi'].mean()"
   ]
  },
  {
   "cell_type": "markdown",
   "metadata": {},
   "source": [
    "### Coeficiente de variação\n",
    "- Expressa o desvio padrão como uma porcentagem da média\n",
    "- Permite comparar a dispersão de diferentes conjuntos de dados, mesmo que suas unidades sejam diferentes"
   ]
  },
  {
   "cell_type": "code",
   "execution_count": 13,
   "metadata": {},
   "outputs": [
    {
     "name": "stdout",
     "output_type": "stream",
     "text": [
      "coeficiente de variacao idade: 18.76\n",
      "coeficiente de variacao nivel medio de glicose: 46.62\n",
      "coeficiente de variacao de IMC: 20.72\n"
     ]
    }
   ],
   "source": [
    "cv_idade = (dp_idade / media_idade) * 100\n",
    "cv_glicose = (dp_glicose / media_glicose) * 100\n",
    "cv_bmi = (dp_bmi / media_bmi) * 100\n",
    "\n",
    "print(\"coeficiente de variacao idade: {:.2f}\\ncoeficiente de variacao nivel medio de glicose: {:.2f}\\ncoeficiente de variacao de IMC: {:.2f}\".format(cv_idade, cv_glicose, cv_bmi))\n"
   ]
  }
 ],
 "metadata": {
  "kernelspec": {
   "display_name": "Python 3",
   "language": "python",
   "name": "python3"
  },
  "language_info": {
   "codemirror_mode": {
    "name": "ipython",
    "version": 3
   },
   "file_extension": ".py",
   "mimetype": "text/x-python",
   "name": "python",
   "nbconvert_exporter": "python",
   "pygments_lexer": "ipython3",
   "version": "3.9.2"
  }
 },
 "nbformat": 4,
 "nbformat_minor": 2
}
